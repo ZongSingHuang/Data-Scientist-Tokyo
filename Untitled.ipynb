{
 "cells": [
  {
   "cell_type": "code",
   "execution_count": 1,
   "id": "771efc42",
   "metadata": {},
   "outputs": [],
   "source": [
    "import numpy as np\n",
    "import matplotlib.pyplot as plt\n",
    "\n",
    "x = np.array([1, 2, 3])\n",
    "y1 = np.array([10, 1, 4])\n",
    "y2 = np.array([30, 10, 40])"
   ]
  },
  {
   "cell_type": "markdown",
   "id": "c6b15f5e",
   "metadata": {},
   "source": [
    "### 直方圖"
   ]
  },
  {
   "cell_type": "code",
   "execution_count": 2,
   "id": "d56361ad",
   "metadata": {},
   "outputs": [
    {
     "data": {
      "text/plain": [
       "<BarContainer object of 3 artists>"
      ]
     },
     "execution_count": 2,
     "metadata": {},
     "output_type": "execute_result"
    },
    {
     "data": {
      "image/png": "[encoded data removed]",
      "text/plain": [
       "<Figure size 432x288 with 1 Axes>"
      ]
     },
     "metadata": {
      "needs_background": "light"
     },
     "output_type": "display_data"
    }
   ],
   "source": [
    "plt.figure()\n",
    "plt.bar(x, y1)"
   ]
  },
  {
   "cell_type": "code",
   "execution_count": 3,
   "id": "45869ba9",
   "metadata": {},
   "outputs": [
    {
     "data": {
      "text/plain": [
       "<BarContainer object of 3 artists>"
      ]
     },
     "execution_count": 3,
     "metadata": {},
     "output_type": "execute_result"
    },
    {
     "data": {
      "image/png": "[encoded data removed]",
      "text/plain": [
       "<Figure size 432x288 with 1 Axes>"
      ]
     },
     "metadata": {
      "needs_background": "light"
     },
     "output_type": "display_data"
    }
   ],
   "source": [
    "plt.figure()\n",
    "plt.bar(x, y1, align='edge')"
   ]
  },
  {
   "cell_type": "code",
   "execution_count": 4,
   "id": "f9182e89",
   "metadata": {},
   "outputs": [
    {
     "data": {
      "text/plain": [
       "<BarContainer object of 3 artists>"
      ]
     },
     "execution_count": 4,
     "metadata": {},
     "output_type": "execute_result"
    },
    {
     "data": {
      "image/png": "[encoded data removed]",
      "text/plain": [
       "<Figure size 432x288 with 1 Axes>"
      ]
     },
     "metadata": {
      "needs_background": "light"
     },
     "output_type": "display_data"
    }
   ],
   "source": [
    "plt.figure()\n",
    "plt.bar(x, y1, width=0.1)"
   ]
  },
  {
   "cell_type": "code",
   "execution_count": 5,
   "id": "7cfcba5d",
   "metadata": {},
   "outputs": [
    {
     "data": {
      "text/plain": [
       "([<matplotlib.axis.XTick at 0x1e8fc44af98>,\n",
       "  <matplotlib.axis.XTick at 0x1e8fc44ab38>,\n",
       "  <matplotlib.axis.XTick at 0x1e8fc44a780>],\n",
       " [Text(1, 0, 'Apple'), Text(2, 0, 'Banana'), Text(3, 0, 'Cherry')])"
      ]
     },
     "execution_count": 5,
     "metadata": {},
     "output_type": "execute_result"
    },
    {
     "data": {
      "image/png": "[encoded data removed]",
      "text/plain": [
       "<Figure size 432x288 with 1 Axes>"
      ]
     },
     "metadata": {
      "needs_background": "light"
     },
     "output_type": "display_data"
    }
   ],
   "source": [
    "plt.figure()\n",
    "plt.bar(x, y1)\n",
    "plt.xticks(x, ['Apple', 'Banana', 'Cherry'])"
   ]
  },
  {
   "cell_type": "markdown",
   "id": "fe86e820",
   "metadata": {},
   "source": [
    "### 倒下的直方圖"
   ]
  },
  {
   "cell_type": "code",
   "execution_count": 6,
   "id": "188f557e",
   "metadata": {},
   "outputs": [
    {
     "data": {
      "text/plain": [
       "<BarContainer object of 3 artists>"
      ]
     },
     "execution_count": 6,
     "metadata": {},
     "output_type": "execute_result"
    },
    {
     "data": {
      "image/png": "[encoded data removed]",
      "text/plain": [
       "<Figure size 432x288 with 1 Axes>"
      ]
     },
     "metadata": {
      "needs_background": "light"
     },
     "output_type": "display_data"
    }
   ],
   "source": [
    "plt.figure()\n",
    "plt.barh(x, y1)"
   ]
  },
  {
   "cell_type": "markdown",
   "id": "27aaf403",
   "metadata": {},
   "source": [
    "### 多條並排"
   ]
  },
  {
   "cell_type": "code",
   "execution_count": 7,
   "id": "bbe34a8c",
   "metadata": {},
   "outputs": [
    {
     "data": {
      "text/plain": [
       "<matplotlib.legend.Legend at 0x1e8fc531fd0>"
      ]
     },
     "execution_count": 7,
     "metadata": {},
     "output_type": "execute_result"
    },
    {
     "data": {
      "image/png": "[encoded data removed]",
      "text/plain": [
       "<Figure size 432x288 with 1 Axes>"
      ]
     },
     "metadata": {
      "needs_background": "light"
     },
     "output_type": "display_data"
    }
   ],
   "source": [
    "plt.figure()\n",
    "width = 0.25\n",
    "plt.bar(x, y1, width=width, align='center', color='blue', label='A')\n",
    "plt.bar(x+width, y2, width=width, align='center', color='orange', label='B')\n",
    "plt.legend(loc='best')"
   ]
  },
  {
   "cell_type": "code",
   "execution_count": 8,
   "id": "03690ea4",
   "metadata": {},
   "outputs": [
    {
     "data": {
      "text/plain": [
       "<matplotlib.legend.Legend at 0x1e8fc5b17f0>"
      ]
     },
     "execution_count": 8,
     "metadata": {},
     "output_type": "execute_result"
    },
    {
     "data": {
      "image/png": "[encoded data removed]",
      "text/plain": [
       "<Figure size 432x288 with 1 Axes>"
      ]
     },
     "metadata": {
      "needs_background": "light"
     },
     "output_type": "display_data"
    }
   ],
   "source": [
    "plt.figure()\n",
    "width = 0.25\n",
    "plt.bar(x, y1, width=width, align='center', color='blue', label='A')\n",
    "plt.bar(x+width, y2, width=width, align='center', color='orange', label='B')\n",
    "plt.xticks(x+0.5*width, ['Apple', 'Banana', 'Cherry'])\n",
    "plt.legend(loc='best')"
   ]
  },
  {
   "cell_type": "markdown",
   "id": "813487c6",
   "metadata": {},
   "source": [
    "### 多條重疊"
   ]
  },
  {
   "cell_type": "code",
   "execution_count": null,
   "id": "ffb33d27",
   "metadata": {},
   "outputs": [],
   "source": []
  }
 ],
 "metadata": {
  "kernelspec": {
   "display_name": "Python 3",
   "language": "python",
   "name": "python3"
  },
  "language_info": {
   "codemirror_mode": {
    "name": "ipython",
    "version": 3
   },
   "file_extension": ".py",
   "mimetype": "text/x-python",
   "name": "python",
   "nbconvert_exporter": "python",
   "pygments_lexer": "ipython3",
   "version": "3.6.13"
  }
 },
 "nbformat": 4,
 "nbformat_minor": 5
}
