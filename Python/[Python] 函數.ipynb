{
 "cells": [
  {
   "cell_type": "markdown",
   "id": "d886f92d",
   "metadata": {},
   "source": [
    "### 內置函數"
   ]
  },
  {
   "cell_type": "code",
   "execution_count": 1,
   "id": "7b754f27",
   "metadata": {},
   "outputs": [
    {
     "data": {
      "text/plain": [
       "4"
      ]
     },
     "execution_count": 1,
     "metadata": {},
     "output_type": "execute_result"
    }
   ],
   "source": [
    "a = [1, 2, 3, 4]\n",
    "max(a)"
   ]
  },
  {
   "cell_type": "markdown",
   "id": "c13680ba",
   "metadata": {},
   "source": [
    "### 自訂函數(無變數)"
   ]
  },
  {
   "cell_type": "code",
   "execution_count": 2,
   "id": "9c8de770",
   "metadata": {},
   "outputs": [
    {
     "name": "stdout",
     "output_type": "stream",
     "text": [
      "hellow world\n",
      "demo\n"
     ]
    }
   ],
   "source": [
    "def demo():\n",
    "    print('hellow world')\n",
    "    print('demo')\n",
    "\n",
    "demo()"
   ]
  },
  {
   "cell_type": "markdown",
   "id": "d1958002",
   "metadata": {},
   "source": [
    "### 關鍵字參數"
   ]
  },
  {
   "cell_type": "code",
   "execution_count": 3,
   "id": "74667063",
   "metadata": {},
   "outputs": [
    {
     "name": "stdout",
     "output_type": "stream",
     "text": [
      "[1, 2, 3] {1: 1, 2: 2}\n"
     ]
    }
   ],
   "source": [
    "def demo1(a, b):\n",
    "    print(a, b)\n",
    "\n",
    "demo1(a=[1, 2, 3], b={1:1, 2:2})"
   ]
  },
  {
   "cell_type": "markdown",
   "id": "6b904314",
   "metadata": {},
   "source": [
    "### 位置參數"
   ]
  },
  {
   "cell_type": "code",
   "execution_count": 4,
   "id": "0164d201",
   "metadata": {},
   "outputs": [
    {
     "name": "stdout",
     "output_type": "stream",
     "text": [
      "3\n"
     ]
    }
   ],
   "source": [
    "def sum(a, b):\n",
    "    return a+b\n",
    " \n",
    "print(sum(1, 2))"
   ]
  },
  {
   "cell_type": "markdown",
   "id": "7e5544d3",
   "metadata": {},
   "source": [
    "---"
   ]
  },
  {
   "cell_type": "markdown",
   "id": "582fb252",
   "metadata": {},
   "source": [
    "### 全域變數vs私有變數"
   ]
  },
  {
   "cell_type": "code",
   "execution_count": 5,
   "id": "6528979f",
   "metadata": {},
   "outputs": [
    {
     "name": "stdout",
     "output_type": "stream",
     "text": [
      "2\n",
      "1513206016\n",
      "==========\n",
      "12\n",
      "1513206336\n",
      "==========\n",
      "2\n",
      "1513206016\n"
     ]
    }
   ],
   "source": [
    "x = 1\n",
    "x = x + 1\n",
    "print(x)\n",
    "print(id(x))\n",
    "print('='*10)\n",
    "\n",
    "def demo(a):\n",
    "    a  = a + 10\n",
    "    print(a)\n",
    "    print(id(a))\n",
    "demo(a=x)\n",
    "print('='*10)\n",
    "\n",
    "print(x)\n",
    "print(id(x))"
   ]
  },
  {
   "cell_type": "code",
   "execution_count": 6,
   "id": "0df81812",
   "metadata": {},
   "outputs": [
    {
     "name": "stdout",
     "output_type": "stream",
     "text": [
      "1\n",
      "1513205984\n",
      "==========\n",
      "11\n",
      "1513206304\n",
      "==========\n",
      "11\n",
      "1513206304\n",
      "==========\n"
     ]
    }
   ],
   "source": [
    "z = 1\n",
    "print(z)\n",
    "print(id(z))\n",
    "print('='*10)\n",
    "\n",
    "def demo(a):\n",
    "    global z\n",
    "    z = z + a\n",
    "    print(z)\n",
    "    print(id(z))\n",
    "demo(a=10)\n",
    "print('='*10)\n",
    "\n",
    "print(z)\n",
    "print(id(z))\n",
    "print('='*10)"
   ]
  },
  {
   "cell_type": "code",
   "execution_count": 7,
   "id": "52b10682",
   "metadata": {},
   "outputs": [
    {
     "name": "stdout",
     "output_type": "stream",
     "text": [
      "[1, 2, 3]\n",
      "2000977566216\n",
      "==========\n",
      "[1, 2, 3, 4]\n",
      "2000977566216\n",
      "==========\n",
      "[1, 2, 3, 4]\n",
      "2000977566216\n"
     ]
    }
   ],
   "source": [
    "x = [1, 2, 3]\n",
    "print(x)\n",
    "print(id(x))\n",
    "print('='*10)\n",
    "\n",
    "def demo(a):\n",
    "    a.append(4) # 舊記憶體位置擴增\n",
    "    print(a)\n",
    "    print(id(a))\n",
    "demo(a=x)\n",
    "print('='*10)\n",
    "\n",
    "print(x)\n",
    "print(id(x))"
   ]
  },
  {
   "cell_type": "code",
   "execution_count": 8,
   "id": "dd2483de",
   "metadata": {},
   "outputs": [
    {
     "name": "stdout",
     "output_type": "stream",
     "text": [
      "[1, 2, 3]\n",
      "2000977877000\n",
      "==========\n",
      "[1, 2, 3, 4]\n",
      "2000977875208\n",
      "==========\n",
      "[1, 2, 3]\n",
      "2000977877000\n"
     ]
    }
   ],
   "source": [
    "x = [1, 2, 3]\n",
    "print(x)\n",
    "print(id(x))\n",
    "print('='*10)\n",
    "\n",
    "def demo(a):\n",
    "    a = a + [4] # 新記憶體位置 = 舊記憶體位置 + [4]\n",
    "    print(a)\n",
    "    print(id(a))\n",
    "demo(a=x)\n",
    "print('='*10)\n",
    "\n",
    "print(x)\n",
    "print(id(x))"
   ]
  },
  {
   "cell_type": "markdown",
   "id": "0f2cf2f4",
   "metadata": {},
   "source": [
    "---"
   ]
  },
  {
   "cell_type": "markdown",
   "id": "2526887c",
   "metadata": {},
   "source": [
    "### 可變參數*args"
   ]
  },
  {
   "cell_type": "code",
   "execution_count": 9,
   "id": "87f631cf",
   "metadata": {},
   "outputs": [
    {
     "name": "stdout",
     "output_type": "stream",
     "text": [
      "10\n"
     ]
    }
   ],
   "source": [
    "def add(a,b, c, d):\n",
    "    return a + b + c + d\n",
    "print(add(1, 2, 3, 4))"
   ]
  },
  {
   "cell_type": "code",
   "execution_count": 10,
   "id": "0b595412",
   "metadata": {},
   "outputs": [
    {
     "name": "stdout",
     "output_type": "stream",
     "text": [
      "<class 'tuple'>\n",
      "(1, 2, 3, 4, 5, 6, 7, 8, 9, 10)\n",
      "55\n"
     ]
    }
   ],
   "source": [
    "def add1(*args):\n",
    "    print(type(args))\n",
    "    print(args)\n",
    "    \n",
    "    result = 0\n",
    "    for item in args:\n",
    "        result += item\n",
    "    return result\n",
    "\n",
    "print(add1(1, 2, 3, 4, 5, 6, 7, 8, 9, 10))"
   ]
  },
  {
   "cell_type": "markdown",
   "id": "6829582d",
   "metadata": {},
   "source": [
    "---"
   ]
  },
  {
   "cell_type": "markdown",
   "id": "430a2232",
   "metadata": {},
   "source": [
    "### 可變參數**kwargs"
   ]
  },
  {
   "cell_type": "code",
   "execution_count": 11,
   "id": "4ddfef32",
   "metadata": {},
   "outputs": [
    {
     "name": "stdout",
     "output_type": "stream",
     "text": [
      "<class 'dict'>\n",
      "{'a': 1, 'b': 2, 'c': 3, 'd': 4, 'e': 5, 'f': 6, 'g': 7, 'h': 8, 'i': 9, 'j': 10}\n",
      "55\n"
     ]
    }
   ],
   "source": [
    "def add2(**kwargs):\n",
    "    print(type(kwargs))\n",
    "    print(kwargs)\n",
    "    \n",
    "    result = 0\n",
    "    for key in kwargs.keys():\n",
    "        result += kwargs.get(key)\n",
    "    return result\n",
    "\n",
    "print(add2(a=1, b=2, c=3, d=4, e=5, f=6, g=7, h=8, i=9, j=10))"
   ]
  },
  {
   "cell_type": "code",
   "execution_count": 12,
   "id": "90af1c1c",
   "metadata": {},
   "outputs": [
    {
     "name": "stdout",
     "output_type": "stream",
     "text": [
      "3\n",
      "6\n"
     ]
    }
   ],
   "source": [
    "def add2(**kwargs):\n",
    "    print(kwargs.get('a') + kwargs.get('b'))\n",
    "    \n",
    "def add3(**kwargs):\n",
    "    print(kwargs.get('a') + kwargs.get('b') + kwargs.get('c'))\n",
    "    \n",
    "def check(x, **kwargs):\n",
    "    if x==2:\n",
    "        add2(**kwargs)\n",
    "    if x==3:\n",
    "        add3(**kwargs)\n",
    "\n",
    "check(x=2, a=1, b=2)\n",
    "check(x=3, a=1, b=2, c=3)"
   ]
  },
  {
   "cell_type": "markdown",
   "id": "b7c872b2",
   "metadata": {},
   "source": [
    "---"
   ]
  },
  {
   "cell_type": "markdown",
   "id": "c02915ee",
   "metadata": {},
   "source": [
    "### 默認值"
   ]
  },
  {
   "cell_type": "code",
   "execution_count": 13,
   "id": "8f90fccf",
   "metadata": {},
   "outputs": [
    {
     "name": "stdout",
     "output_type": "stream",
     "text": [
      "1 2\n",
      "3 2\n",
      "1 4\n",
      "3 4\n"
     ]
    }
   ],
   "source": [
    "def demo(a=1, b=2):\n",
    "    print(a, b)\n",
    "demo()\n",
    "demo(a=3)\n",
    "demo(b=4)\n",
    "demo(a=3, b=4)"
   ]
  },
  {
   "cell_type": "code",
   "execution_count": 14,
   "id": "4bf9b2ce",
   "metadata": {},
   "outputs": [
    {
     "name": "stdout",
     "output_type": "stream",
     "text": [
      "1\n",
      "(2, 3, 4)\n",
      "{'5': 5, '6': 6}\n"
     ]
    }
   ],
   "source": [
    "def demo(a, *args, **kwargs):\n",
    "    print(a)\n",
    "    print(args)\n",
    "    print(kwargs)\n",
    "\n",
    "a = 1\n",
    "args = [2, 3, 4]\n",
    "kwargs = {'5':5, '6':6}\n",
    "demo(a, *args, **kwargs)"
   ]
  },
  {
   "cell_type": "code",
   "execution_count": null,
   "id": "34d18913",
   "metadata": {},
   "outputs": [],
   "source": []
  }
 ],
 "metadata": {
  "kernelspec": {
   "display_name": "Python 3",
   "language": "python",
   "name": "python3"
  },
  "language_info": {
   "codemirror_mode": {
    "name": "ipython",
    "version": 3
   },
   "file_extension": ".py",
   "mimetype": "text/x-python",
   "name": "python",
   "nbconvert_exporter": "python",
   "pygments_lexer": "ipython3",
   "version": "3.6.8"
  }
 },
 "nbformat": 4,
 "nbformat_minor": 5
}
