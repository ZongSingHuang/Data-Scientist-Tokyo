{
 "cells": [
  {
   "cell_type": "markdown",
   "id": "0f985c74",
   "metadata": {},
   "source": [
    "### 常見的寫法\n",
    "但是calculation我只想用一次而已，為了這一次就要特地寫個函示感覺好瞎，有沒有更好的寫法"
   ]
  },
  {
   "cell_type": "code",
   "execution_count": 1,
   "id": "7bba5f20",
   "metadata": {},
   "outputs": [
    {
     "name": "stdout",
     "output_type": "stream",
     "text": [
      "10\n"
     ]
    }
   ],
   "source": [
    "def calculation(a, b):\n",
    "    return a + 2*b\n",
    "\n",
    "result = calculation(2, 4)\n",
    "print(result)"
   ]
  },
  {
   "cell_type": "markdown",
   "id": "0da8c8d5",
   "metadata": {},
   "source": [
    "### 建議寫法1\n",
    "這邊的lambda 就是一個免洗筷，用完就扔"
   ]
  },
  {
   "cell_type": "code",
   "execution_count": 2,
   "id": "492b0f10",
   "metadata": {},
   "outputs": [
    {
     "name": "stdout",
     "output_type": "stream",
     "text": [
      "10\n"
     ]
    }
   ],
   "source": [
    "result = (lambda a, b: a + 2*b)(2, 4)\n",
    "print(result)"
   ]
  },
  {
   "cell_type": "markdown",
   "id": "cc84ccac",
   "metadata": {},
   "source": [
    "### 建議寫法2\n",
    "比In [1]還要短，爽~"
   ]
  },
  {
   "cell_type": "code",
   "execution_count": 3,
   "id": "2f73f354",
   "metadata": {},
   "outputs": [
    {
     "data": {
      "text/plain": [
       "10"
      ]
     },
     "execution_count": 3,
     "metadata": {},
     "output_type": "execute_result"
    }
   ],
   "source": [
    "func = lambda a, b: a + 2*b\n",
    "func(2, 4)"
   ]
  },
  {
   "cell_type": "markdown",
   "id": "ea3a574b",
   "metadata": {},
   "source": [
    "---"
   ]
  },
  {
   "cell_type": "code",
   "execution_count": 4,
   "id": "c83599a4",
   "metadata": {},
   "outputs": [],
   "source": [
    "table = [1, 2, 3, 4]"
   ]
  },
  {
   "cell_type": "code",
   "execution_count": 5,
   "id": "2de5ac3f",
   "metadata": {},
   "outputs": [],
   "source": [
    "def calculation(val):\n",
    "    return val**2"
   ]
  },
  {
   "cell_type": "code",
   "execution_count": 6,
   "id": "62230e29",
   "metadata": {},
   "outputs": [
    {
     "data": {
      "text/plain": [
       "[1, 4, 9, 16]"
      ]
     },
     "execution_count": 6,
     "metadata": {},
     "output_type": "execute_result"
    }
   ],
   "source": [
    "result = []\n",
    "for val in table:\n",
    "    result.append(calculation(val))\n",
    "\n",
    "result"
   ]
  },
  {
   "cell_type": "code",
   "execution_count": 7,
   "id": "42250b42",
   "metadata": {},
   "outputs": [
    {
     "data": {
      "text/plain": [
       "[1, 4, 9, 16]"
      ]
     },
     "execution_count": 7,
     "metadata": {},
     "output_type": "execute_result"
    }
   ],
   "source": [
    "list(map(calculation, table))"
   ]
  },
  {
   "cell_type": "code",
   "execution_count": 8,
   "id": "4a2321a5",
   "metadata": {},
   "outputs": [
    {
     "data": {
      "text/plain": [
       "[1, 4, 9, 16]"
      ]
     },
     "execution_count": 8,
     "metadata": {},
     "output_type": "execute_result"
    }
   ],
   "source": [
    "[val**2 for val in table]"
   ]
  },
  {
   "cell_type": "markdown",
   "id": "027d8f12",
   "metadata": {},
   "source": [
    "---"
   ]
  },
  {
   "cell_type": "markdown",
   "id": "0e47abe5",
   "metadata": {},
   "source": [
    "### 參考資料\n",
    "https://sites.google.com/site/ezpythoncolorcourse/lambdafunction"
   ]
  },
  {
   "cell_type": "code",
   "execution_count": null,
   "id": "59601cb4",
   "metadata": {},
   "outputs": [],
   "source": []
  }
 ],
 "metadata": {
  "kernelspec": {
   "display_name": "Python 3",
   "language": "python",
   "name": "python3"
  },
  "language_info": {
   "codemirror_mode": {
    "name": "ipython",
    "version": 3
   },
   "file_extension": ".py",
   "mimetype": "text/x-python",
   "name": "python",
   "nbconvert_exporter": "python",
   "pygments_lexer": "ipython3",
   "version": "3.6.13"
  }
 },
 "nbformat": 4,
 "nbformat_minor": 5
}
