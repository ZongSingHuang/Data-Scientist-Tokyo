{
 "cells": [
  {
   "cell_type": "code",
   "execution_count": 1,
   "id": "19714c77",
   "metadata": {},
   "outputs": [],
   "source": [
    "fruits = ['apple', 'banana', 'cherry', 'dragonfruit', 'emblica']"
   ]
  },
  {
   "cell_type": "markdown",
   "id": "42777e67",
   "metadata": {},
   "source": [
    "***"
   ]
  },
  {
   "cell_type": "markdown",
   "id": "4d296a19",
   "metadata": {},
   "source": [
    "### 常見的寫法\n",
    "藉由當前迴圈數作為水果編號"
   ]
  },
  {
   "cell_type": "code",
   "execution_count": 2,
   "id": "65b713bd",
   "metadata": {},
   "outputs": [
    {
     "name": "stdout",
     "output_type": "stream",
     "text": [
      "編號 0 的水果是 apple\n",
      "編號 1 的水果是 banana\n",
      "編號 2 的水果是 cherry\n",
      "編號 3 的水果是 dragonfruit\n",
      "編號 4 的水果是 emblica\n"
     ]
    }
   ],
   "source": [
    "for i in range(len(fruits)):\n",
    "    print('編號 {idx} 的水果是 {fruit}'.format(idx=i, fruit=fruits[i]))"
   ]
  },
  {
   "cell_type": "markdown",
   "id": "aa5a5296",
   "metadata": {},
   "source": [
    "### 推薦寫法\n",
    "跟上者沒什麼區別，但可讀性大幅提升"
   ]
  },
  {
   "cell_type": "code",
   "execution_count": 3,
   "id": "6209ad03",
   "metadata": {},
   "outputs": [
    {
     "name": "stdout",
     "output_type": "stream",
     "text": [
      "編號 0 的水果是 apple\n",
      "編號 1 的水果是 banana\n",
      "編號 2 的水果是 cherry\n",
      "編號 3 的水果是 dragonfruit\n",
      "編號 4 的水果是 emblica\n"
     ]
    }
   ],
   "source": [
    "for idx, fruit in enumerate(fruits):\n",
    "    print('編號 {idx} 的水果是 {fruit}'.format(idx=idx, fruit=fruit))"
   ]
  },
  {
   "cell_type": "markdown",
   "id": "4ed5c70d",
   "metadata": {},
   "source": [
    "---"
   ]
  },
  {
   "cell_type": "markdown",
   "id": "45c45bdb",
   "metadata": {},
   "source": [
    "### 參考資料\n",
    "https://clay-atlas.com/blog/2019/11/08/python-chinese-function-enumerate/"
   ]
  },
  {
   "cell_type": "code",
   "execution_count": null,
   "id": "a3e4d589",
   "metadata": {},
   "outputs": [],
   "source": []
  }
 ],
 "metadata": {
  "kernelspec": {
   "display_name": "Python 3",
   "language": "python",
   "name": "python3"
  },
  "language_info": {
   "codemirror_mode": {
    "name": "ipython",
    "version": 3
   },
   "file_extension": ".py",
   "mimetype": "text/x-python",
   "name": "python",
   "nbconvert_exporter": "python",
   "pygments_lexer": "ipython3",
   "version": "3.6.13"
  }
 },
 "nbformat": 4,
 "nbformat_minor": 5
}
