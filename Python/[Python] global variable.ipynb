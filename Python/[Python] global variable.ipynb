{
 "cells": [
  {
   "cell_type": "markdown",
   "id": "b6cdd474",
   "metadata": {},
   "source": [
    "### 同個記憶體位置"
   ]
  },
  {
   "cell_type": "code",
   "execution_count": 1,
   "id": "00c4732b",
   "metadata": {},
   "outputs": [
    {
     "name": "stdout",
     "output_type": "stream",
     "text": [
      "[1, 2, 3]\n",
      "0x24eb6faa948\n",
      "==========\n",
      "[1, 2, 3, 4]\n",
      "0x24eb6faa948\n",
      "==========\n",
      "[1, 2, 3, 4]\n",
      "0x24eb6faa948\n",
      "==========\n"
     ]
    }
   ],
   "source": [
    "y = [1, 2, 3]\n",
    "print(y)\n",
    "print(hex(id(y)))\n",
    "print('='*10)\n",
    "\n",
    "def demo(a):\n",
    "    a.append(4) # 同一個記憶體位置\n",
    "    print(a)\n",
    "    print(hex(id(a)))\n",
    "demo(a=y)\n",
    "print('='*10)\n",
    "\n",
    "print(y)\n",
    "print(hex(id(y)))\n",
    "print('='*10)"
   ]
  },
  {
   "cell_type": "markdown",
   "id": "ccacdd69",
   "metadata": {},
   "source": [
    "### 等號代表建立一個新變數"
   ]
  },
  {
   "cell_type": "code",
   "execution_count": 2,
   "id": "5727dd07",
   "metadata": {},
   "outputs": [
    {
     "name": "stdout",
     "output_type": "stream",
     "text": [
      "[1, 2, 3]\n",
      "0x24eb6f98e48\n",
      "==========\n",
      "[1, 2, 3, 4]\n",
      "0x24eb6f514c8\n",
      "==========\n",
      "[1, 2, 3]\n",
      "0x24eb6f98e48\n",
      "==========\n"
     ]
    }
   ],
   "source": [
    "y = [1, 2, 3]\n",
    "print(y)\n",
    "print(hex(id(y)))\n",
    "print('='*10)\n",
    "\n",
    "def demo(a):\n",
    "    a = a + [4] # 重新建立一個a，與y有區別\n",
    "    print(a)\n",
    "    print(hex(id(a)))\n",
    "demo(a=y)\n",
    "print('='*10)\n",
    "\n",
    "print(y)\n",
    "print(hex(id(y)))\n",
    "print('='*10)"
   ]
  },
  {
   "cell_type": "markdown",
   "id": "d88d07a4",
   "metadata": {},
   "source": [
    "### global"
   ]
  },
  {
   "cell_type": "code",
   "execution_count": 3,
   "id": "49731611",
   "metadata": {},
   "outputs": [
    {
     "name": "stdout",
     "output_type": "stream",
     "text": [
      "1\n",
      "0x63c4b0e0\n",
      "==========\n",
      "11\n",
      "0x63c4b220\n",
      "==========\n",
      "11\n",
      "0x63c4b220\n",
      "==========\n"
     ]
    }
   ],
   "source": [
    "z = 1\n",
    "print(z)\n",
    "print(hex(id(z)))\n",
    "print('='*10)\n",
    "\n",
    "def demo(a):\n",
    "    global z # 同步\n",
    "    z = z + a\n",
    "    print(z)\n",
    "    print(hex(id(z)))\n",
    "demo(a=10)\n",
    "print('='*10)\n",
    "\n",
    "print(z)\n",
    "print(hex(id(z)))\n",
    "print('='*10)"
   ]
  },
  {
   "cell_type": "code",
   "execution_count": null,
   "id": "a13ec788",
   "metadata": {},
   "outputs": [],
   "source": []
  }
 ],
 "metadata": {
  "kernelspec": {
   "display_name": "Python 3",
   "language": "python",
   "name": "python3"
  },
  "language_info": {
   "codemirror_mode": {
    "name": "ipython",
    "version": 3
   },
   "file_extension": ".py",
   "mimetype": "text/x-python",
   "name": "python",
   "nbconvert_exporter": "python",
   "pygments_lexer": "ipython3",
   "version": "3.6.8"
  }
 },
 "nbformat": 4,
 "nbformat_minor": 5
}
