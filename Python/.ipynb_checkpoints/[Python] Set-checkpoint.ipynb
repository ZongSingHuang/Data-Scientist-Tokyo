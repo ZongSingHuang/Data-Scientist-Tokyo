{
 "cells": [
  {
   "cell_type": "markdown",
   "id": "78baa781",
   "metadata": {},
   "source": [
    "### 宣告\n",
    "- 只能存不重複的元素\n",
    "- 因為是無序的，所以每次編譯後的順序都會不同"
   ]
  },
  {
   "cell_type": "code",
   "execution_count": 7,
   "id": "2751fd6d",
   "metadata": {},
   "outputs": [
    {
     "name": "stdout",
     "output_type": "stream",
     "text": [
      "{1, 2, 3, 4, 5} <class 'set'>\n",
      "{1, 2, 3, 4, 5} <class 'set'>\n"
     ]
    }
   ],
   "source": [
    "a = {1, 2, 3, 2, 4, 5, 2}\n",
    "b = set([1, 2, 3, 2, 4, 5, 2])\n",
    "print(a, type(a))\n",
    "print(b, type(b))"
   ]
  },
  {
   "cell_type": "code",
   "execution_count": 3,
   "id": "1e56da2b",
   "metadata": {},
   "outputs": [
    {
     "name": "stdout",
     "output_type": "stream",
     "text": [
      "{1, 2, 3, 4, 5}\n",
      "{1, 2, 3, 4, 5}\n"
     ]
    }
   ],
   "source": [
    "s1.add(5)\n",
    "print(s1)\n",
    "\n",
    "s1.add(5)\n",
    "print(s1)"
   ]
  },
  {
   "cell_type": "code",
   "execution_count": 4,
   "id": "77aa9a6d",
   "metadata": {},
   "outputs": [
    {
     "name": "stdout",
     "output_type": "stream",
     "text": [
      "{1, 2, 3, 4}\n"
     ]
    }
   ],
   "source": [
    "s1.remove(5)\n",
    "print(s1)\n",
    "\n",
    "# 因為找不到，所以會報錯\n",
    "#s1.remove(8)\n",
    "#print(s1)"
   ]
  },
  {
   "cell_type": "code",
   "execution_count": 5,
   "id": "41c2411b",
   "metadata": {},
   "outputs": [
    {
     "name": "stdout",
     "output_type": "stream",
     "text": [
      "{'1', '5', '4', '2', '3'}\n"
     ]
    }
   ],
   "source": [
    "a = '1234512'\n",
    "print(set(a))"
   ]
  },
  {
   "cell_type": "code",
   "execution_count": 6,
   "id": "995d01dd",
   "metadata": {},
   "outputs": [
    {
     "name": "stdout",
     "output_type": "stream",
     "text": [
      "交集: {3, 4}\n",
      "聯集: {1, 2, 3, 4, 5, 6}\n",
      "對稱差集: {1, 2, 5, 6}\n",
      "差集1: {1, 2}\n",
      "差集2: {5, 6}\n"
     ]
    }
   ],
   "source": [
    "s1 = {1, 2, 3, 4}\n",
    "s2 = {3, 4, 5, 6}\n",
    "\n",
    "print('交集:', s1 & s2)\n",
    "print('聯集:', s1 | s2)\n",
    "print('對稱差集:', s1 ^ s2)\n",
    "print('差集1:', s1 - s2)\n",
    "print('差集2:', s2 - s1)"
   ]
  },
  {
   "cell_type": "markdown",
   "id": "c8e128b4",
   "metadata": {},
   "source": [
    "### 參考資料\n",
    "http://www.cxyzjd.com/article/weixin_43657383/109552381"
   ]
  }
 ],
 "metadata": {
  "kernelspec": {
   "display_name": "Python 3",
   "language": "python",
   "name": "python3"
  },
  "language_info": {
   "codemirror_mode": {
    "name": "ipython",
    "version": 3
   },
   "file_extension": ".py",
   "mimetype": "text/x-python",
   "name": "python",
   "nbconvert_exporter": "python",
   "pygments_lexer": "ipython3",
   "version": "3.6.8"
  }
 },
 "nbformat": 4,
 "nbformat_minor": 5
}
