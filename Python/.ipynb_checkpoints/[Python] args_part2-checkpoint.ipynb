{
 "cells": [
  {
   "cell_type": "markdown",
   "id": "93cf4c24",
   "metadata": {},
   "source": [
    "### 能不能更簡單點"
   ]
  },
  {
   "cell_type": "code",
   "execution_count": 1,
   "id": "730e0dc9",
   "metadata": {},
   "outputs": [
    {
     "name": "stdout",
     "output_type": "stream",
     "text": [
      "9\n"
     ]
    }
   ],
   "source": [
    "def add(a, b, c):\n",
    "    return (a+b)*c\n",
    "\n",
    "print(add(a=1, b=2, c=3))"
   ]
  },
  {
   "cell_type": "markdown",
   "id": "f352b71c",
   "metadata": {},
   "source": [
    "### **kwargs\n",
    "- kwargs都是dict型別"
   ]
  },
  {
   "cell_type": "code",
   "execution_count": 2,
   "id": "17677f81",
   "metadata": {},
   "outputs": [
    {
     "name": "stdout",
     "output_type": "stream",
     "text": [
      "{'a': 1, 'b': 2, 'c': 3}\n",
      "<class 'dict'>\n"
     ]
    }
   ],
   "source": [
    "def add(**kwargs):\n",
    "    print(kwargs)\n",
    "    print(type(kwargs))\n",
    "\n",
    "add(a=1, b=2, c=3)"
   ]
  },
  {
   "cell_type": "markdown",
   "id": "0a839f54",
   "metadata": {},
   "source": [
    "- 不一定要取kwargs，也可以叫aaaa，反正有掛星號就好"
   ]
  },
  {
   "cell_type": "code",
   "execution_count": 3,
   "id": "41c20f6e",
   "metadata": {},
   "outputs": [
    {
     "name": "stdout",
     "output_type": "stream",
     "text": [
      "{'a': 1, 'b': 2, 'c': 3}\n",
      "<class 'dict'>\n"
     ]
    }
   ],
   "source": [
    "def add(**aaa):\n",
    "    print(aaa)\n",
    "    print(type(aaa))\n",
    "\n",
    "add(a=1, b=2, c=3)"
   ]
  },
  {
   "cell_type": "markdown",
   "id": "849f9859",
   "metadata": {},
   "source": [
    "問題解決"
   ]
  },
  {
   "cell_type": "code",
   "execution_count": 4,
   "id": "021783e7",
   "metadata": {},
   "outputs": [
    {
     "name": "stdout",
     "output_type": "stream",
     "text": [
      "3\n",
      "9\n",
      "0\n",
      "0\n"
     ]
    }
   ],
   "source": [
    "def test2(a, b):\n",
    "    return a+b\n",
    "def test3(a, b, c):\n",
    "    return(a+b)*c\n",
    "\n",
    "def add(x, **kwargs):\n",
    "    if x==2:\n",
    "        return test2(**kwargs)\n",
    "    elif x==3:\n",
    "        return test3(**kwargs)\n",
    "    else:\n",
    "        return 0\n",
    "\n",
    "print(add(x=2, a=1, b=2))\n",
    "print(add(x=3, a=1, b=2, c=3))\n",
    "print(add(x=4, a=1, b=2, c=3))\n",
    "print(add(x=5))"
   ]
  },
  {
   "cell_type": "code",
   "execution_count": null,
   "id": "8ac47f06",
   "metadata": {},
   "outputs": [],
   "source": []
  }
 ],
 "metadata": {
  "kernelspec": {
   "display_name": "Python 3",
   "language": "python",
   "name": "python3"
  },
  "language_info": {
   "codemirror_mode": {
    "name": "ipython",
    "version": 3
   },
   "file_extension": ".py",
   "mimetype": "text/x-python",
   "name": "python",
   "nbconvert_exporter": "python",
   "pygments_lexer": "ipython3",
   "version": "3.6.8"
  }
 },
 "nbformat": 4,
 "nbformat_minor": 5
}
