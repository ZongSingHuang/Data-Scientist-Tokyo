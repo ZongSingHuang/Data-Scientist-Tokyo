{
 "cells": [
  {
   "cell_type": "markdown",
   "id": "6f579e09",
   "metadata": {},
   "source": [
    "### 宣告\n",
    "- 不可改變的數據類型才能作為key，也就是說有append、insert、remove的都不行"
   ]
  },
  {
   "cell_type": "code",
   "execution_count": 7,
   "id": "4445dadf",
   "metadata": {},
   "outputs": [
    {
     "name": "stdout",
     "output_type": "stream",
     "text": [
      "{'a': 1, 'b': 2, 'c': 'a'} <class 'dict'>\n",
      "{'a': 1, 'b': 2, 'c': 'a'} <class 'dict'>\n"
     ]
    }
   ],
   "source": [
    "a = {'a':1, 'b': 2, 'c': 'a'}\n",
    "c = dict(a=1, b=2, c='a')\n",
    "print(a, type(a))\n",
    "print(c, type(c))"
   ]
  },
  {
   "cell_type": "code",
   "execution_count": 2,
   "id": "025539e9",
   "metadata": {},
   "outputs": [],
   "source": [
    "d = {'Name': 'Jack',\n",
    "    'Age':9,\n",
    "    'Grade':5}"
   ]
  },
  {
   "cell_type": "code",
   "execution_count": 3,
   "id": "0dd3e7f6",
   "metadata": {},
   "outputs": [
    {
     "name": "stdout",
     "output_type": "stream",
     "text": [
      "Jack\n",
      "Jack\n",
      "None\n",
      "dict_keys(['Name', 'Age', 'Grade'])\n",
      "dict_values(['Jack', 9, 5])\n",
      "dict_items([('Name', 'Jack'), ('Age', 9), ('Grade', 5)])\n",
      "Jack\n",
      "{'Age': 9, 'Grade': 5}\n",
      "{}\n"
     ]
    }
   ],
   "source": [
    "# 取值(會報錯)\n",
    "print(d['Name'])\n",
    "#print(d['name'])\n",
    "\n",
    "# 取值(不會報錯)\n",
    "print(d.get('Name'))\n",
    "print(d.get('name'))\n",
    "\n",
    "# 所有key\n",
    "print(d.keys())\n",
    "# 所有值\n",
    "print(d.values())\n",
    "# 所有項\n",
    "print(d.items())\n",
    "\n",
    "# 提取不放回\n",
    "aaa = d.pop('Name')\n",
    "print(aaa)\n",
    "print(d)\n",
    "\n",
    "# 清空\n",
    "d.clear()\n",
    "print(d)"
   ]
  },
  {
   "cell_type": "code",
   "execution_count": 4,
   "id": "f4f56138",
   "metadata": {},
   "outputs": [
    {
     "name": "stdout",
     "output_type": "stream",
     "text": [
      "{1: 8, 2: 2, 4: 4}\n"
     ]
    }
   ],
   "source": [
    "# 擴增1\n",
    "c = {1:1, \n",
    "     2:2}\n",
    "c[1] = 8\n",
    "c[4] = 4\n",
    "print(c)"
   ]
  },
  {
   "cell_type": "code",
   "execution_count": 5,
   "id": "3e7a746e",
   "metadata": {},
   "outputs": [
    {
     "name": "stdout",
     "output_type": "stream",
     "text": [
      "{1: 8, 2: 2, 4: 4}\n"
     ]
    }
   ],
   "source": [
    "# 擴增2\n",
    "c = {1:1, 2:2}\n",
    "d = {1:8, 4:4}\n",
    "c.update(d)\n",
    "print(c)"
   ]
  },
  {
   "cell_type": "code",
   "execution_count": 6,
   "id": "77429d0f",
   "metadata": {},
   "outputs": [
    {
     "name": "stdout",
     "output_type": "stream",
     "text": [
      "{1: 8, 2: 2, 4: 4}\n"
     ]
    }
   ],
   "source": [
    "# 擴增3\n",
    "c = {1:1, 2:2}\n",
    "d = {1:8, 4:4}\n",
    "e = {**c, **d}\n",
    "print(e)"
   ]
  },
  {
   "cell_type": "code",
   "execution_count": null,
   "id": "84c0b855",
   "metadata": {},
   "outputs": [],
   "source": []
  }
 ],
 "metadata": {
  "kernelspec": {
   "display_name": "Python 3",
   "language": "python",
   "name": "python3"
  },
  "language_info": {
   "codemirror_mode": {
    "name": "ipython",
    "version": 3
   },
   "file_extension": ".py",
   "mimetype": "text/x-python",
   "name": "python",
   "nbconvert_exporter": "python",
   "pygments_lexer": "ipython3",
   "version": "3.6.8"
  }
 },
 "nbformat": 4,
 "nbformat_minor": 5
}
