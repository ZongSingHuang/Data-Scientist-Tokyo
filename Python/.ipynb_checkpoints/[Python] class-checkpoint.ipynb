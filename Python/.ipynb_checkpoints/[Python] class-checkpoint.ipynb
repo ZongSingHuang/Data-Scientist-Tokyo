{
 "cells": [
  {
   "cell_type": "markdown",
   "id": "e70cae6b",
   "metadata": {},
   "source": [
    "### 空的class"
   ]
  },
  {
   "cell_type": "code",
   "execution_count": 1,
   "id": "0075782b",
   "metadata": {},
   "outputs": [
    {
     "data": {
      "text/plain": [
       "__main__.myclass"
      ]
     },
     "execution_count": 1,
     "metadata": {},
     "output_type": "execute_result"
    }
   ],
   "source": [
    "class myclass():\n",
    "    pass\n",
    "\n",
    "aaa = myclass()\n",
    "type(aaa)"
   ]
  },
  {
   "cell_type": "markdown",
   "id": "ac0ba048",
   "metadata": {},
   "source": [
    "### 常見的class架構"
   ]
  },
  {
   "cell_type": "code",
   "execution_count": 2,
   "id": "b907843d",
   "metadata": {},
   "outputs": [
    {
     "name": "stdout",
     "output_type": "stream",
     "text": [
      "沙拉\n",
      "前菜: 沙拉\n",
      "主菜: 牛排\n",
      "甜點: 蛋糕\n",
      "年紀: 18\n",
      "人數: 3\n",
      "==========\n",
      "['__class__', '__delattr__', '__dict__', '__dir__', '__doc__', '__eq__', '__format__', '__ge__', '__getattribute__', '__gt__', '__hash__', '__init__', '__init_subclass__', '__le__', '__lt__', '__module__', '__ne__', '__new__', '__reduce__', '__reduce_ex__', '__repr__', '__setattr__', '__sizeof__', '__str__', '__subclasshook__', '__weakref__', '_age', '_myclass__people', 'appetizer', 'check_orfer', 'dessert', 'main_course', 'set_var']\n"
     ]
    }
   ],
   "source": [
    "class myclass():\n",
    "    # 方法:初始化\n",
    "    def __init__(self, appetizer, main_course, dessert):\n",
    "        self.appetizer = appetizer # 屬性1\n",
    "        self.main_course = main_course # 屬性2\n",
    "        self.dessert = dessert # 屬性3\n",
    "        self._age = 18 # 受保護的屬性1(無強制力，還是可以從外部直接訪問+修改)\n",
    "        self.__people = 3 # 受保護的屬性2(有強制力，無法從外部直接修改+修改)\n",
    "    \n",
    "    # 方法:自訂(透過內部方法訪問「受保護的屬性2」)\n",
    "    def check_orfer(self):\n",
    "        print('前菜:', self.appetizer)\n",
    "        print('主菜:', self.main_course)\n",
    "        print('甜點:', self.dessert)\n",
    "        print('年紀:', self._age)\n",
    "        print('人數:', self.__people)\n",
    "    \n",
    "    # 方法:自訂(透過內部方法修改「受保護的屬性2」)\n",
    "    def set_var(self, value):\n",
    "        self.__people = value\n",
    "\n",
    "menu = myclass('沙拉', '牛排', '蛋糕') # 建立class並且賦值\n",
    "print(menu.appetizer) # 呼叫屬性\n",
    "menu.check_orfer() # 呼叫方法\n",
    "print('='*10)\n",
    "print(dir(menu)) # __people被改名成_myclass__people，所以沒辦法直接修改"
   ]
  },
  {
   "cell_type": "code",
   "execution_count": 3,
   "id": "ce292bb6",
   "metadata": {},
   "outputs": [
    {
     "name": "stdout",
     "output_type": "stream",
     "text": [
      "牛排\n",
      "魚排\n",
      "==========\n",
      "18\n",
      "30\n",
      "==========\n"
     ]
    }
   ],
   "source": [
    "print(menu.main_course)\n",
    "menu.main_course = '魚排'\n",
    "print(menu.main_course)\n",
    "print('='*10)\n",
    "print(menu._age)\n",
    "menu._age = 30\n",
    "print(menu._age)\n",
    "print('='*10)\n",
    "#print(menu.__people) # 無法訪問，除非使用menu._myclass__people\n",
    "#menu.__people = 100 # 不可修改，除非使用menu._myclass__people"
   ]
  },
  {
   "cell_type": "code",
   "execution_count": 4,
   "id": "e26141e5",
   "metadata": {},
   "outputs": [
    {
     "name": "stdout",
     "output_type": "stream",
     "text": [
      "前菜: 沙拉\n",
      "主菜: 魚排\n",
      "甜點: 蛋糕\n",
      "年紀: 30\n",
      "人數: 3\n",
      "==========\n",
      "前菜: 沙拉\n",
      "主菜: 魚排\n",
      "甜點: 蛋糕\n",
      "年紀: 30\n",
      "人數: 100\n"
     ]
    }
   ],
   "source": [
    "menu.check_orfer()\n",
    "menu.set_var(100)\n",
    "print('='*10)\n",
    "menu.check_orfer()"
   ]
  },
  {
   "cell_type": "code",
   "execution_count": null,
   "id": "2ef3eb81",
   "metadata": {},
   "outputs": [],
   "source": []
  }
 ],
 "metadata": {
  "kernelspec": {
   "display_name": "Python 3",
   "language": "python",
   "name": "python3"
  },
  "language_info": {
   "codemirror_mode": {
    "name": "ipython",
    "version": 3
   },
   "file_extension": ".py",
   "mimetype": "text/x-python",
   "name": "python",
   "nbconvert_exporter": "python",
   "pygments_lexer": "ipython3",
   "version": "3.6.8"
  }
 },
 "nbformat": 4,
 "nbformat_minor": 5
}
