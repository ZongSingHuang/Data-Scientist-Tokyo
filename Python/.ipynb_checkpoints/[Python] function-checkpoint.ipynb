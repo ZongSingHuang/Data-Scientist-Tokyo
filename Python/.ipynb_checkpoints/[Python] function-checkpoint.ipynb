{
 "cells": [
  {
   "cell_type": "markdown",
   "id": "cd781a70",
   "metadata": {},
   "source": [
    "- 在class裡面的def name(parameter):... => 方法(method)\n",
    "- 不在class裡面的def name(parameter):... => 函數(function)"
   ]
  },
  {
   "cell_type": "markdown",
   "id": "c0fa75ad",
   "metadata": {},
   "source": [
    "### Python內建函數"
   ]
  },
  {
   "cell_type": "code",
   "execution_count": 1,
   "id": "4a6f2ab9",
   "metadata": {},
   "outputs": [
    {
     "name": "stdout",
     "output_type": "stream",
     "text": [
      "4\n"
     ]
    }
   ],
   "source": [
    "a = [1, 2, 3, 4]\n",
    "print(max(a))"
   ]
  },
  {
   "cell_type": "markdown",
   "id": "887852e4",
   "metadata": {},
   "source": [
    "### 自訂函數"
   ]
  },
  {
   "cell_type": "code",
   "execution_count": 2,
   "id": "9f6d4211",
   "metadata": {},
   "outputs": [
    {
     "name": "stdout",
     "output_type": "stream",
     "text": [
      "123\n"
     ]
    }
   ],
   "source": [
    "def demo1():\n",
    "    print('123')\n",
    "\n",
    "demo1()"
   ]
  },
  {
   "cell_type": "code",
   "execution_count": 3,
   "id": "3c220987",
   "metadata": {},
   "outputs": [
    {
     "name": "stdout",
     "output_type": "stream",
     "text": [
      "5.0\n",
      "0.2\n"
     ]
    }
   ],
   "source": [
    "def demo2(a, b):\n",
    "    return a/b\n",
    "\n",
    "print(demo2(10, 2))\n",
    "print(demo2(b=10, a=2))\n",
    "#demo2(10, '2') # 會報錯"
   ]
  },
  {
   "cell_type": "markdown",
   "id": "da0b0a8b",
   "metadata": {},
   "source": [
    "### 順序\n",
    "沒默認值->有默認值->**kwargs"
   ]
  },
  {
   "cell_type": "code",
   "execution_count": 4,
   "id": "e048c4fd",
   "metadata": {},
   "outputs": [
    {
     "name": "stdout",
     "output_type": "stream",
     "text": [
      "5\n",
      "True\n",
      "{'c': 3, 'd': 5}\n"
     ]
    }
   ],
   "source": [
    "def test(a, b=False, **kwargs):\n",
    "    print(a)\n",
    "    print(b)\n",
    "    print(kwargs)\n",
    "\n",
    "test(5, b=True, c=3, d=5)"
   ]
  },
  {
   "cell_type": "markdown",
   "id": "e67ccaa1",
   "metadata": {},
   "source": [
    "### 遞迴"
   ]
  },
  {
   "cell_type": "code",
   "execution_count": 5,
   "id": "766cdcf7",
   "metadata": {},
   "outputs": [
    {
     "name": "stdout",
     "output_type": "stream",
     "text": [
      "120\n"
     ]
    }
   ],
   "source": [
    "# n! = 1*2*3*4*...*(n-1)\n",
    "def test(n):\n",
    "    result = 1\n",
    "    for item in range(1, n+1):\n",
    "        result = result * item\n",
    "    return result\n",
    "\n",
    "print(test(5))"
   ]
  },
  {
   "cell_type": "code",
   "execution_count": 6,
   "id": "6dccbc0a",
   "metadata": {},
   "outputs": [
    {
     "name": "stdout",
     "output_type": "stream",
     "text": [
      "120\n"
     ]
    }
   ],
   "source": [
    "def test(n):\n",
    "    if n==1:\n",
    "        return n\n",
    "    else:\n",
    "        return n*test(n-1)\n",
    "\n",
    "print(test(5))"
   ]
  },
  {
   "cell_type": "markdown",
   "id": "55ecbed0",
   "metadata": {},
   "source": [
    "### 參考資料\n",
    "- https://medium.com/ccclub/ccclub-python-for-beginners-tutorial-11ed5d300d3d"
   ]
  }
 ],
 "metadata": {
  "kernelspec": {
   "display_name": "Python 3",
   "language": "python",
   "name": "python3"
  },
  "language_info": {
   "codemirror_mode": {
    "name": "ipython",
    "version": 3
   },
   "file_extension": ".py",
   "mimetype": "text/x-python",
   "name": "python",
   "nbconvert_exporter": "python",
   "pygments_lexer": "ipython3",
   "version": "3.6.8"
  }
 },
 "nbformat": 4,
 "nbformat_minor": 5
}
