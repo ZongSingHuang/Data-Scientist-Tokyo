{
 "cells": [
  {
   "cell_type": "markdown",
   "id": "2eef3bc1",
   "metadata": {},
   "source": [
    "### if語句"
   ]
  },
  {
   "cell_type": "code",
   "execution_count": 1,
   "id": "f75efa37",
   "metadata": {},
   "outputs": [
    {
     "name": "stdout",
     "output_type": "stream",
     "text": [
      "a>0\n",
      "結束\n"
     ]
    }
   ],
   "source": [
    "a = 8\n",
    "\n",
    "if a>0:\n",
    "    print('a>0')\n",
    "print('結束')"
   ]
  },
  {
   "cell_type": "markdown",
   "id": "a8f5a72d",
   "metadata": {},
   "source": [
    "### if...else...語句"
   ]
  },
  {
   "cell_type": "code",
   "execution_count": 2,
   "id": "af21a8e3",
   "metadata": {},
   "outputs": [
    {
     "name": "stdout",
     "output_type": "stream",
     "text": [
      "a<10\n",
      "結束\n"
     ]
    }
   ],
   "source": [
    "a = 8\n",
    "\n",
    "if a>10:\n",
    "    print('a>10')\n",
    "else:\n",
    "    print('a<10')\n",
    "print('結束')"
   ]
  },
  {
   "cell_type": "markdown",
   "id": "9fbcd7bc",
   "metadata": {},
   "source": [
    "### if...elif...else語句"
   ]
  },
  {
   "cell_type": "code",
   "execution_count": 3,
   "id": "f34e643a",
   "metadata": {},
   "outputs": [
    {
     "name": "stdout",
     "output_type": "stream",
     "text": [
      "0<a<10\n",
      "結束\n"
     ]
    }
   ],
   "source": [
    "a = 8\n",
    "\n",
    "if a>10:\n",
    "    print('a>10')\n",
    "elif a<0:\n",
    "    print('a<0')\n",
    "else:\n",
    "    print('0<a<10')\n",
    "print('結束')"
   ]
  }
 ],
 "metadata": {
  "kernelspec": {
   "display_name": "Python 3",
   "language": "python",
   "name": "python3"
  },
  "language_info": {
   "codemirror_mode": {
    "name": "ipython",
    "version": 3
   },
   "file_extension": ".py",
   "mimetype": "text/x-python",
   "name": "python",
   "nbconvert_exporter": "python",
   "pygments_lexer": "ipython3",
   "version": "3.6.8"
  }
 },
 "nbformat": 4,
 "nbformat_minor": 5
}
