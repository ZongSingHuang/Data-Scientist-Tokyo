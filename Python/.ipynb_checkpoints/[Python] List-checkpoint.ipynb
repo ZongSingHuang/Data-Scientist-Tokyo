{
 "cells": [
  {
   "cell_type": "markdown",
   "id": "98ddf36b",
   "metadata": {},
   "source": [
    "### 宣告"
   ]
  },
  {
   "cell_type": "code",
   "execution_count": 9,
   "id": "b6ce4136",
   "metadata": {},
   "outputs": [
    {
     "name": "stdout",
     "output_type": "stream",
     "text": [
      "[1, 2, 3] <class 'list'>\n",
      "[1, 'abc', 2.0, ['a', 'b', 'c']] <class 'list'>\n",
      "[1, 2, 3] <class 'list'>\n"
     ]
    }
   ],
   "source": [
    "a = [1, 2, 3]\n",
    "b = [1, 'abc', 2.0, ['a', 'b', 'c']]\n",
    "c = list([1, 2, 3])\n",
    "print(a, type(a))\n",
    "print(b, type(b))\n",
    "print(c, type(c))"
   ]
  },
  {
   "cell_type": "markdown",
   "id": "bc41c34b",
   "metadata": {},
   "source": [
    "### 切片"
   ]
  },
  {
   "cell_type": "code",
   "execution_count": 3,
   "id": "1920ce0d",
   "metadata": {},
   "outputs": [
    {
     "name": "stdout",
     "output_type": "stream",
     "text": [
      "2\n",
      "[2, 3]\n",
      "3\n"
     ]
    }
   ],
   "source": [
    "print(a[1])\n",
    "print(a[1:])\n",
    "print(a[-1])"
   ]
  },
  {
   "cell_type": "markdown",
   "id": "40f5452d",
   "metadata": {},
   "source": [
    "### 基本操作"
   ]
  },
  {
   "cell_type": "code",
   "execution_count": 4,
   "id": "bdd64fe2",
   "metadata": {},
   "outputs": [
    {
     "name": "stdout",
     "output_type": "stream",
     "text": [
      "長度= 7\n",
      "最大= 11\n",
      "最小= -4\n",
      "反向= [3, 11, 7, 3, -4, 1, 9]\n",
      "3總共出現: 2\n",
      "排序: [11, 9, 7, 3, 3, 1, -4]\n",
      "排序: [-4, 1, 3, 3, 7, 9, 11]\n"
     ]
    }
   ],
   "source": [
    "list1 = [9, 1, -4, 3, 7, 11, 3]\n",
    "\n",
    "print('長度=', len(list1))\n",
    "print('最大=', max(list1))\n",
    "print('最小=', min(list1))\n",
    "print('反向=', list1[::-1])\n",
    "print('3總共出現:', list1.count(3))\n",
    "\n",
    "list1.sort(reverse=True)\n",
    "print('排序:', list1)\n",
    "\n",
    "list1.sort(reverse=False)\n",
    "print('排序:', list1)"
   ]
  },
  {
   "cell_type": "code",
   "execution_count": 5,
   "id": "fa1e3751",
   "metadata": {},
   "outputs": [
    {
     "name": "stdout",
     "output_type": "stream",
     "text": [
      "['a', 'c', 'd', 'e']\n",
      "['a', 'b', 'c', 'd', 'e']\n",
      "['a', 'c', 'd', 'e']\n",
      "['1', 'c', 'd', 'e']\n"
     ]
    }
   ],
   "source": [
    "list2 = ['a', 'c', 'd']\n",
    "\n",
    "# 擴增\n",
    "list2.append('e')\n",
    "print(list2)\n",
    "\n",
    "# 插入\n",
    "list2.insert(1, 'b')\n",
    "print(list2)\n",
    "\n",
    "# 移除\n",
    "list2.remove('b')\n",
    "print(list2)\n",
    "\n",
    "# 賦值\n",
    "list2[0] = '1'\n",
    "print(list2)"
   ]
  },
  {
   "cell_type": "code",
   "execution_count": null,
   "id": "020d546e",
   "metadata": {},
   "outputs": [],
   "source": []
  },
  {
   "cell_type": "code",
   "execution_count": null,
   "id": "c58aa097",
   "metadata": {},
   "outputs": [],
   "source": []
  }
 ],
 "metadata": {
  "kernelspec": {
   "display_name": "Python 3",
   "language": "python",
   "name": "python3"
  },
  "language_info": {
   "codemirror_mode": {
    "name": "ipython",
    "version": 3
   },
   "file_extension": ".py",
   "mimetype": "text/x-python",
   "name": "python",
   "nbconvert_exporter": "python",
   "pygments_lexer": "ipython3",
   "version": "3.6.8"
  }
 },
 "nbformat": 4,
 "nbformat_minor": 5
}
