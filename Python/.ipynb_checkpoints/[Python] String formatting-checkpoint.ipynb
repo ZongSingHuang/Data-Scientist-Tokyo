{
 "cells": [
  {
   "cell_type": "code",
   "execution_count": 1,
   "id": "88db74cf",
   "metadata": {},
   "outputs": [],
   "source": [
    "name = 'Python'\n",
    "age = 27"
   ]
  },
  {
   "cell_type": "markdown",
   "id": "e8d83d2a",
   "metadata": {},
   "source": [
    "### 快速寫法\n",
    "簡單快速，但又臭又長，不好維護"
   ]
  },
  {
   "cell_type": "code",
   "execution_count": 2,
   "id": "b3ad0f95",
   "metadata": {},
   "outputs": [
    {
     "name": "stdout",
     "output_type": "stream",
     "text": [
      "我是Python, 今年27歲\n"
     ]
    }
   ],
   "source": [
    "sentence = '我是' + name + ', ' + '今年' + str(age) + '歲'\n",
    "print(sentence)"
   ]
  },
  {
   "cell_type": "markdown",
   "id": "842231c0",
   "metadata": {},
   "source": [
    "### Python 2.x的格式化方法\n",
    "雖然看起來很直觀，但用起來還要考慮變數型別，好麻煩"
   ]
  },
  {
   "cell_type": "code",
   "execution_count": 3,
   "id": "a4bebcb2",
   "metadata": {},
   "outputs": [
    {
     "name": "stdout",
     "output_type": "stream",
     "text": [
      "我是Python, 今年27歲\n"
     ]
    }
   ],
   "source": [
    "sentence = '我是%s, 今年%d歲' % (name, age)\n",
    "print(sentence)"
   ]
  },
  {
   "cell_type": "markdown",
   "id": "1fc84125",
   "metadata": {},
   "source": [
    "### Python 3.x的格式化方法\n",
    "好用好維護，但筆畫比較多"
   ]
  },
  {
   "cell_type": "code",
   "execution_count": 4,
   "id": "9cddc905",
   "metadata": {},
   "outputs": [
    {
     "name": "stdout",
     "output_type": "stream",
     "text": [
      "我是Python, 今年27.00歲\n"
     ]
    }
   ],
   "source": [
    "# 很正統的寫法\n",
    "sentence = '我是{name}, 今年{age:.2f}歲'.format(name=name, age=age)\n",
    "print(sentence)"
   ]
  },
  {
   "cell_type": "code",
   "execution_count": 5,
   "id": "70b5cf7e",
   "metadata": {},
   "outputs": [
    {
     "name": "stdout",
     "output_type": "stream",
     "text": [
      "我是Python, 今年27.00000歲\n"
     ]
    }
   ],
   "source": [
    "# 偷吃步\n",
    "sentence = '我是{}, 今年{:.5f}歲'.format(name, age)\n",
    "print(sentence)"
   ]
  },
  {
   "cell_type": "markdown",
   "id": "0c695084",
   "metadata": {},
   "source": [
    "### Python 3.6後的格式化方法(formatted string literals)\n",
    "牛B"
   ]
  },
  {
   "cell_type": "code",
   "execution_count": 6,
   "id": "9d93bca5",
   "metadata": {},
   "outputs": [
    {
     "name": "stdout",
     "output_type": "stream",
     "text": [
      "我是Python, 今年27.00歲\n"
     ]
    }
   ],
   "source": [
    "sentence = f'我是{name}, 今年{age:.2f}歲'\n",
    "print(sentence)"
   ]
  },
  {
   "cell_type": "code",
   "execution_count": null,
   "id": "0c4105a9",
   "metadata": {},
   "outputs": [],
   "source": []
  }
 ],
 "metadata": {
  "kernelspec": {
   "display_name": "Python 3",
   "language": "python",
   "name": "python3"
  },
  "language_info": {
   "codemirror_mode": {
    "name": "ipython",
    "version": 3
   },
   "file_extension": ".py",
   "mimetype": "text/x-python",
   "name": "python",
   "nbconvert_exporter": "python",
   "pygments_lexer": "ipython3",
   "version": "3.6.8"
  }
 },
 "nbformat": 4,
 "nbformat_minor": 5
}
