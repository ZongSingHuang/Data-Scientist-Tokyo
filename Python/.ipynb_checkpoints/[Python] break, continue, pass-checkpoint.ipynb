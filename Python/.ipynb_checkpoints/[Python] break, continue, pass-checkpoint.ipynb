{
 "cells": [
  {
   "cell_type": "markdown",
   "id": "03ca02f1",
   "metadata": {},
   "source": [
    "### break\n",
    "- 直接關遊戲"
   ]
  },
  {
   "cell_type": "code",
   "execution_count": 1,
   "id": "ca512a37",
   "metadata": {},
   "outputs": [
    {
     "name": "stdout",
     "output_type": "stream",
     "text": [
      "1 c\n",
      "==========\n",
      "2 o\n",
      "==========\n",
      "3 n\n",
      "==========\n"
     ]
    }
   ],
   "source": [
    "ct = 0\n",
    "for item in 'content':\n",
    "    ct = ct + 1\n",
    "    if item=='t':\n",
    "        break\n",
    "    else:\n",
    "        print(ct, item)\n",
    "    print('='*10)"
   ]
  },
  {
   "cell_type": "markdown",
   "id": "47556d07",
   "metadata": {},
   "source": [
    "### continue\n",
    "- 直接回溫泉"
   ]
  },
  {
   "cell_type": "code",
   "execution_count": 2,
   "id": "e8aee0de",
   "metadata": {},
   "outputs": [
    {
     "name": "stdout",
     "output_type": "stream",
     "text": [
      "1 c\n",
      "==========\n",
      "2 o\n",
      "==========\n",
      "3 n\n",
      "==========\n",
      "5 e\n",
      "==========\n",
      "6 n\n",
      "==========\n"
     ]
    }
   ],
   "source": [
    "ct = 0\n",
    "for item in 'content':\n",
    "    ct = ct + 1\n",
    "    if item=='t':\n",
    "        continue\n",
    "    else:\n",
    "        print(ct, item)\n",
    "    print('='*10)"
   ]
  },
  {
   "cell_type": "markdown",
   "id": "735f0ba0",
   "metadata": {},
   "source": [
    "### pass\n",
    "- 什麼都不做"
   ]
  },
  {
   "cell_type": "code",
   "execution_count": 3,
   "id": "589e10ab",
   "metadata": {},
   "outputs": [
    {
     "name": "stdout",
     "output_type": "stream",
     "text": [
      "1 c\n",
      "==========\n",
      "2 o\n",
      "==========\n",
      "3 n\n",
      "==========\n",
      "==========\n",
      "5 e\n",
      "==========\n",
      "6 n\n",
      "==========\n",
      "==========\n"
     ]
    }
   ],
   "source": [
    "ct = 0\n",
    "for item in 'content':\n",
    "    ct = ct + 1\n",
    "    if item=='t':\n",
    "        pass\n",
    "    else:\n",
    "        print(ct, item)\n",
    "    print('='*10)"
   ]
  },
  {
   "cell_type": "markdown",
   "id": "61fa8c64",
   "metadata": {},
   "source": [
    "### 參考資料\n",
    "- https://clay-atlas.com/blog/2019/08/03/python-%E5%9F%BA%E6%9C%AC%E6%95%99%E5%AD%B8%E5%9B%9B-break-pass-continue/\n",
    "- https://medium.com/@chiayinchen/1-%E5%88%86%E9%90%98%E6%90%9E%E6%87%82-python-%E8%BF%B4%E5%9C%88%E6%8E%A7%E5%88%B6-break-continue-pass-be290cd1f9d8"
   ]
  },
  {
   "cell_type": "code",
   "execution_count": null,
   "id": "342ae758",
   "metadata": {},
   "outputs": [],
   "source": []
  }
 ],
 "metadata": {
  "kernelspec": {
   "display_name": "Python 3",
   "language": "python",
   "name": "python3"
  },
  "language_info": {
   "codemirror_mode": {
    "name": "ipython",
    "version": 3
   },
   "file_extension": ".py",
   "mimetype": "text/x-python",
   "name": "python",
   "nbconvert_exporter": "python",
   "pygments_lexer": "ipython3",
   "version": "3.6.8"
  }
 },
 "nbformat": 4,
 "nbformat_minor": 5
}
