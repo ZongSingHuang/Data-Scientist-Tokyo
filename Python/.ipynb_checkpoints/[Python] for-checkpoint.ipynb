{
 "cells": [
  {
   "cell_type": "markdown",
   "id": "f8bf027f",
   "metadata": {},
   "source": [
    "只要是可疊代or可切片對象，都可以放在for迴圈，例如string、list、dict..."
   ]
  },
  {
   "cell_type": "code",
   "execution_count": 1,
   "id": "7d47092e",
   "metadata": {},
   "outputs": [
    {
     "name": "stdout",
     "output_type": "stream",
     "text": [
      "<class 'str'>\n",
      "==========\n",
      "1 <class 'str'>\n",
      "2 <class 'str'>\n",
      "3 <class 'str'>\n",
      "4 <class 'str'>\n",
      "5 <class 'str'>\n"
     ]
    }
   ],
   "source": [
    "a = '12345'\n",
    "print(type(a))\n",
    "print('='*10)\n",
    "for item in a:\n",
    "    print(item, type(item))"
   ]
  },
  {
   "cell_type": "code",
   "execution_count": 2,
   "id": "773b5694",
   "metadata": {},
   "outputs": [
    {
     "name": "stdout",
     "output_type": "stream",
     "text": [
      "<class 'list'>\n",
      "==========\n",
      "1 <class 'int'>\n",
      "2 <class 'int'>\n",
      "3 <class 'int'>\n",
      "4 <class 'int'>\n",
      "5 <class 'int'>\n"
     ]
    }
   ],
   "source": [
    "a = [1, 2, 3, 4, 5]\n",
    "print(type(a))\n",
    "print('='*10)\n",
    "for item in a:\n",
    "    print(item, type(item))"
   ]
  },
  {
   "cell_type": "code",
   "execution_count": 3,
   "id": "7e835972",
   "metadata": {},
   "outputs": [
    {
     "name": "stdout",
     "output_type": "stream",
     "text": [
      "<class 'tuple'>\n",
      "==========\n",
      "1 <class 'int'>\n",
      "2 <class 'int'>\n",
      "3 <class 'int'>\n",
      "4 <class 'int'>\n",
      "5 <class 'int'>\n"
     ]
    }
   ],
   "source": [
    "a = (1, 2, 3, 4, 5)\n",
    "print(type(a))\n",
    "print('='*10)\n",
    "for item in a:\n",
    "    print(item, type(item))"
   ]
  },
  {
   "cell_type": "code",
   "execution_count": 4,
   "id": "8c38657e",
   "metadata": {},
   "outputs": [
    {
     "name": "stdout",
     "output_type": "stream",
     "text": [
      "<class 'dict'>\n",
      "==========\n",
      "a <class 'str'>\n",
      "b <class 'str'>\n",
      "c <class 'str'>\n",
      "d <class 'str'>\n",
      "e <class 'str'>\n",
      "==========\n",
      "('a', 1) <class 'tuple'>\n",
      "('b', 2) <class 'tuple'>\n",
      "('c', 3) <class 'tuple'>\n",
      "('d', 4) <class 'tuple'>\n",
      "('e', 5) <class 'tuple'>\n",
      "==========\n",
      "a <class 'str'>\n",
      "b <class 'str'>\n",
      "c <class 'str'>\n",
      "d <class 'str'>\n",
      "e <class 'str'>\n",
      "==========\n",
      "1 <class 'int'>\n",
      "2 <class 'int'>\n",
      "3 <class 'int'>\n",
      "4 <class 'int'>\n",
      "5 <class 'int'>\n"
     ]
    }
   ],
   "source": [
    "a = {'a':1, 'b':2, 'c':3, 'd':4, 'e':5}\n",
    "print(type(a))\n",
    "print('='*10)\n",
    "for item in a:\n",
    "    print(item, type(item))\n",
    "print('='*10)\n",
    "for item in a.items():\n",
    "    print(item, type(item))\n",
    "print('='*10)\n",
    "for item in a.keys():\n",
    "    print(item, type(item))\n",
    "print('='*10)\n",
    "for item in a.values():\n",
    "    print(item, type(item))"
   ]
  },
  {
   "cell_type": "code",
   "execution_count": 5,
   "id": "d65e173c",
   "metadata": {},
   "outputs": [
    {
     "name": "stdout",
     "output_type": "stream",
     "text": [
      "<class 'set'>\n",
      "==========\n",
      "1 <class 'int'>\n",
      "2 <class 'int'>\n",
      "3 <class 'int'>\n",
      "4 <class 'int'>\n",
      "5 <class 'int'>\n"
     ]
    }
   ],
   "source": [
    "a = {1, 2, 3, 4, 5}\n",
    "print(type(a))\n",
    "print('='*10)\n",
    "for item in a:\n",
    "    print(item, type(item))"
   ]
  },
  {
   "cell_type": "markdown",
   "id": "9cf511b2",
   "metadata": {},
   "source": [
    "### 前閉後開[1, 10)"
   ]
  },
  {
   "cell_type": "code",
   "execution_count": 6,
   "id": "7ed791a7",
   "metadata": {},
   "outputs": [
    {
     "name": "stdout",
     "output_type": "stream",
     "text": [
      "0\n",
      "1\n",
      "2\n",
      "3\n",
      "4\n",
      "5\n",
      "6\n",
      "7\n",
      "8\n",
      "9\n",
      "==========\n",
      "1\n",
      "2\n",
      "3\n",
      "4\n",
      "5\n",
      "6\n",
      "7\n",
      "8\n",
      "9\n",
      "==========\n",
      "1\n",
      "3\n",
      "5\n",
      "7\n",
      "9\n"
     ]
    }
   ],
   "source": [
    "for i in range(10):\n",
    "    print(i)\n",
    "print('='*10)\n",
    "for i in range(1, 10):\n",
    "    print(i)\n",
    "print('='*10)\n",
    "for i in range(1, 10, 2):\n",
    "    print(i)"
   ]
  },
  {
   "cell_type": "code",
   "execution_count": null,
   "id": "babf47d0",
   "metadata": {},
   "outputs": [],
   "source": []
  }
 ],
 "metadata": {
  "kernelspec": {
   "display_name": "Python 3",
   "language": "python",
   "name": "python3"
  },
  "language_info": {
   "codemirror_mode": {
    "name": "ipython",
    "version": 3
   },
   "file_extension": ".py",
   "mimetype": "text/x-python",
   "name": "python",
   "nbconvert_exporter": "python",
   "pygments_lexer": "ipython3",
   "version": "3.6.8"
  }
 },
 "nbformat": 4,
 "nbformat_minor": 5
}
