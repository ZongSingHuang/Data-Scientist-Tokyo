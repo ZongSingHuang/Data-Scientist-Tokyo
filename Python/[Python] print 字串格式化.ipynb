{
 "cells": [
  {
   "cell_type": "code",
   "execution_count": 1,
   "id": "88db74cf",
   "metadata": {},
   "outputs": [],
   "source": [
    "aaa = 7.89\n",
    "bbb = 7.89\n",
    "ccc = 7.89"
   ]
  },
  {
   "cell_type": "markdown",
   "id": "12582542",
   "metadata": {},
   "source": [
    "### 常見的寫法\n",
    "缺點就是要加一堆str()，不好看"
   ]
  },
  {
   "cell_type": "code",
   "execution_count": 2,
   "id": "1a3e1f5c",
   "metadata": {},
   "outputs": [
    {
     "name": "stdout",
     "output_type": "stream",
     "text": [
      "變數aaa的數值:7.89, 變數bbb的數值:7.89, 變數ccc的數值:7.89\n"
     ]
    }
   ],
   "source": [
    "print('變數aaa的數值:'+str(aaa)+', 變數bbb的數值:'+str(bbb)+', 變數ccc的數值:'+str(ccc))"
   ]
  },
  {
   "cell_type": "markdown",
   "id": "65058083",
   "metadata": {},
   "source": [
    "### 推薦寫法\n",
    "Python2.6後的寫法，看起來很舒服"
   ]
  },
  {
   "cell_type": "code",
   "execution_count": 3,
   "id": "c30c27c1",
   "metadata": {},
   "outputs": [
    {
     "name": "stdout",
     "output_type": "stream",
     "text": [
      "變數aaa的數值:7.89, 變數bbb的數值:7.89, 變數ccc的數值:7.89\n"
     ]
    }
   ],
   "source": [
    "print('變數aaa的數值:{val1}, 變數bbb的數值:{val2}, 變數ccc的數值:{val3}'.format(val1=aaa, val2=bbb, val3=ccc))"
   ]
  },
  {
   "cell_type": "markdown",
   "id": "8c818ea3",
   "metadata": {},
   "source": [
    "還可以加入輸出格式"
   ]
  },
  {
   "cell_type": "code",
   "execution_count": 4,
   "id": "964dfa71",
   "metadata": {},
   "outputs": [
    {
     "name": "stdout",
     "output_type": "stream",
     "text": [
      "變數aaa的數值:8, 變數bbb的數值:7.9, 變數ccc的數值:7.89\n"
     ]
    }
   ],
   "source": [
    "print('變數aaa的數值:{val1:.0f}, 變數bbb的數值:{val2:.1f}, 變數ccc的數值:{val3:.2f}'.format(val1=aaa, val2=bbb, val3=ccc))"
   ]
  },
  {
   "cell_type": "markdown",
   "id": "063b845e",
   "metadata": {},
   "source": [
    "### Formatted String Literal\n",
    "Python3.6後的寫法，比上面的寫法還要更簡潔，但我現在還不知道怎麼調整輸出格式"
   ]
  },
  {
   "cell_type": "code",
   "execution_count": 5,
   "id": "98737b4c",
   "metadata": {},
   "outputs": [
    {
     "name": "stdout",
     "output_type": "stream",
     "text": [
      "value1 + value2 + value3 = 23.669999999999998\n"
     ]
    }
   ],
   "source": [
    "print(f'value1 + value2 + value3 = {aaa+bbb+ccc}')"
   ]
  },
  {
   "cell_type": "code",
   "execution_count": null,
   "id": "0c4105a9",
   "metadata": {},
   "outputs": [],
   "source": []
  }
 ],
 "metadata": {
  "kernelspec": {
   "display_name": "Python 3",
   "language": "python",
   "name": "python3"
  },
  "language_info": {
   "codemirror_mode": {
    "name": "ipython",
    "version": 3
   },
   "file_extension": ".py",
   "mimetype": "text/x-python",
   "name": "python",
   "nbconvert_exporter": "python",
   "pygments_lexer": "ipython3",
   "version": "3.6.13"
  }
 },
 "nbformat": 4,
 "nbformat_minor": 5
}
