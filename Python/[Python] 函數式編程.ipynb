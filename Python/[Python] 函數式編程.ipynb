{
 "cells": [
  {
   "cell_type": "markdown",
   "id": "06bf0235",
   "metadata": {},
   "source": [
    "### 內置函數"
   ]
  },
  {
   "cell_type": "code",
   "execution_count": 1,
   "id": "89c22ba8",
   "metadata": {},
   "outputs": [
    {
     "name": "stdout",
     "output_type": "stream",
     "text": [
      "<built-in function sum>\n",
      "6\n"
     ]
    }
   ],
   "source": [
    "print(sum)\n",
    "print(sum([1, 2, 3]))"
   ]
  },
  {
   "cell_type": "markdown",
   "id": "01662272",
   "metadata": {},
   "source": [
    "---"
   ]
  },
  {
   "cell_type": "markdown",
   "id": "af06e459",
   "metadata": {},
   "source": [
    "### 匿名函數lambda\n",
    "- 只能傳1筆數據\n",
    "- 若要用再多筆資料，需要搭配map，然後再用列表解析方式進行解包"
   ]
  },
  {
   "cell_type": "code",
   "execution_count": 2,
   "id": "7849534d",
   "metadata": {},
   "outputs": [
    {
     "data": {
      "text/plain": [
       "5"
      ]
     },
     "execution_count": 2,
     "metadata": {},
     "output_type": "execute_result"
    }
   ],
   "source": [
    "def test(x, y):\n",
    "    return x + 2*y\n",
    "\n",
    "test(1, 2)"
   ]
  },
  {
   "cell_type": "code",
   "execution_count": 3,
   "id": "37e1021c",
   "metadata": {},
   "outputs": [
    {
     "data": {
      "text/plain": [
       "5"
      ]
     },
     "execution_count": 3,
     "metadata": {},
     "output_type": "execute_result"
    }
   ],
   "source": [
    "f = lambda x, y: x + 2*y\n",
    "f(1, 2)"
   ]
  },
  {
   "cell_type": "code",
   "execution_count": 4,
   "id": "f2651286",
   "metadata": {},
   "outputs": [
    {
     "data": {
      "text/plain": [
       "5"
      ]
     },
     "execution_count": 4,
     "metadata": {},
     "output_type": "execute_result"
    }
   ],
   "source": [
    "(lambda x, y: x + 2*y)(1, 2)"
   ]
  },
  {
   "cell_type": "markdown",
   "id": "3e10fdb8",
   "metadata": {},
   "source": [
    "### 列表解析"
   ]
  },
  {
   "cell_type": "code",
   "execution_count": 5,
   "id": "6094a5c1",
   "metadata": {},
   "outputs": [
    {
     "data": {
      "text/plain": [
       "[3, 5]"
      ]
     },
     "execution_count": 5,
     "metadata": {},
     "output_type": "execute_result"
    }
   ],
   "source": [
    "a = [1, 2, 3, 4]\n",
    "b = []\n",
    "\n",
    "for a_var in a:\n",
    "    if a_var%2==0:\n",
    "        b.append(a_var+1)\n",
    "b"
   ]
  },
  {
   "cell_type": "code",
   "execution_count": 6,
   "id": "1fe99924",
   "metadata": {},
   "outputs": [
    {
     "data": {
      "text/plain": [
       "[3, 5]"
      ]
     },
     "execution_count": 6,
     "metadata": {},
     "output_type": "execute_result"
    }
   ],
   "source": [
    "a = [1, 2, 3, 4]\n",
    "[a_var+1 for a_var in a if a_var%2==0]"
   ]
  },
  {
   "cell_type": "markdown",
   "id": "042b1cc0",
   "metadata": {},
   "source": [
    "### map"
   ]
  },
  {
   "cell_type": "code",
   "execution_count": 7,
   "id": "cf8ea02a",
   "metadata": {},
   "outputs": [
    {
     "data": {
      "text/plain": [
       "[1, 4, 9, 16]"
      ]
     },
     "execution_count": 7,
     "metadata": {},
     "output_type": "execute_result"
    }
   ],
   "source": [
    "a = [1, 2, 3, 4]\n",
    "b = []\n",
    "for a_var in a:\n",
    "    b.append(a_var**2)\n",
    "b"
   ]
  },
  {
   "cell_type": "code",
   "execution_count": 8,
   "id": "f3c4011c",
   "metadata": {},
   "outputs": [
    {
     "data": {
      "text/plain": [
       "[1, 4, 9, 16]"
      ]
     },
     "execution_count": 8,
     "metadata": {},
     "output_type": "execute_result"
    }
   ],
   "source": [
    "a = [1, 2, 3, 4]\n",
    "[item for item in map((lambda x: x**2), a)]"
   ]
  },
  {
   "cell_type": "markdown",
   "id": "ce919d66",
   "metadata": {},
   "source": [
    "### reduce"
   ]
  },
  {
   "cell_type": "code",
   "execution_count": 9,
   "id": "b1b9daed",
   "metadata": {},
   "outputs": [
    {
     "data": {
      "text/plain": [
       "10"
      ]
     },
     "execution_count": 9,
     "metadata": {},
     "output_type": "execute_result"
    }
   ],
   "source": [
    "from functools import reduce\n",
    "a = [1, 2, 3, 4]\n",
    "reduce(lambda x, y: x+y, a)"
   ]
  },
  {
   "cell_type": "markdown",
   "id": "125a2ee2",
   "metadata": {},
   "source": [
    "### filter"
   ]
  },
  {
   "cell_type": "code",
   "execution_count": 10,
   "id": "c3a8ced9",
   "metadata": {},
   "outputs": [
    {
     "data": {
      "text/plain": [
       "[1, 3]"
      ]
     },
     "execution_count": 10,
     "metadata": {},
     "output_type": "execute_result"
    }
   ],
   "source": [
    "a = [1, 2, 3, 4]\n",
    "[item for item in filter(lambda x: x%2==1, a)]"
   ]
  },
  {
   "cell_type": "markdown",
   "id": "cc601412",
   "metadata": {},
   "source": [
    "### zip"
   ]
  },
  {
   "cell_type": "code",
   "execution_count": 11,
   "id": "12c0cbcd",
   "metadata": {},
   "outputs": [
    {
     "name": "stdout",
     "output_type": "stream",
     "text": [
      "1 11\n",
      "2 12\n",
      "3 13\n",
      "4 14\n"
     ]
    }
   ],
   "source": [
    "a = [1, 2, 3, 4]\n",
    "b = [11, 12, 13, 14]\n",
    "\n",
    "for i, j in zip(a, b):\n",
    "    print(i, j)"
   ]
  },
  {
   "cell_type": "markdown",
   "id": "661e946a",
   "metadata": {},
   "source": [
    "### enumerate"
   ]
  },
  {
   "cell_type": "code",
   "execution_count": 12,
   "id": "77fb4bd8",
   "metadata": {},
   "outputs": [
    {
     "name": "stdout",
     "output_type": "stream",
     "text": [
      "0 11\n",
      "1 12\n",
      "2 13\n",
      "3 14\n"
     ]
    }
   ],
   "source": [
    "a = [11, 12, 13, 14]\n",
    "for idx, var in enumerate(a):\n",
    "    print(idx, var)"
   ]
  },
  {
   "cell_type": "code",
   "execution_count": null,
   "id": "bd2e5ac8",
   "metadata": {},
   "outputs": [],
   "source": []
  }
 ],
 "metadata": {
  "kernelspec": {
   "display_name": "Python 3",
   "language": "python",
   "name": "python3"
  },
  "language_info": {
   "codemirror_mode": {
    "name": "ipython",
    "version": 3
   },
   "file_extension": ".py",
   "mimetype": "text/x-python",
   "name": "python",
   "nbconvert_exporter": "python",
   "pygments_lexer": "ipython3",
   "version": "3.6.8"
  }
 },
 "nbformat": 4,
 "nbformat_minor": 5
}
