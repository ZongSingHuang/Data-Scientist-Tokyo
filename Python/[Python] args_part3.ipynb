{
 "cells": [
  {
   "cell_type": "code",
   "execution_count": 1,
   "id": "cf8813e9",
   "metadata": {},
   "outputs": [
    {
     "name": "stdout",
     "output_type": "stream",
     "text": [
      "1 <class 'int'>\n",
      "(2, 3) <class 'tuple'>\n",
      "False <class 'bool'>\n",
      "{'b': True, 'kw1': 666, 'kw2': 777} <class 'dict'>\n"
     ]
    }
   ],
   "source": [
    "def test(first, *second, third=False, **fourth):\n",
    "    print(first, type(first))\n",
    "    print(second, type(second))\n",
    "    print(third, type(third))\n",
    "    print(fourth, type(fourth))\n",
    "\n",
    "test(1, 2, 3, b=True, kw1=666, kw2=777)"
   ]
  },
  {
   "cell_type": "markdown",
   "id": "52f3ff2a",
   "metadata": {},
   "source": [
    "### 參考資料\n",
    "- https://blog.maxkit.com.tw/2018/12/python-args-kwargs.html\n",
    "- https://skylinelimit.blogspot.com/2018/04/python-args-kwargs.html\n",
    "- https://clay-atlas.com/blog/2019/08/10/python-cn-function-default-args-kwargs/"
   ]
  },
  {
   "cell_type": "code",
   "execution_count": null,
   "id": "3d72b8e1",
   "metadata": {},
   "outputs": [],
   "source": []
  }
 ],
 "metadata": {
  "kernelspec": {
   "display_name": "Python 3",
   "language": "python",
   "name": "python3"
  },
  "language_info": {
   "codemirror_mode": {
    "name": "ipython",
    "version": 3
   },
   "file_extension": ".py",
   "mimetype": "text/x-python",
   "name": "python",
   "nbconvert_exporter": "python",
   "pygments_lexer": "ipython3",
   "version": "3.6.13"
  }
 },
 "nbformat": 4,
 "nbformat_minor": 5
}
