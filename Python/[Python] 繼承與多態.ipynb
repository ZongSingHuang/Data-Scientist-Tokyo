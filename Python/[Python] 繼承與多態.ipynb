{
 "cells": [
  {
   "cell_type": "markdown",
   "id": "56176b08",
   "metadata": {},
   "source": [
    "### 繼承"
   ]
  },
  {
   "cell_type": "code",
   "execution_count": 1,
   "id": "b8189696",
   "metadata": {},
   "outputs": [],
   "source": [
    "class Animal:\n",
    "    def eat(self):\n",
    "        print('Animal is eatting!')\n",
    "\n",
    "class Bird(Animal):\n",
    "    def sing(self):\n",
    "        print('Bird is singing!')\n",
    "\n",
    "class Dog(Animal):\n",
    "    pass"
   ]
  },
  {
   "cell_type": "code",
   "execution_count": 2,
   "id": "72a7e9f6",
   "metadata": {},
   "outputs": [
    {
     "name": "stdout",
     "output_type": "stream",
     "text": [
      "Animal is eatting!\n",
      "Bird is singing!\n",
      "Animal is eatting!\n"
     ]
    }
   ],
   "source": [
    "b = Bird()\n",
    "b.eat()\n",
    "b.sing()\n",
    "d = Dog()\n",
    "d.eat()\n",
    "#d.sing()"
   ]
  },
  {
   "cell_type": "code",
   "execution_count": 3,
   "id": "3d4f96b0",
   "metadata": {},
   "outputs": [
    {
     "name": "stdout",
     "output_type": "stream",
     "text": [
      "True\n",
      "True\n"
     ]
    }
   ],
   "source": [
    "print(isinstance(b, Bird))\n",
    "print(isinstance(b, Animal))"
   ]
  },
  {
   "cell_type": "markdown",
   "id": "f6524c98",
   "metadata": {},
   "source": [
    "### 多態\n",
    "即使Dog沒有(忘了)給定eat()，仍可依靠繼承父類，所以免於報錯"
   ]
  },
  {
   "cell_type": "code",
   "execution_count": 4,
   "id": "68bb7000",
   "metadata": {},
   "outputs": [],
   "source": [
    "class Animal:\n",
    "    def eat(self):\n",
    "        print('Animal is eatting!')\n",
    "\n",
    "class Bird(Animal):\n",
    "    def sing(self):\n",
    "        print('Bird is singing!')\n",
    "    def eat(self):\n",
    "        print('Bird is eatting!!!')\n",
    "\n",
    "class Dog(Animal):\n",
    "    def eat(self):\n",
    "        pass"
   ]
  },
  {
   "cell_type": "code",
   "execution_count": 5,
   "id": "703229b2",
   "metadata": {},
   "outputs": [
    {
     "name": "stdout",
     "output_type": "stream",
     "text": [
      "Animal is eatting!\n",
      "Bird is eatting!!!\n"
     ]
    }
   ],
   "source": [
    "a = Animal()\n",
    "a.eat()\n",
    "b = Bird()\n",
    "b.eat()\n",
    "d = Dog()\n",
    "d.eat()"
   ]
  },
  {
   "cell_type": "code",
   "execution_count": null,
   "id": "ee5e85f8",
   "metadata": {},
   "outputs": [],
   "source": []
  }
 ],
 "metadata": {
  "kernelspec": {
   "display_name": "Python 3",
   "language": "python",
   "name": "python3"
  },
  "language_info": {
   "codemirror_mode": {
    "name": "ipython",
    "version": 3
   },
   "file_extension": ".py",
   "mimetype": "text/x-python",
   "name": "python",
   "nbconvert_exporter": "python",
   "pygments_lexer": "ipython3",
   "version": "3.6.13"
  }
 },
 "nbformat": 4,
 "nbformat_minor": 5
}
