{
 "cells": [
  {
   "cell_type": "markdown",
   "id": "7dd0d726",
   "metadata": {},
   "source": [
    "### 費氏數列\n",
    "- F(1) = 1\n",
    "- F(2) = 1\n",
    "- F(3) = F(1) + F(2) = 2\n",
    "- F(4) = F(2) + F(3) = 3\n",
    "- F(5) = F(3) + F(4) = 5\n",
    "- F(n) = F(n-2) + F(n-1)"
   ]
  },
  {
   "cell_type": "markdown",
   "id": "fb4a2441",
   "metadata": {},
   "source": [
    "***"
   ]
  },
  {
   "cell_type": "markdown",
   "id": "b9fc7551",
   "metadata": {},
   "source": [
    "### 常見的寫法\n",
    "- 主程式內包含較複雜的數學式(演算法)，這樣維護起來不是很方便\n",
    "- 如果沒有在代碼中加上註釋，別人沒辦法馬上知道這段代碼在做什麼\n",
    "- 如果其他段落的代碼需要使用該數學式(演算法)，還要再把相同的代碼作複製貼上，這樣維護起來很痛苦"
   ]
  },
  {
   "cell_type": "code",
   "execution_count": 1,
   "id": "43569526",
   "metadata": {},
   "outputs": [
    {
     "name": "stdout",
     "output_type": "stream",
     "text": [
      "[1, 1, 2, 3, 5]\n"
     ]
    }
   ],
   "source": [
    "n1 = 5\n",
    "result1 = []\n",
    "for i in range(n1):\n",
    "    if i==0 or i==1:\n",
    "        result1.append(1)\n",
    "    else:\n",
    "        result1.append(result1[-2]+result1[-1])\n",
    "\n",
    "print(result1)"
   ]
  },
  {
   "cell_type": "code",
   "execution_count": 2,
   "id": "e2928162",
   "metadata": {},
   "outputs": [
    {
     "name": "stdout",
     "output_type": "stream",
     "text": [
      "[1, 1, 2, 3, 5, 8, 13, 21, 34, 55]\n"
     ]
    }
   ],
   "source": [
    "n2 = 10\n",
    "result2 = []\n",
    "for i in range(n2):\n",
    "    if i==0 or i==1:\n",
    "        result2.append(1)\n",
    "    else:\n",
    "        result2.append(result2[-2]+result2[-1])\n",
    "\n",
    "print(result2)"
   ]
  },
  {
   "cell_type": "markdown",
   "id": "2c6dfe8d",
   "metadata": {},
   "source": [
    "***"
   ]
  },
  {
   "cell_type": "markdown",
   "id": "4156a31f",
   "metadata": {},
   "source": [
    "### 推薦寫法\n",
    "- 將數學式(演算法)用函式打包，看起來賞心悅目且容易維護\n",
    "- 而且後續如果其他段落也需要執行，只需要呼叫Fibonacci即可\n",
    "- 若要寫的函示比較簡單，可以採lambda的寫法來加強代碼簡潔"
   ]
  },
  {
   "cell_type": "code",
   "execution_count": 3,
   "id": "8077eb8e",
   "metadata": {},
   "outputs": [],
   "source": [
    "def Fibonacci(n):\n",
    "    temp = []\n",
    "    for i in range(n):\n",
    "        if i==0 or i==1:\n",
    "            temp.append(1)\n",
    "        else:\n",
    "            temp.append(temp[-2]+temp[-1])\n",
    "    return temp"
   ]
  },
  {
   "cell_type": "code",
   "execution_count": 4,
   "id": "c99778a7",
   "metadata": {},
   "outputs": [
    {
     "name": "stdout",
     "output_type": "stream",
     "text": [
      "[1, 1, 2, 3, 5]\n"
     ]
    }
   ],
   "source": [
    "n3 = 5\n",
    "result3 = Fibonacci(n3)\n",
    "print(result3)"
   ]
  },
  {
   "cell_type": "code",
   "execution_count": 5,
   "id": "b3b8c53b",
   "metadata": {},
   "outputs": [
    {
     "name": "stdout",
     "output_type": "stream",
     "text": [
      "[1, 1, 2, 3, 5, 8, 13, 21, 34, 55]\n"
     ]
    }
   ],
   "source": [
    "n4 = 10\n",
    "result4 = Fibonacci(n4)\n",
    "print(result4)"
   ]
  },
  {
   "cell_type": "markdown",
   "id": "10ac339a",
   "metadata": {},
   "source": [
    "***"
   ]
  },
  {
   "cell_type": "markdown",
   "id": "f4892289",
   "metadata": {},
   "source": [
    "你還可以這麼做，讓代碼維護起來更方便\n",
    "1. 建立一個叫func_Fibonacci的.py檔\n",
    "2. 然後將做把In [3] 的代碼複製並貼到func_Fibonacci.py後儲存\n",
    "3. 建立一個叫main的.py檔\n",
    "4. 在main.py內寫下代碼 from func_Fibonacci import Fibonacci\n",
    "4. 然後將做把In [4] 的代碼複製並貼到main.py後儲存\n",
    "5. 執行main.py\n",
    "6. 為了簡單，需要把func_Fibonacci.py和main.py放在同一個路徑，否則main.py在匯入func_Fibonacci時會找不到func_Fibonacci.py"
   ]
  },
  {
   "cell_type": "code",
   "execution_count": null,
   "id": "4d49812e",
   "metadata": {},
   "outputs": [],
   "source": []
  }
 ],
 "metadata": {
  "kernelspec": {
   "display_name": "Python 3",
   "language": "python",
   "name": "python3"
  },
  "language_info": {
   "codemirror_mode": {
    "name": "ipython",
    "version": 3
   },
   "file_extension": ".py",
   "mimetype": "text/x-python",
   "name": "python",
   "nbconvert_exporter": "python",
   "pygments_lexer": "ipython3",
   "version": "3.6.13"
  }
 },
 "nbformat": 4,
 "nbformat_minor": 5
}
