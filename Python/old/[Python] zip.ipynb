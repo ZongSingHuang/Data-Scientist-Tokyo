{
 "cells": [
  {
   "cell_type": "code",
   "execution_count": 1,
   "id": "0c9fa572",
   "metadata": {},
   "outputs": [],
   "source": [
    "prices = [10, 5, 30, 45, 100]\n",
    "fruits = ['apple', 'banana', 'cherry', 'dragonfruit', 'emblica']"
   ]
  },
  {
   "cell_type": "markdown",
   "id": "c9a4dd26",
   "metadata": {},
   "source": [
    "***"
   ]
  },
  {
   "cell_type": "markdown",
   "id": "88f4062e",
   "metadata": {},
   "source": [
    "### 常見的寫法\n",
    "如果要同時顯示水果名稱和售價，必須要透過迴圈逐一讀取陣列"
   ]
  },
  {
   "cell_type": "code",
   "execution_count": 2,
   "id": "20c29d9c",
   "metadata": {},
   "outputs": [
    {
     "name": "stdout",
     "output_type": "stream",
     "text": [
      "水果 apple 的售價為 10\n",
      "水果 banana 的售價為 5\n",
      "水果 cherry 的售價為 30\n",
      "水果 dragonfruit 的售價為 45\n",
      "水果 emblica 的售價為 100\n"
     ]
    }
   ],
   "source": [
    "for i in range(len(prices)):\n",
    "    print('水果 {fruit} 的售價為 {price}'.format(fruit=fruits[i], price=prices[i]))"
   ]
  },
  {
   "cell_type": "markdown",
   "id": "83dba73a",
   "metadata": {},
   "source": [
    "### 推薦寫法\n",
    "增加可讀性，不要再i來i去了~"
   ]
  },
  {
   "cell_type": "code",
   "execution_count": 3,
   "id": "81f84bef",
   "metadata": {},
   "outputs": [
    {
     "name": "stdout",
     "output_type": "stream",
     "text": [
      "水果 apple 的售價為 10\n",
      "水果 banana 的售價為 5\n",
      "水果 cherry 的售價為 30\n",
      "水果 dragonfruit 的售價為 45\n",
      "水果 emblica 的售價為 100\n"
     ]
    }
   ],
   "source": [
    "for fruit, price in zip(fruits, prices):\n",
    "    print('水果 {fruit} 的售價為 {price}'.format(fruit=fruit, price=price))"
   ]
  },
  {
   "cell_type": "markdown",
   "id": "29c21e4e",
   "metadata": {},
   "source": [
    "---"
   ]
  },
  {
   "cell_type": "markdown",
   "id": "4d099e97",
   "metadata": {},
   "source": [
    "### 參考資料\n",
    "https://www.runoob.com/python/python-func-zip.html"
   ]
  }
 ],
 "metadata": {
  "kernelspec": {
   "display_name": "Python 3",
   "language": "python",
   "name": "python3"
  },
  "language_info": {
   "codemirror_mode": {
    "name": "ipython",
    "version": 3
   },
   "file_extension": ".py",
   "mimetype": "text/x-python",
   "name": "python",
   "nbconvert_exporter": "python",
   "pygments_lexer": "ipython3",
   "version": "3.6.13"
  }
 },
 "nbformat": 4,
 "nbformat_minor": 5
}
