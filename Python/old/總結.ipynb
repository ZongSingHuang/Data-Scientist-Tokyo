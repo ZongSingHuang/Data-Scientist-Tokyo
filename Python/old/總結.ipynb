{
 "cells": [
  {
   "cell_type": "markdown",
   "id": "d6ecf5cb",
   "metadata": {},
   "source": [
    "下面這幾個是寫python常用到的語法\n",
    "\n",
    "- class:菜單\n",
    "- enumerate:中文叫做枚舉。簡單來說就是幫你在迴圈中加入編碼\n",
    "- while:除非不滿足指定條件或者提早終止(break)，否則會一直loop下去\n",
    "- zip:for迴圈要用到多個陣列，然後不想要i, j, m, n這種縮寫來稱呼陣列元素\n",
    "- map:如果要把陣列的元素逐一扔進函式裡\n",
    "- lambda:想要用一行代碼快速寫出簡易的函式\n",
    "- 函式:不想要重複寫相同功能的代碼段\n",
    "- 字串格式化:讓你更容易地使用print\n",
    "- Comprehension:讓你一行就寫出for迴圈"
   ]
  },
  {
   "cell_type": "code",
   "execution_count": null,
   "id": "686d8cc5",
   "metadata": {},
   "outputs": [],
   "source": []
  }
 ],
 "metadata": {
  "kernelspec": {
   "display_name": "Python 3",
   "language": "python",
   "name": "python3"
  },
  "language_info": {
   "codemirror_mode": {
    "name": "ipython",
    "version": 3
   },
   "file_extension": ".py",
   "mimetype": "text/x-python",
   "name": "python",
   "nbconvert_exporter": "python",
   "pygments_lexer": "ipython3",
   "version": "3.6.13"
  }
 },
 "nbformat": 4,
 "nbformat_minor": 5
}
