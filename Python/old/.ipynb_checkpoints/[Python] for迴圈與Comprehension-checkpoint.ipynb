{
 "cells": [
  {
   "cell_type": "code",
   "execution_count": 1,
   "id": "b78758a2",
   "metadata": {},
   "outputs": [],
   "source": [
    "data = [1, 2, 3, 4, 5, 6, 7, 8, 9, 10]"
   ]
  },
  {
   "cell_type": "markdown",
   "id": "a48dbb1c",
   "metadata": {},
   "source": [
    "***"
   ]
  },
  {
   "cell_type": "markdown",
   "id": "1edad6bd",
   "metadata": {},
   "source": [
    "### 常見的寫法\n",
    "常見的直觀寫法，但寫久了就覺得很乏味"
   ]
  },
  {
   "cell_type": "code",
   "execution_count": 2,
   "id": "3e29a310",
   "metadata": {},
   "outputs": [
    {
     "name": "stdout",
     "output_type": "stream",
     "text": [
      "[2, 4, 6, 8, 10, 12, 14, 16, 18, 20]\n"
     ]
    }
   ],
   "source": [
    "result1 = []\n",
    "\n",
    "for value in data:\n",
    "    result1.append(value*2)\n",
    "\n",
    "print(result1)"
   ]
  },
  {
   "cell_type": "markdown",
   "id": "f12256da",
   "metadata": {},
   "source": [
    "### 推薦寫法\n",
    "很潮的寫法，不用先建立temp，而且迴圈也一行搞定"
   ]
  },
  {
   "cell_type": "code",
   "execution_count": 3,
   "id": "d2b3f4ca",
   "metadata": {},
   "outputs": [
    {
     "name": "stdout",
     "output_type": "stream",
     "text": [
      "[2, 4, 6, 8, 10, 12, 14, 16, 18, 20]\n"
     ]
    }
   ],
   "source": [
    "result2 = [value*2 for value in data]\n",
    "print(result2)"
   ]
  },
  {
   "cell_type": "markdown",
   "id": "f10b0206",
   "metadata": {},
   "source": [
    "***"
   ]
  },
  {
   "cell_type": "markdown",
   "id": "1285da99",
   "metadata": {},
   "source": [
    "### 常見的寫法\n",
    "看到三層代碼就覺得煩"
   ]
  },
  {
   "cell_type": "code",
   "execution_count": 4,
   "id": "25c625ac",
   "metadata": {},
   "outputs": [
    {
     "name": "stdout",
     "output_type": "stream",
     "text": [
      "[4, 8, 12, 16, 20]\n"
     ]
    }
   ],
   "source": [
    "result3 = []\n",
    "\n",
    "for value in data:\n",
    "    if value%2==0:\n",
    "        result3.append(value*2)\n",
    "\n",
    "print(result3)"
   ]
  },
  {
   "cell_type": "markdown",
   "id": "5d4ee453",
   "metadata": {},
   "source": [
    "### 推薦寫法\n",
    "巢狀寫法，我覺得可讀性降低不少，要習慣下。"
   ]
  },
  {
   "cell_type": "code",
   "execution_count": 5,
   "id": "d3099366",
   "metadata": {},
   "outputs": [
    {
     "name": "stdout",
     "output_type": "stream",
     "text": [
      "[4, 8, 12, 16, 20]\n"
     ]
    }
   ],
   "source": [
    "result4 = [value*2 for value in data if value%2==0]\n",
    "print(result4)"
   ]
  },
  {
   "cell_type": "markdown",
   "id": "3ed8dd94",
   "metadata": {},
   "source": [
    "---"
   ]
  },
  {
   "cell_type": "markdown",
   "id": "1910f4d8",
   "metadata": {},
   "source": [
    "### 參考資料\n",
    "https://www.learncodewithmike.com/2020/01/python-comprehension.html"
   ]
  },
  {
   "cell_type": "code",
   "execution_count": null,
   "id": "00c60bf3",
   "metadata": {},
   "outputs": [],
   "source": []
  }
 ],
 "metadata": {
  "kernelspec": {
   "display_name": "Python 3",
   "language": "python",
   "name": "python3"
  },
  "language_info": {
   "codemirror_mode": {
    "name": "ipython",
    "version": 3
   },
   "file_extension": ".py",
   "mimetype": "text/x-python",
   "name": "python",
   "nbconvert_exporter": "python",
   "pygments_lexer": "ipython3",
   "version": "3.6.8"
  }
 },
 "nbformat": 4,
 "nbformat_minor": 5
}
