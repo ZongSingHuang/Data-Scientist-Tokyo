{
 "cells": [
  {
   "cell_type": "markdown",
   "id": "909af757",
   "metadata": {},
   "source": [
    "### 建立類"
   ]
  },
  {
   "cell_type": "code",
   "execution_count": 1,
   "id": "07e5f19a",
   "metadata": {},
   "outputs": [
    {
     "data": {
      "text/plain": [
       "__main__.Animal"
      ]
     },
     "execution_count": 1,
     "metadata": {},
     "output_type": "execute_result"
    }
   ],
   "source": [
    "class Animal:\n",
    "    pass\n",
    "\n",
    "my_class = Animal()\n",
    "type(my_class)"
   ]
  },
  {
   "cell_type": "code",
   "execution_count": 2,
   "id": "d762f61b",
   "metadata": {},
   "outputs": [
    {
     "name": "stdout",
     "output_type": "stream",
     "text": [
      "Jack\n",
      "26\n",
      "==========\n",
      "Jack 26\n",
      "==========\n",
      "Jack 99\n"
     ]
    }
   ],
   "source": [
    "class People:\n",
    "    def __init__(self, name, age):\n",
    "        self.name = name\n",
    "        self.age = age\n",
    "    \n",
    "    def sayhi(self):\n",
    "        print(self.name, self.age)\n",
    "\n",
    "Jack = People(name='Jack', age=26)\n",
    "print(Jack.name)\n",
    "print(Jack.age)\n",
    "print('='*10)\n",
    "Jack.sayhi()\n",
    "print('='*10)\n",
    "Jack.age = 99\n",
    "Jack.sayhi()"
   ]
  },
  {
   "cell_type": "markdown",
   "id": "fc707696",
   "metadata": {},
   "source": [
    "---"
   ]
  },
  {
   "cell_type": "markdown",
   "id": "60ac3f61",
   "metadata": {},
   "source": [
    "### 受保護屬性\n",
    "- 受保護屬性:變數開頭加個_，作為提醒維護者，該變數不要修改，但該保護措施並不俱強制力，仍可以從外部訪問、修改"
   ]
  },
  {
   "cell_type": "code",
   "execution_count": 3,
   "id": "26755eb5",
   "metadata": {},
   "outputs": [
    {
     "name": "stdout",
     "output_type": "stream",
     "text": [
      "10\n",
      "==========\n",
      "99\n",
      "==========\n"
     ]
    }
   ],
   "source": [
    "class People:\n",
    "    def __init__(self, name, age):\n",
    "        self.name = name\n",
    "        self.age = age\n",
    "        self._protect_var = 10 # 受保護屬性\n",
    "    \n",
    "    def sayhi(self):\n",
    "        print(self.name, self.age)\n",
    "        \n",
    "Jack = People(name='Jack', age=26)\n",
    "print(Jack._protect_var)\n",
    "print('='*10)\n",
    "Jack._protect_var = 99\n",
    "print(Jack._protect_var)\n",
    "print('='*10)"
   ]
  },
  {
   "cell_type": "markdown",
   "id": "d6b3b1e8",
   "metadata": {},
   "source": [
    "### 私有屬性\n",
    "- 私有屬性:變數開頭加個__，作為提醒維護者，該變數不要修改，該保護措施並俱強制力，僅可從內部訪問、修改"
   ]
  },
  {
   "cell_type": "code",
   "execution_count": 4,
   "id": "a63e44a4",
   "metadata": {},
   "outputs": [
    {
     "name": "stdout",
     "output_type": "stream",
     "text": [
      "==========\n",
      "10\n",
      "==========\n",
      "99\n",
      "==========\n"
     ]
    }
   ],
   "source": [
    "class People:\n",
    "    def __init__(self, name, age):\n",
    "        self.name = name\n",
    "        self.age = age\n",
    "        self.__protect_var = 10 # 私有屬性\n",
    "    \n",
    "    def sayhi(self):\n",
    "        print(self.name, self.age)\n",
    "    \n",
    "    def get_var(self):\n",
    "        print(self.__protect_var)\n",
    "\n",
    "    def set_var(self, var):\n",
    "        self.__protect_var = var\n",
    "        \n",
    "Jack = People(name='Jack', age=26)\n",
    "# print(Jack.__protect_var) # 無法從外部訪問、修改\n",
    "print('='*10)\n",
    "Jack.get_var()\n",
    "print('='*10)\n",
    "Jack.set_var(var=99)\n",
    "Jack.get_var()\n",
    "print('='*10)"
   ]
  },
  {
   "cell_type": "markdown",
   "id": "c5c243a5",
   "metadata": {},
   "source": [
    "### 強制突破私有屬性，別這樣做~"
   ]
  },
  {
   "cell_type": "code",
   "execution_count": 5,
   "id": "fdeb2f83",
   "metadata": {},
   "outputs": [
    {
     "name": "stdout",
     "output_type": "stream",
     "text": [
      "['_People__protect_var', '__class__', '__delattr__', '__dict__', '__dir__', '__doc__', '__eq__', '__format__', '__ge__', '__getattribute__', '__gt__', '__hash__', '__init__', '__init_subclass__', '__le__', '__lt__', '__module__', '__ne__', '__new__', '__reduce__', '__reduce_ex__', '__repr__', '__setattr__', '__sizeof__', '__str__', '__subclasshook__', '__weakref__', 'age', 'get_var', 'name', 'sayhi', 'set_var']\n"
     ]
    }
   ],
   "source": [
    "print(dir(Jack))"
   ]
  },
  {
   "cell_type": "code",
   "execution_count": 6,
   "id": "0b6b294c",
   "metadata": {},
   "outputs": [
    {
     "name": "stdout",
     "output_type": "stream",
     "text": [
      "10\n",
      "==========\n",
      "99\n",
      "==========\n"
     ]
    }
   ],
   "source": [
    "Jack = People(name='Jack', age=26)\n",
    "print(Jack._People__protect_var)\n",
    "print('='*10)\n",
    "Jack._People__protect_var = 99\n",
    "print(Jack._People__protect_var)\n",
    "print('='*10)"
   ]
  },
  {
   "cell_type": "markdown",
   "id": "5723cf16",
   "metadata": {},
   "source": [
    "---"
   ]
  },
  {
   "cell_type": "markdown",
   "id": "aefffb69",
   "metadata": {},
   "source": [
    "### 裝飾器"
   ]
  },
  {
   "cell_type": "code",
   "execution_count": 7,
   "id": "37825dbf",
   "metadata": {},
   "outputs": [
    {
     "name": "stdout",
     "output_type": "stream",
     "text": [
      "Jack\n",
      "26\n",
      "Jack\n",
      "26\n",
      "==========\n",
      "Joy\n",
      "99\n",
      "Ken\n",
      "128\n",
      "==========\n"
     ]
    }
   ],
   "source": [
    "class People:\n",
    "    def __init__(self, name, age):\n",
    "        self.__name = name\n",
    "        self.__age = age\n",
    "    \n",
    "    def get_name(self):\n",
    "        return self.__name\n",
    "    @property\n",
    "    def name(self):\n",
    "        # 可以自己添加一些合法性檢查\n",
    "        return self.__name\n",
    "    \n",
    "    def set_name(self, var):\n",
    "        self.__name = var\n",
    "    @name.setter\n",
    "    def name(self, var):\n",
    "        # 可以自己添加一些合法性檢查\n",
    "        self.__name = var\n",
    "\n",
    "    def get_age(self):\n",
    "        return self.__age\n",
    "    @property\n",
    "    def age(self):\n",
    "        # 可以自己添加一些合法性檢查\n",
    "        return self.__age\n",
    "    \n",
    "    def set_age(self, var):\n",
    "        self.__age = var\n",
    "    @age.setter\n",
    "    def age(self, var):\n",
    "        # 可以自己添加一些合法性檢查\n",
    "        self.__age = var\n",
    "        \n",
    "Jack = People(name='Jack', age=26)\n",
    "print(Jack.get_name())\n",
    "print(Jack.get_age())\n",
    "print(Jack.name)\n",
    "print(Jack.age)\n",
    "print('='*10)\n",
    "Jack.set_name('Joy')\n",
    "Jack.set_age(99)\n",
    "print(Jack.name)\n",
    "print(Jack.age)\n",
    "Jack.name = 'Ken'\n",
    "Jack.age = 128\n",
    "print(Jack.name)\n",
    "print(Jack.age)\n",
    "print('='*10)"
   ]
  },
  {
   "cell_type": "markdown",
   "id": "6039b259",
   "metadata": {},
   "source": [
    "---"
   ]
  },
  {
   "cell_type": "markdown",
   "id": "b517fb35",
   "metadata": {},
   "source": [
    "### 繼承"
   ]
  },
  {
   "cell_type": "code",
   "execution_count": 8,
   "id": "dd3c0254",
   "metadata": {},
   "outputs": [
    {
     "name": "stdout",
     "output_type": "stream",
     "text": [
      "<class '__main__.Animal'>\n",
      "動物都會吃\n",
      "==========\n",
      "<class '__main__.Bird'>\n",
      "動物都會吃\n",
      "==========\n",
      "<class '__main__.Dog'>\n",
      "動物都會吃\n",
      "==========\n"
     ]
    }
   ],
   "source": [
    "class Animal:\n",
    "    def eat(self):\n",
    "        print('動物都會吃')\n",
    "\n",
    "class Bird(Animal):\n",
    "    pass\n",
    "\n",
    "class Dog(Animal):\n",
    "    pass\n",
    "\n",
    "a = Animal()\n",
    "print(type(a))\n",
    "a.eat()\n",
    "print('='*10)\n",
    "\n",
    "b = Bird()\n",
    "print(type(b))\n",
    "b.eat()\n",
    "print('='*10)\n",
    "\n",
    "d = Dog()\n",
    "print(type(d))\n",
    "d.eat()\n",
    "print('='*10)"
   ]
  },
  {
   "cell_type": "markdown",
   "id": "af731298",
   "metadata": {},
   "source": [
    "### 多態"
   ]
  },
  {
   "cell_type": "code",
   "execution_count": 9,
   "id": "548bd3dc",
   "metadata": {},
   "outputs": [
    {
     "name": "stdout",
     "output_type": "stream",
     "text": [
      "動物都會吃\n",
      "==========\n",
      "鳥會啄米\n",
      "鳥會飛\n",
      "==========\n",
      "狗會啃肉\n",
      "狗會搖尾巴\n",
      "==========\n"
     ]
    }
   ],
   "source": [
    "class Animal:\n",
    "    def eat(self):\n",
    "        print('動物都會吃')\n",
    "\n",
    "class Bird(Animal):\n",
    "    def fly(self):\n",
    "        print('鳥會飛')\n",
    "    def eat(self):\n",
    "        print('鳥會啄米')\n",
    "\n",
    "class Dog(Animal):\n",
    "    def tail(self):\n",
    "        print('狗會搖尾巴')\n",
    "    def eat(self):\n",
    "        print('狗會啃肉')\n",
    "\n",
    "a = Animal()\n",
    "a.eat()\n",
    "print('='*10)\n",
    "        \n",
    "b = Bird()\n",
    "b.eat()\n",
    "b.fly()\n",
    "print('='*10)\n",
    "\n",
    "d = Dog()\n",
    "d.eat()\n",
    "d.tail()\n",
    "print('='*10)"
   ]
  },
  {
   "cell_type": "markdown",
   "id": "680bdda2",
   "metadata": {},
   "source": [
    "---"
   ]
  },
  {
   "cell_type": "markdown",
   "id": "f390c418",
   "metadata": {},
   "source": [
    "### 類屬性vs實例屬性"
   ]
  },
  {
   "cell_type": "code",
   "execution_count": 10,
   "id": "8e786177",
   "metadata": {},
   "outputs": [],
   "source": [
    "class Student:\n",
    "    count = 0\n",
    "    \n",
    "    def __init__(self, name):\n",
    "        self.name = name\n",
    "\n",
    "\n",
    "# print(Student.name) # 實例屬性，需要先建立才能使用"
   ]
  },
  {
   "cell_type": "markdown",
   "id": "704083a8",
   "metadata": {},
   "source": [
    "### 類屬性\n",
    "- 不須建立就可以使用"
   ]
  },
  {
   "cell_type": "code",
   "execution_count": 11,
   "id": "cd7189ec",
   "metadata": {},
   "outputs": [
    {
     "name": "stdout",
     "output_type": "stream",
     "text": [
      "0\n"
     ]
    }
   ],
   "source": [
    "print(Student.count)"
   ]
  },
  {
   "cell_type": "markdown",
   "id": "c7b78670",
   "metadata": {},
   "source": [
    "### 實例屬性\n",
    "-  需要先建立才能使用"
   ]
  },
  {
   "cell_type": "code",
   "execution_count": 12,
   "id": "3342a58b",
   "metadata": {},
   "outputs": [
    {
     "name": "stdout",
     "output_type": "stream",
     "text": [
      "0\n",
      "Jack\n"
     ]
    }
   ],
   "source": [
    "s1 = Student(name='Jack')\n",
    "print(s1.count) # 被轉為實例屬性\n",
    "print(s1.name)"
   ]
  },
  {
   "cell_type": "code",
   "execution_count": 13,
   "id": "8f7a9d23",
   "metadata": {},
   "outputs": [
    {
     "name": "stdout",
     "output_type": "stream",
     "text": [
      "888\n",
      "Joy\n",
      "==========\n",
      "0\n"
     ]
    }
   ],
   "source": [
    "s1.count = 888\n",
    "s1.name = 'Joy'\n",
    "print(s1.count) # 被轉為實例屬性\n",
    "print(s1.name)\n",
    "print('='*10)\n",
    "print(Student.count)"
   ]
  },
  {
   "cell_type": "markdown",
   "id": "2975c877",
   "metadata": {},
   "source": [
    "修改類屬性，先前已建立的實例屬性不被影響"
   ]
  },
  {
   "cell_type": "code",
   "execution_count": 14,
   "id": "e4ef7138",
   "metadata": {},
   "outputs": [
    {
     "name": "stdout",
     "output_type": "stream",
     "text": [
      "777\n",
      "==========\n",
      "888\n",
      "==========\n",
      "777\n",
      "==========\n"
     ]
    }
   ],
   "source": [
    "Student.count = 777\n",
    "print(Student.count)\n",
    "print('='*10)\n",
    "print(s1.count)\n",
    "print('='*10)\n",
    "s2 = Student(name='Pony')\n",
    "print(s2.count)\n",
    "print('='*10)"
   ]
  },
  {
   "cell_type": "markdown",
   "id": "c283be0e",
   "metadata": {},
   "source": [
    "### 應用"
   ]
  },
  {
   "cell_type": "code",
   "execution_count": 15,
   "id": "7fe0fdc3",
   "metadata": {},
   "outputs": [
    {
     "name": "stdout",
     "output_type": "stream",
     "text": [
      "3\n"
     ]
    }
   ],
   "source": [
    "class Student:\n",
    "    count = 0\n",
    "    \n",
    "    def __init__(self, name):\n",
    "        Student.count += 1\n",
    "        self.name = name\n",
    "        \n",
    "s1 = Student('Joy')\n",
    "s2 = Student('Pony')\n",
    "s3 = Student('Jack')\n",
    "\n",
    "print(Student.count)"
   ]
  },
  {
   "cell_type": "markdown",
   "id": "bef8375d",
   "metadata": {},
   "source": [
    "### 類方法vs實例方法vs靜態方法"
   ]
  },
  {
   "cell_type": "code",
   "execution_count": 16,
   "id": "622b1193",
   "metadata": {},
   "outputs": [],
   "source": [
    "class People:\n",
    "    def __init__(self, name, age):\n",
    "        self.name = name\n",
    "        self.age = age\n",
    "    \n",
    "    def sayhi(self):\n",
    "        print('實例方法')\n",
    "        print('-')\n",
    "        self.saybye()\n",
    "        print('-')\n",
    "        self.say()\n",
    "        \n",
    "    \n",
    "    @classmethod\n",
    "    def saybye(cls):\n",
    "        print('類方法')\n",
    "        print('-')\n",
    "        cls.say()\n",
    "    \n",
    "    @staticmethod\n",
    "    def say():\n",
    "        print('靜態方法')"
   ]
  },
  {
   "cell_type": "markdown",
   "id": "b593bd08",
   "metadata": {},
   "source": [
    "### 實例方法\n",
    "- 須先建立才可以用，通吃"
   ]
  },
  {
   "cell_type": "code",
   "execution_count": 17,
   "id": "4e154414",
   "metadata": {},
   "outputs": [
    {
     "name": "stdout",
     "output_type": "stream",
     "text": [
      "實例方法\n",
      "-\n",
      "類方法\n",
      "-\n",
      "靜態方法\n",
      "-\n",
      "靜態方法\n",
      "==========\n",
      "類方法\n",
      "-\n",
      "靜態方法\n",
      "==========\n",
      "靜態方法\n",
      "==========\n"
     ]
    }
   ],
   "source": [
    "p1 = People(name='Jack', age=20)\n",
    "p1.sayhi()\n",
    "print('='*10)\n",
    "p1.saybye()\n",
    "print('='*10)\n",
    "p1.say()\n",
    "print('='*10)"
   ]
  },
  {
   "cell_type": "markdown",
   "id": "08c8e905",
   "metadata": {},
   "source": [
    "### 類方法\n",
    "- 不須建立就可以用，只吃類方法和靜態方法"
   ]
  },
  {
   "cell_type": "code",
   "execution_count": 18,
   "id": "29eeaf0f",
   "metadata": {},
   "outputs": [
    {
     "name": "stdout",
     "output_type": "stream",
     "text": [
      "類方法\n",
      "-\n",
      "靜態方法\n"
     ]
    }
   ],
   "source": [
    "People.saybye()"
   ]
  },
  {
   "cell_type": "markdown",
   "id": "d5b8acb7",
   "metadata": {},
   "source": [
    "### 靜態方法\n",
    "- 不須建立就可以用，只靜態方法"
   ]
  },
  {
   "cell_type": "code",
   "execution_count": 19,
   "id": "dd432530",
   "metadata": {},
   "outputs": [
    {
     "name": "stdout",
     "output_type": "stream",
     "text": [
      "靜態方法\n"
     ]
    }
   ],
   "source": [
    "People.say()"
   ]
  },
  {
   "cell_type": "code",
   "execution_count": null,
   "id": "7974de91",
   "metadata": {},
   "outputs": [],
   "source": []
  }
 ],
 "metadata": {
  "kernelspec": {
   "display_name": "Python 3",
   "language": "python",
   "name": "python3"
  },
  "language_info": {
   "codemirror_mode": {
    "name": "ipython",
    "version": 3
   },
   "file_extension": ".py",
   "mimetype": "text/x-python",
   "name": "python",
   "nbconvert_exporter": "python",
   "pygments_lexer": "ipython3",
   "version": "3.6.8"
  }
 },
 "nbformat": 4,
 "nbformat_minor": 5
}
