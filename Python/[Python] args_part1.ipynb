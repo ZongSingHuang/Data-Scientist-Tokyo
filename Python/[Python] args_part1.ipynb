{
 "cells": [
  {
   "cell_type": "markdown",
   "id": "93cf4c24",
   "metadata": {},
   "source": [
    "### 未免也太長了吧，而且長度受限"
   ]
  },
  {
   "cell_type": "code",
   "execution_count": 1,
   "id": "730e0dc9",
   "metadata": {},
   "outputs": [
    {
     "name": "stdout",
     "output_type": "stream",
     "text": [
      "78\n"
     ]
    }
   ],
   "source": [
    "def add(a, b, c, d, e, f, g, h, i, j ,k, l):\n",
    "    return a+b+c+d+e+f+g+h+i+j+k+l\n",
    "\n",
    "print(add(1, 2, 3, 4, 5, 6, 7, 8, 9, 10, 11, 12))"
   ]
  },
  {
   "cell_type": "markdown",
   "id": "820f9aa5",
   "metadata": {},
   "source": [
    "雖然可以用很多方法來簡化上述代碼，如list"
   ]
  },
  {
   "cell_type": "code",
   "execution_count": 2,
   "id": "2e4fc6eb",
   "metadata": {},
   "outputs": [
    {
     "name": "stdout",
     "output_type": "stream",
     "text": [
      "78\n"
     ]
    }
   ],
   "source": [
    "def add(a):\n",
    "    return sum(a)\n",
    "print(add([1, 2, 3, 4, 5, 6, 7, 8, 9, 10, 11, 12]))"
   ]
  },
  {
   "cell_type": "markdown",
   "id": "f352b71c",
   "metadata": {},
   "source": [
    "### *args\n",
    "- args都是tuple型別"
   ]
  },
  {
   "cell_type": "code",
   "execution_count": 3,
   "id": "17677f81",
   "metadata": {},
   "outputs": [
    {
     "name": "stdout",
     "output_type": "stream",
     "text": [
      "(1, 2, 3)\n",
      "<class 'tuple'>\n"
     ]
    }
   ],
   "source": [
    "def add(*args):\n",
    "    print(args)\n",
    "    print(type(args))\n",
    "\n",
    "add(1, 2, 3)"
   ]
  },
  {
   "cell_type": "markdown",
   "id": "0a839f54",
   "metadata": {},
   "source": [
    "- 不一定要取args，也可以叫aaaa，反正有掛星號就好"
   ]
  },
  {
   "cell_type": "code",
   "execution_count": 4,
   "id": "41c20f6e",
   "metadata": {},
   "outputs": [
    {
     "name": "stdout",
     "output_type": "stream",
     "text": [
      "(1, 2, 3)\n",
      "<class 'tuple'>\n"
     ]
    }
   ],
   "source": [
    "def add(*aaa):\n",
    "    print(aaa)\n",
    "    print(type(aaa))\n",
    "\n",
    "add(1, 2, 3)"
   ]
  },
  {
   "cell_type": "markdown",
   "id": "849f9859",
   "metadata": {},
   "source": [
    "長度受限的問題解決了"
   ]
  },
  {
   "cell_type": "code",
   "execution_count": 5,
   "id": "021783e7",
   "metadata": {},
   "outputs": [
    {
     "name": "stdout",
     "output_type": "stream",
     "text": [
      "15\n",
      "78\n"
     ]
    }
   ],
   "source": [
    "def add(*args):\n",
    "    result = 0\n",
    "    for item in args:\n",
    "        result = result + item\n",
    "    return result\n",
    "\n",
    "print(add(1, 2, 3, 4, 5))\n",
    "print(add(1, 2, 3, 4, 5, 6, 7, 8, 9, 10, 11, 12))\n",
    "#print(add(1, 2, 3, 4, 5, 6, 7, 8, 9, 10, 11, '12')) # 還是會報錯"
   ]
  },
  {
   "cell_type": "code",
   "execution_count": null,
   "id": "8ac47f06",
   "metadata": {},
   "outputs": [],
   "source": []
  }
 ],
 "metadata": {
  "kernelspec": {
   "display_name": "Python 3",
   "language": "python",
   "name": "python3"
  },
  "language_info": {
   "codemirror_mode": {
    "name": "ipython",
    "version": 3
   },
   "file_extension": ".py",
   "mimetype": "text/x-python",
   "name": "python",
   "nbconvert_exporter": "python",
   "pygments_lexer": "ipython3",
   "version": "3.6.13"
  }
 },
 "nbformat": 4,
 "nbformat_minor": 5
}
