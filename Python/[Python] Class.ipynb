{
 "cells": [
  {
   "cell_type": "markdown",
   "id": "e934c5cb",
   "metadata": {},
   "source": [
    "1. 這邊用我最愛吃的CoCo壹番屋的客人點餐單作舉例，因為菜單內容太多，所以我簡化如下\n",
    "2. 可以選擇完主食口味(歐姆蛋、菠菜、海鮮、炸豬排)後，再調整飯量(200g/300g/400g/500g/600g)以及辣度(0辛~6辛)\n",
    "3. 套餐可以選擇沙拉口味(綜合、炸雞塊、德式香腸、生菜)、固定例湯、飲料(咖啡、紅茶、可爾必思、可樂、柳橙汁、啤酒、泰式奶茶)\n",
    "4. 可以額外單點薯條、薯餅\n",
    "4. 因此每個點餐單分別會有主食口味、飯量、辣度、沙拉口味、飲料、單點\n",
    "5. 不同的組合，價錢也不同"
   ]
  },
  {
   "cell_type": "markdown",
   "id": "8e62b704",
   "metadata": {},
   "source": [
    "---"
   ]
  },
  {
   "cell_type": "code",
   "execution_count": 1,
   "id": "3fa4f7aa",
   "metadata": {},
   "outputs": [],
   "source": [
    "class coco_bill:\n",
    "    def __init__(self, main_course='tonkatsu', rice=300, spicy=1, salad='lettuce', drink='coffee'):\n",
    "        self.main_course = main_course\n",
    "        self.rice = rice\n",
    "        self.spicy = spicy\n",
    "        self.salad = salad\n",
    "        self.drink = drink\n",
    "        self.price = 0\n",
    "    \n",
    "    def calculate(self, side_dishes='None'):\n",
    "        if self.main_course=='omdan':\n",
    "            self.price = self.price + 275\n",
    "        elif self.main_course=='spinach':\n",
    "            self.price = self.price + 160\n",
    "        elif self.main_course=='tonkatsu':\n",
    "            self.price = self.price + 245\n",
    "        \n",
    "        if self.rice==200:\n",
    "            self.price = self.price - 20\n",
    "        elif self.rice==300:\n",
    "            self.price = self.price + 0\n",
    "        elif self.rice==400:\n",
    "            self.price = self.price + 30\n",
    "        elif self.rice==500:\n",
    "            self.price = self.price + 60\n",
    "        elif self.rice==600:\n",
    "            self.price = self.price + 90\n",
    "\n",
    "        if self.salad=='comprehensive':\n",
    "            self.price = self.price + 130\n",
    "        elif self.salad=='chicken':\n",
    "            self.price = self.price + 110\n",
    "        elif self.salad=='sausage':\n",
    "            self.price = self.price + 110\n",
    "        elif self.salad=='lettuce':\n",
    "            self.price = self.price + 0\n",
    "        \n",
    "        if self.drink=='beer':\n",
    "            self.price = self.price + 30\n",
    "        elif self.drink=='milk_tea':\n",
    "            self.price = self.price + 20\n",
    "        else:\n",
    "            self.price = self.price + 0\n",
    "            \n",
    "        if side_dishes=='french_fries':\n",
    "            self.price = self.price + 120\n",
    "        elif side_dishes=='hash_browns':\n",
    "            self.price = self.price + 80\n",
    "\n",
    "        \n",
    "        return self.price"
   ]
  },
  {
   "cell_type": "code",
   "execution_count": 2,
   "id": "d26902e1",
   "metadata": {},
   "outputs": [
    {
     "name": "stdout",
     "output_type": "stream",
     "text": [
      "omdan\n"
     ]
    },
    {
     "data": {
      "text/plain": [
       "415"
      ]
     },
     "execution_count": 2,
     "metadata": {},
     "output_type": "execute_result"
    }
   ],
   "source": [
    "Andy = coco_bill(main_course='omdan', rice=400, salad='chicken', drink='cola')\n",
    "print(Andy.main_course)\n",
    "Andy.calculate()"
   ]
  },
  {
   "cell_type": "code",
   "execution_count": 3,
   "id": "5e213653",
   "metadata": {},
   "outputs": [
    {
     "name": "stdout",
     "output_type": "stream",
     "text": [
      "milk_tea\n"
     ]
    },
    {
     "data": {
      "text/plain": [
       "245"
      ]
     },
     "execution_count": 3,
     "metadata": {},
     "output_type": "execute_result"
    }
   ],
   "source": [
    "Judy = coco_bill(rice=200, drink='milk_tea')\n",
    "print(Judy.drink)\n",
    "Judy.calculate()"
   ]
  },
  {
   "cell_type": "code",
   "execution_count": 4,
   "id": "0cf1f10e",
   "metadata": {},
   "outputs": [
    {
     "name": "stdout",
     "output_type": "stream",
     "text": [
      "5\n"
     ]
    },
    {
     "data": {
      "text/plain": [
       "325"
      ]
     },
     "execution_count": 4,
     "metadata": {},
     "output_type": "execute_result"
    }
   ],
   "source": [
    "Cindy = coco_bill(spicy=5, rice=200, drink='milk_tea')\n",
    "print(Cindy.spicy)\n",
    "Cindy.calculate(side_dishes='hash_browns')"
   ]
  }
 ],
 "metadata": {
  "kernelspec": {
   "display_name": "Python 3",
   "language": "python",
   "name": "python3"
  },
  "language_info": {
   "codemirror_mode": {
    "name": "ipython",
    "version": 3
   },
   "file_extension": ".py",
   "mimetype": "text/x-python",
   "name": "python",
   "nbconvert_exporter": "python",
   "pygments_lexer": "ipython3",
   "version": "3.6.13"
  }
 },
 "nbformat": 4,
 "nbformat_minor": 5
}
