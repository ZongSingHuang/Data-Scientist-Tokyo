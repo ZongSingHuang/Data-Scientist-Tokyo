{
 "cells": [
  {
   "cell_type": "markdown",
   "id": "2e4de523",
   "metadata": {},
   "source": [
    "### 不能直接訪問和修改，好麻煩"
   ]
  },
  {
   "cell_type": "code",
   "execution_count": 1,
   "id": "390cb27e",
   "metadata": {},
   "outputs": [],
   "source": [
    "class People:\n",
    "    def __init__(self, name, age):\n",
    "        self.__name = name\n",
    "        self.__age = age\n",
    "    \n",
    "    def get_name(self):\n",
    "        return self.__name\n",
    "    \n",
    "    def get_age(self):\n",
    "        return self.__age\n",
    "    \n",
    "    def set_name(self, name):\n",
    "        self.__name = name\n",
    "        \n",
    "    def set_age(self, age):\n",
    "        self.__age = age"
   ]
  },
  {
   "cell_type": "code",
   "execution_count": 2,
   "id": "a3f109ab",
   "metadata": {},
   "outputs": [
    {
     "name": "stdout",
     "output_type": "stream",
     "text": [
      "20\n",
      "30\n"
     ]
    }
   ],
   "source": [
    "someone = People(name='Jack', age=20)\n",
    "\n",
    "print(someone.get_age())\n",
    "someone.set_age(30)\n",
    "print(someone.get_age())"
   ]
  },
  {
   "cell_type": "markdown",
   "id": "bd30ebe1",
   "metadata": {},
   "source": [
    "### 透過修飾器，就可以直接訪問和修改，而且還可以加入一些程序，使得資料更乾淨"
   ]
  },
  {
   "cell_type": "code",
   "execution_count": 3,
   "id": "ee5d54b6",
   "metadata": {},
   "outputs": [],
   "source": [
    "class People:\n",
    "    def __init__(self, name, age):\n",
    "        self.__name = name\n",
    "        self.__age = age\n",
    "    \n",
    "    @property\n",
    "    def name(self):\n",
    "        # 格式的規範\n",
    "        return self.__name\n",
    "    \n",
    "    @property\n",
    "    def age(self):\n",
    "        return self.__age\n",
    "    \n",
    "    @name.setter\n",
    "    def name(self, name):\n",
    "        # 做一些合法性檢查\n",
    "        self.__name = name\n",
    "    @age.setter\n",
    "    def age(self, age):\n",
    "        self.__age = age"
   ]
  },
  {
   "cell_type": "code",
   "execution_count": 4,
   "id": "15f84f3f",
   "metadata": {},
   "outputs": [
    {
     "name": "stdout",
     "output_type": "stream",
     "text": [
      "20\n",
      "100\n"
     ]
    }
   ],
   "source": [
    "someone = People(name='Jack', age=20)\n",
    "\n",
    "print(someone.age)\n",
    "someone.age = 100\n",
    "print(someone.age)"
   ]
  },
  {
   "cell_type": "markdown",
   "id": "f50b4e3a",
   "metadata": {},
   "source": [
    "### 透過修飾器建立類的方法"
   ]
  },
  {
   "cell_type": "code",
   "execution_count": 7,
   "id": "d6cbc2d9",
   "metadata": {},
   "outputs": [],
   "source": [
    "class People:\n",
    "    def __init__(self, name, age):\n",
    "        self.name = name\n",
    "        self.age = age\n",
    "        \n",
    "    \n",
    "    def hello(self):\n",
    "        print(self.name + ' say hello!')# 誰都可以調\n",
    "        print('這是一個實利方法')\n",
    "        \n",
    "    @classmethod\n",
    "    def bye(cls):\n",
    "        print('這是一個類方法')\n",
    "        cls.good() # 可以調用靜態方法\n",
    "    \n",
    "    @staticmethod\n",
    "    def good():\n",
    "        print('這是一個靜態方法')\n",
    "        # 誰都調不動"
   ]
  },
  {
   "cell_type": "code",
   "execution_count": 9,
   "id": "e2657917",
   "metadata": {},
   "outputs": [
    {
     "name": "stdout",
     "output_type": "stream",
     "text": [
      "Jack say hello!\n",
      "==========\n",
      "這是一個類方法\n",
      "這是一個靜態方法\n",
      "==========\n",
      "這是一個靜態方法\n",
      "==========\n",
      "這是一個類方法\n",
      "這是一個靜態方法\n",
      "==========\n",
      "這是一個靜態方法\n"
     ]
    }
   ],
   "source": [
    "p1 = People(name='Jack', age=20)\n",
    "p1.hello()\n",
    "print('='*10)\n",
    "p1.bye()\n",
    "print('='*10)\n",
    "p1.good()\n",
    "print('='*10)\n",
    "People.bye()\n",
    "print('='*10)\n",
    "People.good()"
   ]
  },
  {
   "cell_type": "code",
   "execution_count": null,
   "id": "7dedd99c",
   "metadata": {},
   "outputs": [],
   "source": []
  }
 ],
 "metadata": {
  "kernelspec": {
   "display_name": "Python 3",
   "language": "python",
   "name": "python3"
  },
  "language_info": {
   "codemirror_mode": {
    "name": "ipython",
    "version": 3
   },
   "file_extension": ".py",
   "mimetype": "text/x-python",
   "name": "python",
   "nbconvert_exporter": "python",
   "pygments_lexer": "ipython3",
   "version": "3.6.8"
  }
 },
 "nbformat": 4,
 "nbformat_minor": 5
}
