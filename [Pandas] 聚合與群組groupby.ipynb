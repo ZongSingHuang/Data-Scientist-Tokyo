{
 "cells": [
  {
   "cell_type": "code",
   "execution_count": 1,
   "id": "4f6a0d94",
   "metadata": {},
   "outputs": [],
   "source": [
    "import numpy as np\n",
    "import pandas as pd"
   ]
  },
  {
   "cell_type": "code",
   "execution_count": 2,
   "id": "39ad7e1c",
   "metadata": {},
   "outputs": [
    {
     "data": {
      "text/html": [
       "<div>\n",
       "<style scoped>\n",
       "    .dataframe tbody tr th:only-of-type {\n",
       "        vertical-align: middle;\n",
       "    }\n",
       "\n",
       "    .dataframe tbody tr th {\n",
       "        vertical-align: top;\n",
       "    }\n",
       "\n",
       "    .dataframe thead th {\n",
       "        text-align: right;\n",
       "    }\n",
       "</style>\n",
       "<table border=\"1\" class=\"dataframe\">\n",
       "  <thead>\n",
       "    <tr style=\"text-align: right;\">\n",
       "      <th></th>\n",
       "      <th>ID</th>\n",
       "      <th>City</th>\n",
       "      <th>Birth_year</th>\n",
       "      <th>Name</th>\n",
       "      <th>Region</th>\n",
       "    </tr>\n",
       "  </thead>\n",
       "  <tbody>\n",
       "    <tr>\n",
       "      <th>0</th>\n",
       "      <td>100</td>\n",
       "      <td>Tokyo</td>\n",
       "      <td>1990</td>\n",
       "      <td>Hiroshi</td>\n",
       "      <td>Kanto</td>\n",
       "    </tr>\n",
       "    <tr>\n",
       "      <th>1</th>\n",
       "      <td>101</td>\n",
       "      <td>Osaka</td>\n",
       "      <td>1989</td>\n",
       "      <td>Akiki</td>\n",
       "      <td>Kansai</td>\n",
       "    </tr>\n",
       "    <tr>\n",
       "      <th>2</th>\n",
       "      <td>102</td>\n",
       "      <td>Kyoto</td>\n",
       "      <td>1992</td>\n",
       "      <td>Yuki</td>\n",
       "      <td>Kansai</td>\n",
       "    </tr>\n",
       "    <tr>\n",
       "      <th>3</th>\n",
       "      <td>103</td>\n",
       "      <td>Hokkaido</td>\n",
       "      <td>1997</td>\n",
       "      <td>Satoru</td>\n",
       "      <td>Hokkaido</td>\n",
       "    </tr>\n",
       "    <tr>\n",
       "      <th>4</th>\n",
       "      <td>104</td>\n",
       "      <td>Tokyo</td>\n",
       "      <td>1982</td>\n",
       "      <td>Steve</td>\n",
       "      <td>Kanto</td>\n",
       "    </tr>\n",
       "    <tr>\n",
       "      <th>5</th>\n",
       "      <td>106</td>\n",
       "      <td>Tokyo</td>\n",
       "      <td>1991</td>\n",
       "      <td>Mituru</td>\n",
       "      <td>Kanto</td>\n",
       "    </tr>\n",
       "    <tr>\n",
       "      <th>6</th>\n",
       "      <td>108</td>\n",
       "      <td>Osaka</td>\n",
       "      <td>1988</td>\n",
       "      <td>Aoi</td>\n",
       "      <td>Kansai</td>\n",
       "    </tr>\n",
       "    <tr>\n",
       "      <th>7</th>\n",
       "      <td>110</td>\n",
       "      <td>Kyoto</td>\n",
       "      <td>1990</td>\n",
       "      <td>Tarou</td>\n",
       "      <td>Kansai</td>\n",
       "    </tr>\n",
       "    <tr>\n",
       "      <th>8</th>\n",
       "      <td>111</td>\n",
       "      <td>Hokkaido</td>\n",
       "      <td>1995</td>\n",
       "      <td>Suguru</td>\n",
       "      <td>Hokkaido</td>\n",
       "    </tr>\n",
       "    <tr>\n",
       "      <th>9</th>\n",
       "      <td>113</td>\n",
       "      <td>Tokyo</td>\n",
       "      <td>1981</td>\n",
       "      <td>Mitsuo</td>\n",
       "      <td>Kanto</td>\n",
       "    </tr>\n",
       "  </tbody>\n",
       "</table>\n",
       "</div>"
      ],
      "text/plain": [
       "    ID      City  Birth_year     Name    Region\n",
       "0  100     Tokyo        1990  Hiroshi     Kanto\n",
       "1  101     Osaka        1989    Akiki    Kansai\n",
       "2  102     Kyoto        1992     Yuki    Kansai\n",
       "3  103  Hokkaido        1997   Satoru  Hokkaido\n",
       "4  104     Tokyo        1982    Steve     Kanto\n",
       "5  106     Tokyo        1991   Mituru     Kanto\n",
       "6  108     Osaka        1988      Aoi    Kansai\n",
       "7  110     Kyoto        1990    Tarou    Kansai\n",
       "8  111  Hokkaido        1995   Suguru  Hokkaido\n",
       "9  113     Tokyo        1981   Mitsuo     Kanto"
      ]
     },
     "execution_count": 2,
     "metadata": {},
     "output_type": "execute_result"
    }
   ],
   "source": [
    "raw_data = {'ID'        :['100',     '101',    '102',    '103',      '104',   '106',    '108',    '110',    '111',      '113'],\n",
    "            'City'      :['Tokyo',   'Osaka',  'Kyoto',  'Hokkaido', 'Tokyo', 'Tokyo',  'Osaka',  'Kyoto',  'Hokkaido', 'Tokyo'],\n",
    "            'Birth_year':[1990,      1989,     1992,     1997,       1982,    1991,     1988,     1990,     1995,       1981],\n",
    "            'Name'      :['Hiroshi', 'Akiki',  'Yuki',   'Satoru',   'Steve', 'Mituru', 'Aoi',    'Tarou',  'Suguru',   'Mitsuo'],\n",
    "            'Region'    :['Kanto',   'Kansai', 'Kansai', 'Hokkaido', 'Kanto', 'Kanto',  'Kansai', 'Kansai', 'Hokkaido', 'Kanto']}\n",
    "table = pd.DataFrame(data=raw_data)\n",
    "table"
   ]
  },
  {
   "cell_type": "markdown",
   "id": "f43be4df",
   "metadata": {},
   "source": [
    "### 單基準"
   ]
  },
  {
   "cell_type": "code",
   "execution_count": 3,
   "id": "06b2d400",
   "metadata": {},
   "outputs": [
    {
     "data": {
      "text/plain": [
       "<pandas.core.groupby.generic.DataFrameGroupBy object at 0x00000234E7806978>"
      ]
     },
     "execution_count": 3,
     "metadata": {},
     "output_type": "execute_result"
    }
   ],
   "source": [
    "table.groupby('City')"
   ]
  },
  {
   "cell_type": "code",
   "execution_count": 4,
   "id": "a322f2be",
   "metadata": {},
   "outputs": [
    {
     "data": {
      "text/plain": [
       "{'Hokkaido': [3, 8], 'Kyoto': [2, 7], 'Osaka': [1, 6], 'Tokyo': [0, 4, 5, 9]}"
      ]
     },
     "execution_count": 4,
     "metadata": {},
     "output_type": "execute_result"
    }
   ],
   "source": [
    "table.groupby('City').groups"
   ]
  },
  {
   "cell_type": "code",
   "execution_count": 5,
   "id": "94fe844d",
   "metadata": {},
   "outputs": [
    {
     "data": {
      "text/plain": [
       "City\n",
       "Hokkaido    2\n",
       "Kyoto       2\n",
       "Osaka       2\n",
       "Tokyo       4\n",
       "dtype: int64"
      ]
     },
     "execution_count": 5,
     "metadata": {},
     "output_type": "execute_result"
    }
   ],
   "source": [
    "table.groupby('City').size()"
   ]
  },
  {
   "cell_type": "code",
   "execution_count": 6,
   "id": "892cf27d",
   "metadata": {},
   "outputs": [
    {
     "data": {
      "text/plain": [
       "City\n",
       "Hokkaido    1996.0\n",
       "Kyoto       1991.0\n",
       "Osaka       1988.5\n",
       "Tokyo       1986.0\n",
       "Name: Birth_year, dtype: float64"
      ]
     },
     "execution_count": 6,
     "metadata": {},
     "output_type": "execute_result"
    }
   ],
   "source": [
    "table.groupby('City')['Birth_year'].mean()"
   ]
  },
  {
   "cell_type": "markdown",
   "id": "eb11a343",
   "metadata": {},
   "source": [
    "### 多基準"
   ]
  },
  {
   "cell_type": "code",
   "execution_count": 7,
   "id": "c4531c15",
   "metadata": {},
   "outputs": [
    {
     "data": {
      "text/plain": [
       "<pandas.core.groupby.generic.DataFrameGroupBy object at 0x00000234E77EF518>"
      ]
     },
     "execution_count": 7,
     "metadata": {},
     "output_type": "execute_result"
    }
   ],
   "source": [
    "table.groupby(['Region', 'City'])"
   ]
  },
  {
   "cell_type": "code",
   "execution_count": 8,
   "id": "3dc7091b",
   "metadata": {},
   "outputs": [
    {
     "data": {
      "text/plain": [
       "{('Hokkaido', 'Hokkaido'): [3, 8], ('Kansai', 'Kyoto'): [2, 7], ('Kansai', 'Osaka'): [1, 6], ('Kanto', 'Tokyo'): [0, 4, 5, 9]}"
      ]
     },
     "execution_count": 8,
     "metadata": {},
     "output_type": "execute_result"
    }
   ],
   "source": [
    "table.groupby(['Region', 'City']).groups"
   ]
  },
  {
   "cell_type": "code",
   "execution_count": 9,
   "id": "04b4a351",
   "metadata": {},
   "outputs": [
    {
     "data": {
      "text/plain": [
       "Region    City    \n",
       "Hokkaido  Hokkaido    2\n",
       "Kansai    Kyoto       2\n",
       "          Osaka       2\n",
       "Kanto     Tokyo       4\n",
       "dtype: int64"
      ]
     },
     "execution_count": 9,
     "metadata": {},
     "output_type": "execute_result"
    }
   ],
   "source": [
    "table.groupby(['Region', 'City']).size()"
   ]
  },
  {
   "cell_type": "code",
   "execution_count": 10,
   "id": "0415d9a8",
   "metadata": {},
   "outputs": [
    {
     "data": {
      "text/plain": [
       "Region    City    \n",
       "Hokkaido  Hokkaido    1996.0\n",
       "Kansai    Kyoto       1991.0\n",
       "          Osaka       1988.5\n",
       "Kanto     Tokyo       1986.0\n",
       "Name: Birth_year, dtype: float64"
      ]
     },
     "execution_count": 10,
     "metadata": {},
     "output_type": "execute_result"
    }
   ],
   "source": [
    "table.groupby(['Region', 'City'])['Birth_year'].mean()"
   ]
  },
  {
   "cell_type": "code",
   "execution_count": 11,
   "id": "cdfe6bf9",
   "metadata": {},
   "outputs": [
    {
     "data": {
      "text/html": [
       "<div>\n",
       "<style scoped>\n",
       "    .dataframe tbody tr th:only-of-type {\n",
       "        vertical-align: middle;\n",
       "    }\n",
       "\n",
       "    .dataframe tbody tr th {\n",
       "        vertical-align: top;\n",
       "    }\n",
       "\n",
       "    .dataframe thead th {\n",
       "        text-align: right;\n",
       "    }\n",
       "</style>\n",
       "<table border=\"1\" class=\"dataframe\">\n",
       "  <thead>\n",
       "    <tr style=\"text-align: right;\">\n",
       "      <th></th>\n",
       "      <th>Region</th>\n",
       "      <th>City</th>\n",
       "      <th>Birth_year</th>\n",
       "    </tr>\n",
       "  </thead>\n",
       "  <tbody>\n",
       "    <tr>\n",
       "      <th>0</th>\n",
       "      <td>Hokkaido</td>\n",
       "      <td>Hokkaido</td>\n",
       "      <td>1996.0</td>\n",
       "    </tr>\n",
       "    <tr>\n",
       "      <th>1</th>\n",
       "      <td>Kansai</td>\n",
       "      <td>Kyoto</td>\n",
       "      <td>1991.0</td>\n",
       "    </tr>\n",
       "    <tr>\n",
       "      <th>2</th>\n",
       "      <td>Kansai</td>\n",
       "      <td>Osaka</td>\n",
       "      <td>1988.5</td>\n",
       "    </tr>\n",
       "    <tr>\n",
       "      <th>3</th>\n",
       "      <td>Kanto</td>\n",
       "      <td>Tokyo</td>\n",
       "      <td>1986.0</td>\n",
       "    </tr>\n",
       "  </tbody>\n",
       "</table>\n",
       "</div>"
      ],
      "text/plain": [
       "     Region      City  Birth_year\n",
       "0  Hokkaido  Hokkaido      1996.0\n",
       "1    Kansai     Kyoto      1991.0\n",
       "2    Kansai     Osaka      1988.5\n",
       "3     Kanto     Tokyo      1986.0"
      ]
     },
     "execution_count": 11,
     "metadata": {},
     "output_type": "execute_result"
    }
   ],
   "source": [
    "table.groupby(['Region', 'City'], as_index=False)['Birth_year'].mean()"
   ]
  },
  {
   "cell_type": "markdown",
   "id": "13e374bd",
   "metadata": {},
   "source": [
    "### 迴圈"
   ]
  },
  {
   "cell_type": "code",
   "execution_count": 12,
   "id": "eb583855",
   "metadata": {},
   "outputs": [
    {
     "name": "stdout",
     "output_type": "stream",
     "text": [
      "====================\n",
      "Region name:Hokkaido\n",
      "    ID      City  Birth_year    Name    Region\n",
      "3  103  Hokkaido        1997  Satoru  Hokkaido\n",
      "8  111  Hokkaido        1995  Suguru  Hokkaido\n",
      "====================\n",
      "Region name:Kansai\n",
      "    ID   City  Birth_year   Name  Region\n",
      "1  101  Osaka        1989  Akiki  Kansai\n",
      "2  102  Kyoto        1992   Yuki  Kansai\n",
      "6  108  Osaka        1988    Aoi  Kansai\n",
      "7  110  Kyoto        1990  Tarou  Kansai\n",
      "====================\n",
      "Region name:Kanto\n",
      "    ID   City  Birth_year     Name Region\n",
      "0  100  Tokyo        1990  Hiroshi  Kanto\n",
      "4  104  Tokyo        1982    Steve  Kanto\n",
      "5  106  Tokyo        1991   Mituru  Kanto\n",
      "9  113  Tokyo        1981   Mitsuo  Kanto\n"
     ]
    }
   ],
   "source": [
    "for group, content in table.groupby('Region'):\n",
    "    print('='*20)\n",
    "    print('Region name:{0}'.format(group))\n",
    "    print(content)"
   ]
  },
  {
   "cell_type": "code",
   "execution_count": null,
   "id": "3274c98d",
   "metadata": {},
   "outputs": [],
   "source": []
  }
 ],
 "metadata": {
  "kernelspec": {
   "display_name": "Python 3",
   "language": "python",
   "name": "python3"
  },
  "language_info": {
   "codemirror_mode": {
    "name": "ipython",
    "version": 3
   },
   "file_extension": ".py",
   "mimetype": "text/x-python",
   "name": "python",
   "nbconvert_exporter": "python",
   "pygments_lexer": "ipython3",
   "version": "3.6.13"
  }
 },
 "nbformat": 4,
 "nbformat_minor": 5
}
