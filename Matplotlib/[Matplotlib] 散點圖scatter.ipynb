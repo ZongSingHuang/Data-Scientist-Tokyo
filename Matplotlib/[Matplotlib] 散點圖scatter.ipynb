{
 "cells": [
  {
   "cell_type": "code",
   "execution_count": 1,
   "id": "1f4c5c0e",
   "metadata": {},
   "outputs": [],
   "source": [
    "import matplotlib.pyplot as plt\n",
    "import numpy as np\n",
    "\n",
    "x = np.arange(30) + 1\n",
    "y1 = np.random.rand(30)\n",
    "y2 = y1 - 5"
   ]
  },
  {
   "cell_type": "markdown",
   "id": "b8bfd5a3",
   "metadata": {},
   "source": [
    "---"
   ]
  },
  {
   "cell_type": "markdown",
   "id": "77862a30",
   "metadata": {},
   "source": [
    "### 散點圖"
   ]
  },
  {
   "cell_type": "code",
   "execution_count": 2,
   "id": "25405d54",
   "metadata": {},
   "outputs": [
    {
     "data": {
      "text/plain": [
       "<matplotlib.legend.Legend at 0x26cf6356668>"
      ]
     },
     "execution_count": 2,
     "metadata": {},
     "output_type": "execute_result"
    },
    {
     "data": {
      "image/png": "[encoded data removed]",
      "text/plain": [
       "<Figure size 720x216 with 1 Axes>"
      ]
     },
     "metadata": {
      "needs_background": "light"
     },
     "output_type": "display_data"
    }
   ],
   "source": [
    "plt.figure(figsize=(10, 3))\n",
    "plt.title('My title')\n",
    "plt.scatter(x, y1, c='red', marker='s', s=5, label='group1')\n",
    "plt.scatter(x, y2, c='blue', marker='*', s=100, label='group2')\n",
    "plt.xlabel('index')\n",
    "plt.ylabel('value')\n",
    "plt.xlim(1, 30)\n",
    "plt.xticks(np.arange(min(x), max(x), step=2))\n",
    "plt.grid()\n",
    "plt.legend(prop={'size': 20})"
   ]
  },
  {
   "cell_type": "markdown",
   "id": "672c6138",
   "metadata": {},
   "source": [
    "---"
   ]
  },
  {
   "cell_type": "markdown",
   "id": "35d91fe3",
   "metadata": {},
   "source": [
    "### 參考資料\n",
    "- https://www.delftstack.com/zh-tw/howto/matplotlib/how-to-improve-subplot-size-or-spacing-with-many-subplots-in-matplotlib/\n",
    "- https://matplotlib.org/stable/api/markers_api.html\n",
    "- https://matplotlib.org/2.1.2/api/_as_gen/matplotlib.pyplot.plot.html\n",
    "- https://matplotlib.org/2.1.2/api/_as_gen/matplotlib.lines.Line2D.html#matplotlib.lines.Line2D.set_linestyle"
   ]
  },
  {
   "cell_type": "code",
   "execution_count": null,
   "id": "d5e4378d",
   "metadata": {},
   "outputs": [],
   "source": []
  },
  {
   "cell_type": "code",
   "execution_count": null,
   "id": "740cfb56",
   "metadata": {},
   "outputs": [],
   "source": []
  }
 ],
 "metadata": {
  "kernelspec": {
   "display_name": "Python 3",
   "language": "python",
   "name": "python3"
  },
  "language_info": {
   "codemirror_mode": {
    "name": "ipython",
    "version": 3
   },
   "file_extension": ".py",
   "mimetype": "text/x-python",
   "name": "python",
   "nbconvert_exporter": "python",
   "pygments_lexer": "ipython3",
   "version": "3.6.13"
  }
 },
 "nbformat": 4,
 "nbformat_minor": 5
}
