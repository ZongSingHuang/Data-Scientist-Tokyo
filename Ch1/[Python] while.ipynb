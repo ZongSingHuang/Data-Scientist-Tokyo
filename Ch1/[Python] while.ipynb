{
 "cells": [
  {
   "cell_type": "markdown",
   "id": "1146312e",
   "metadata": {},
   "source": [
    "### 碎碎念\n",
    "while常用在最佳化演算法(PSO、GA、SA等等)，或者在神經網路的的權重訓練上。使用上要小心卡循環哈哈~"
   ]
  },
  {
   "cell_type": "markdown",
   "id": "b15be473",
   "metadata": {},
   "source": [
    "### 常見的寫法"
   ]
  },
  {
   "cell_type": "code",
   "execution_count": 1,
   "id": "8b380611",
   "metadata": {},
   "outputs": [
    {
     "name": "stdout",
     "output_type": "stream",
     "text": [
      "1\n",
      "2\n",
      "3\n",
      "4\n",
      "5\n",
      "6\n",
      "7\n",
      "8\n",
      "9\n",
      "10\n"
     ]
    }
   ],
   "source": [
    "value = 0\n",
    "\n",
    "while True:\n",
    "    value = value + 1\n",
    "    if value>10:\n",
    "        break\n",
    "    else:\n",
    "        print(value)"
   ]
  },
  {
   "cell_type": "markdown",
   "id": "6a713bbd",
   "metadata": {},
   "source": [
    "### 另一種寫法"
   ]
  },
  {
   "cell_type": "code",
   "execution_count": 2,
   "id": "d049a08e",
   "metadata": {},
   "outputs": [
    {
     "name": "stdout",
     "output_type": "stream",
     "text": [
      "1\n",
      "2\n",
      "3\n",
      "4\n",
      "5\n",
      "6\n",
      "7\n",
      "8\n",
      "9\n",
      "10\n"
     ]
    }
   ],
   "source": [
    "value = 0\n",
    "\n",
    "while value<10:\n",
    "    value = value + 1\n",
    "    print(value)"
   ]
  },
  {
   "cell_type": "code",
   "execution_count": null,
   "id": "35fc384e",
   "metadata": {},
   "outputs": [],
   "source": []
  }
 ],
 "metadata": {
  "kernelspec": {
   "display_name": "Python 3",
   "language": "python",
   "name": "python3"
  },
  "language_info": {
   "codemirror_mode": {
    "name": "ipython",
    "version": 3
   },
   "file_extension": ".py",
   "mimetype": "text/x-python",
   "name": "python",
   "nbconvert_exporter": "python",
   "pygments_lexer": "ipython3",
   "version": "3.6.13"
  }
 },
 "nbformat": 4,
 "nbformat_minor": 5
}
