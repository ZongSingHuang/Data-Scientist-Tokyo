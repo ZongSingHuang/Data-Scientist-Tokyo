{
 "cells": [
  {
   "cell_type": "code",
   "execution_count": 1,
   "id": "c83599a4",
   "metadata": {},
   "outputs": [],
   "source": [
    "table = [1, 2, 3, 4]"
   ]
  },
  {
   "cell_type": "code",
   "execution_count": 2,
   "id": "2de5ac3f",
   "metadata": {},
   "outputs": [],
   "source": [
    "def calculation(val):\n",
    "    return val**2"
   ]
  },
  {
   "cell_type": "markdown",
   "id": "7acccf2f",
   "metadata": {},
   "source": [
    "---"
   ]
  },
  {
   "cell_type": "markdown",
   "id": "1e3d12e1",
   "metadata": {},
   "source": [
    "### 常見的寫法"
   ]
  },
  {
   "cell_type": "code",
   "execution_count": 3,
   "id": "62230e29",
   "metadata": {},
   "outputs": [
    {
     "name": "stdout",
     "output_type": "stream",
     "text": [
      "[1, 4, 9, 16]\n"
     ]
    }
   ],
   "source": [
    "result1 = []\n",
    "for val in table:\n",
    "    result1.append(calculation(val))\n",
    "\n",
    "print(result1)"
   ]
  },
  {
   "cell_type": "markdown",
   "id": "cd4b92ca",
   "metadata": {},
   "source": [
    "### 建議寫法\n",
    "利用map，將陣列table裡的值逐一丟至函式calculation。當四個值運算完後再轉為list"
   ]
  },
  {
   "cell_type": "code",
   "execution_count": 4,
   "id": "42250b42",
   "metadata": {},
   "outputs": [
    {
     "name": "stdout",
     "output_type": "stream",
     "text": [
      "[1, 4, 9, 16]\n"
     ]
    }
   ],
   "source": [
    "result2 = list(map(calculation, table))\n",
    "print(result2)"
   ]
  },
  {
   "cell_type": "markdown",
   "id": "bcc58dca",
   "metadata": {},
   "source": [
    "---"
   ]
  },
  {
   "cell_type": "markdown",
   "id": "0a74003c",
   "metadata": {},
   "source": [
    "### 為什麼不這樣寫1"
   ]
  },
  {
   "cell_type": "code",
   "execution_count": 5,
   "id": "4a2321a5",
   "metadata": {},
   "outputs": [
    {
     "data": {
      "text/plain": [
       "[1, 4, 9, 16]"
      ]
     },
     "execution_count": 5,
     "metadata": {},
     "output_type": "execute_result"
    }
   ],
   "source": [
    "[val**2 for val in table]"
   ]
  },
  {
   "cell_type": "markdown",
   "id": "6ae566b7",
   "metadata": {},
   "source": [
    "如果只是要結果符合題意的話，這樣寫當然可以。但這邊主要是要闡述函式需要結合高階函式map才能處理陣列。"
   ]
  },
  {
   "cell_type": "markdown",
   "id": "7642cc33",
   "metadata": {},
   "source": [
    "### 為什麼不這樣寫2"
   ]
  },
  {
   "cell_type": "code",
   "execution_count": 6,
   "id": "19885c8e",
   "metadata": {},
   "outputs": [
    {
     "ename": "TypeError",
     "evalue": "unsupported operand type(s) for ** or pow(): 'list' and 'int'",
     "output_type": "error",
     "traceback": [
      "\u001b[1;31m---------------------------------------------------------------------------\u001b[0m",
      "\u001b[1;31mTypeError\u001b[0m                                 Traceback (most recent call last)",
      "\u001b[1;32m<ipython-input-6-24ac83015e73>\u001b[0m in \u001b[0;36m<module>\u001b[1;34m\u001b[0m\n\u001b[1;32m----> 1\u001b[1;33m \u001b[0mresult\u001b[0m \u001b[1;33m=\u001b[0m \u001b[0mcalculation\u001b[0m\u001b[1;33m(\u001b[0m\u001b[0mtable\u001b[0m\u001b[1;33m)\u001b[0m\u001b[1;33m\u001b[0m\u001b[1;33m\u001b[0m\u001b[0m\n\u001b[0m\u001b[0;32m      2\u001b[0m \u001b[0mprint\u001b[0m\u001b[1;33m(\u001b[0m\u001b[0mresult\u001b[0m\u001b[1;33m)\u001b[0m\u001b[1;33m\u001b[0m\u001b[1;33m\u001b[0m\u001b[0m\n",
      "\u001b[1;32m<ipython-input-2-652b5a3f16df>\u001b[0m in \u001b[0;36mcalculation\u001b[1;34m(val)\u001b[0m\n\u001b[0;32m      1\u001b[0m \u001b[1;32mdef\u001b[0m \u001b[0mcalculation\u001b[0m\u001b[1;33m(\u001b[0m\u001b[0mval\u001b[0m\u001b[1;33m)\u001b[0m\u001b[1;33m:\u001b[0m\u001b[1;33m\u001b[0m\u001b[1;33m\u001b[0m\u001b[0m\n\u001b[1;32m----> 2\u001b[1;33m     \u001b[1;32mreturn\u001b[0m \u001b[0mval\u001b[0m\u001b[1;33m**\u001b[0m\u001b[1;36m2\u001b[0m\u001b[1;33m\u001b[0m\u001b[1;33m\u001b[0m\u001b[0m\n\u001b[0m",
      "\u001b[1;31mTypeError\u001b[0m: unsupported operand type(s) for ** or pow(): 'list' and 'int'"
     ]
    }
   ],
   "source": [
    "result = calculation(table)\n",
    "print(result)"
   ]
  },
  {
   "cell_type": "markdown",
   "id": "126b3ca1",
   "metadata": {},
   "source": [
    "因為函式calculation沒辦法處理陣列table，因此會報錯。你也可以解讀成，函式calculation沒辦法一口吞下四個值。"
   ]
  },
  {
   "cell_type": "markdown",
   "id": "0ecf3fca",
   "metadata": {},
   "source": [
    "---"
   ]
  },
  {
   "cell_type": "markdown",
   "id": "f4d4eaf0",
   "metadata": {},
   "source": [
    "### 參考資料\n",
    "https://www.runoob.com/python/python-func-map.html"
   ]
  },
  {
   "cell_type": "code",
   "execution_count": null,
   "id": "fb4965b4",
   "metadata": {},
   "outputs": [],
   "source": []
  }
 ],
 "metadata": {
  "kernelspec": {
   "display_name": "Python 3",
   "language": "python",
   "name": "python3"
  },
  "language_info": {
   "codemirror_mode": {
    "name": "ipython",
    "version": 3
   },
   "file_extension": ".py",
   "mimetype": "text/x-python",
   "name": "python",
   "nbconvert_exporter": "python",
   "pygments_lexer": "ipython3",
   "version": "3.6.13"
  }
 },
 "nbformat": 4,
 "nbformat_minor": 5
}
