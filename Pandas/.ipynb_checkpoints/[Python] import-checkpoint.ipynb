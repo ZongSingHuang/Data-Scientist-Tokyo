{
 "cells": [
  {
   "cell_type": "code",
   "execution_count": null,
   "id": "19b3ebde",
   "metadata": {},
   "outputs": [],
   "source": [
    "### 順序1. python 內建庫\n",
    "### 順序2. 第三方庫\n",
    "### 順序3. 自己的庫"
   ]
  }
 ],
 "metadata": {
  "kernelspec": {
   "display_name": "Python 3",
   "language": "python",
   "name": "python3"
  },
  "language_info": {
   "codemirror_mode": {
    "name": "ipython",
    "version": 3
   },
   "file_extension": ".py",
   "mimetype": "text/x-python",
   "name": "python",
   "nbconvert_exporter": "python",
   "pygments_lexer": "ipython3",
   "version": "3.6.8"
  }
 },
 "nbformat": 4,
 "nbformat_minor": 5
}
