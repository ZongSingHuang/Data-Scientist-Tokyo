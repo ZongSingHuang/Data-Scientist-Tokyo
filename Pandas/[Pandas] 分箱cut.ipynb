{
 "cells": [
  {
   "cell_type": "code",
   "execution_count": 1,
   "id": "dbc8407d",
   "metadata": {},
   "outputs": [],
   "source": [
    "import numpy as np\n",
    "import pandas as pd"
   ]
  },
  {
   "cell_type": "code",
   "execution_count": 2,
   "id": "6ea3befc",
   "metadata": {},
   "outputs": [
    {
     "data": {
      "text/html": [
       "<div>\n",
       "<style scoped>\n",
       "    .dataframe tbody tr th:only-of-type {\n",
       "        vertical-align: middle;\n",
       "    }\n",
       "\n",
       "    .dataframe tbody tr th {\n",
       "        vertical-align: top;\n",
       "    }\n",
       "\n",
       "    .dataframe thead th {\n",
       "        text-align: right;\n",
       "    }\n",
       "</style>\n",
       "<table border=\"1\" class=\"dataframe\">\n",
       "  <thead>\n",
       "    <tr style=\"text-align: right;\">\n",
       "      <th></th>\n",
       "      <th>ID</th>\n",
       "      <th>City</th>\n",
       "      <th>Birth_year</th>\n",
       "      <th>Name</th>\n",
       "    </tr>\n",
       "  </thead>\n",
       "  <tbody>\n",
       "    <tr>\n",
       "      <th>0</th>\n",
       "      <td>100</td>\n",
       "      <td>Tokyo</td>\n",
       "      <td>1990</td>\n",
       "      <td>Hiroshi</td>\n",
       "    </tr>\n",
       "    <tr>\n",
       "      <th>1</th>\n",
       "      <td>101</td>\n",
       "      <td>Osaka</td>\n",
       "      <td>1989</td>\n",
       "      <td>Akiki</td>\n",
       "    </tr>\n",
       "    <tr>\n",
       "      <th>2</th>\n",
       "      <td>102</td>\n",
       "      <td>Kyoto</td>\n",
       "      <td>1992</td>\n",
       "      <td>Yuki</td>\n",
       "    </tr>\n",
       "    <tr>\n",
       "      <th>3</th>\n",
       "      <td>103</td>\n",
       "      <td>Hokkaido</td>\n",
       "      <td>1997</td>\n",
       "      <td>Satoru</td>\n",
       "    </tr>\n",
       "    <tr>\n",
       "      <th>4</th>\n",
       "      <td>104</td>\n",
       "      <td>Tokyo</td>\n",
       "      <td>1982</td>\n",
       "      <td>Steve</td>\n",
       "    </tr>\n",
       "    <tr>\n",
       "      <th>5</th>\n",
       "      <td>106</td>\n",
       "      <td>Tokyo</td>\n",
       "      <td>1991</td>\n",
       "      <td>Mituru</td>\n",
       "    </tr>\n",
       "    <tr>\n",
       "      <th>6</th>\n",
       "      <td>108</td>\n",
       "      <td>Osaka</td>\n",
       "      <td>1988</td>\n",
       "      <td>Aoi</td>\n",
       "    </tr>\n",
       "    <tr>\n",
       "      <th>7</th>\n",
       "      <td>110</td>\n",
       "      <td>Kyoto</td>\n",
       "      <td>1990</td>\n",
       "      <td>Tarou</td>\n",
       "    </tr>\n",
       "    <tr>\n",
       "      <th>8</th>\n",
       "      <td>111</td>\n",
       "      <td>Hokkaido</td>\n",
       "      <td>1995</td>\n",
       "      <td>Suguru</td>\n",
       "    </tr>\n",
       "    <tr>\n",
       "      <th>9</th>\n",
       "      <td>113</td>\n",
       "      <td>Tokyo</td>\n",
       "      <td>1981</td>\n",
       "      <td>Mitsuo</td>\n",
       "    </tr>\n",
       "  </tbody>\n",
       "</table>\n",
       "</div>"
      ],
      "text/plain": [
       "    ID      City  Birth_year     Name\n",
       "0  100     Tokyo        1990  Hiroshi\n",
       "1  101     Osaka        1989    Akiki\n",
       "2  102     Kyoto        1992     Yuki\n",
       "3  103  Hokkaido        1997   Satoru\n",
       "4  104     Tokyo        1982    Steve\n",
       "5  106     Tokyo        1991   Mituru\n",
       "6  108     Osaka        1988      Aoi\n",
       "7  110     Kyoto        1990    Tarou\n",
       "8  111  Hokkaido        1995   Suguru\n",
       "9  113     Tokyo        1981   Mitsuo"
      ]
     },
     "execution_count": 2,
     "metadata": {},
     "output_type": "execute_result"
    }
   ],
   "source": [
    "raw_data = {'ID'        :['100',     '101',   '102',   '103',      '104',   '106',    '108',   '110',   '111',      '113'],\n",
    "            'City'      :['Tokyo',   'Osaka', 'Kyoto', 'Hokkaido', 'Tokyo', 'Tokyo',  'Osaka', 'Kyoto', 'Hokkaido', 'Tokyo'],\n",
    "            'Birth_year':[1990,      1989,    1992,    1997,       1982,    1991,     1988,    1990,    1995,       1981],\n",
    "            'Name'      :['Hiroshi', 'Akiki', 'Yuki',  'Satoru',   'Steve', 'Mituru', 'Aoi',   'Tarou', 'Suguru',   'Mitsuo']}\n",
    "table = pd.DataFrame(data=raw_data)\n",
    "table"
   ]
  },
  {
   "cell_type": "markdown",
   "id": "1fc4b0c7",
   "metadata": {},
   "source": [
    "### 分箱(手動劃分)"
   ]
  },
  {
   "cell_type": "code",
   "execution_count": 3,
   "id": "306df12d",
   "metadata": {},
   "outputs": [
    {
     "data": {
      "text/plain": [
       "0    (1985, 1990]\n",
       "1    (1985, 1990]\n",
       "2    (1990, 1995]\n",
       "3    (1995, 2000]\n",
       "4    (1980, 1985]\n",
       "5    (1990, 1995]\n",
       "6    (1985, 1990]\n",
       "7    (1985, 1990]\n",
       "8    (1990, 1995]\n",
       "9    (1980, 1985]\n",
       "Name: Birth_year, dtype: category\n",
       "Categories (4, interval[int64]): [(1980, 1985] < (1985, 1990] < (1990, 1995] < (1995, 2000]]"
      ]
     },
     "execution_count": 3,
     "metadata": {},
     "output_type": "execute_result"
    }
   ],
   "source": [
    "bins = [1980, 1985, 1990, 1995, 2000]\n",
    "group1 = pd.cut(table['Birth_year'], bins)\n",
    "group1"
   ]
  },
  {
   "cell_type": "code",
   "execution_count": 4,
   "id": "e292a80d",
   "metadata": {},
   "outputs": [
    {
     "data": {
      "text/plain": [
       "0    group2\n",
       "1    group2\n",
       "2    group3\n",
       "3    group4\n",
       "4    group1\n",
       "5    group3\n",
       "6    group2\n",
       "7    group2\n",
       "8    group3\n",
       "9    group1\n",
       "Name: Birth_year, dtype: category\n",
       "Categories (4, object): ['group1' < 'group2' < 'group3' < 'group4']"
      ]
     },
     "execution_count": 4,
     "metadata": {},
     "output_type": "execute_result"
    }
   ],
   "source": [
    "labels = ['group1', 'group2', 'group3', 'group4']\n",
    "group2 = pd.cut(table['Birth_year'], bins, labels=labels)\n",
    "group2"
   ]
  },
  {
   "cell_type": "code",
   "execution_count": 5,
   "id": "4c9eb7df",
   "metadata": {},
   "outputs": [
    {
     "data": {
      "text/html": [
       "<div>\n",
       "<style scoped>\n",
       "    .dataframe tbody tr th:only-of-type {\n",
       "        vertical-align: middle;\n",
       "    }\n",
       "\n",
       "    .dataframe tbody tr th {\n",
       "        vertical-align: top;\n",
       "    }\n",
       "\n",
       "    .dataframe thead th {\n",
       "        text-align: right;\n",
       "    }\n",
       "</style>\n",
       "<table border=\"1\" class=\"dataframe\">\n",
       "  <thead>\n",
       "    <tr style=\"text-align: right;\">\n",
       "      <th></th>\n",
       "      <th>Birth_year</th>\n",
       "      <th>Birth_year</th>\n",
       "      <th>Birth_year</th>\n",
       "    </tr>\n",
       "  </thead>\n",
       "  <tbody>\n",
       "    <tr>\n",
       "      <th>0</th>\n",
       "      <td>1990</td>\n",
       "      <td>(1985, 1990]</td>\n",
       "      <td>group2</td>\n",
       "    </tr>\n",
       "    <tr>\n",
       "      <th>1</th>\n",
       "      <td>1989</td>\n",
       "      <td>(1985, 1990]</td>\n",
       "      <td>group2</td>\n",
       "    </tr>\n",
       "    <tr>\n",
       "      <th>2</th>\n",
       "      <td>1992</td>\n",
       "      <td>(1990, 1995]</td>\n",
       "      <td>group3</td>\n",
       "    </tr>\n",
       "    <tr>\n",
       "      <th>3</th>\n",
       "      <td>1997</td>\n",
       "      <td>(1995, 2000]</td>\n",
       "      <td>group4</td>\n",
       "    </tr>\n",
       "    <tr>\n",
       "      <th>4</th>\n",
       "      <td>1982</td>\n",
       "      <td>(1980, 1985]</td>\n",
       "      <td>group1</td>\n",
       "    </tr>\n",
       "    <tr>\n",
       "      <th>5</th>\n",
       "      <td>1991</td>\n",
       "      <td>(1990, 1995]</td>\n",
       "      <td>group3</td>\n",
       "    </tr>\n",
       "    <tr>\n",
       "      <th>6</th>\n",
       "      <td>1988</td>\n",
       "      <td>(1985, 1990]</td>\n",
       "      <td>group2</td>\n",
       "    </tr>\n",
       "    <tr>\n",
       "      <th>7</th>\n",
       "      <td>1990</td>\n",
       "      <td>(1985, 1990]</td>\n",
       "      <td>group2</td>\n",
       "    </tr>\n",
       "    <tr>\n",
       "      <th>8</th>\n",
       "      <td>1995</td>\n",
       "      <td>(1990, 1995]</td>\n",
       "      <td>group3</td>\n",
       "    </tr>\n",
       "    <tr>\n",
       "      <th>9</th>\n",
       "      <td>1981</td>\n",
       "      <td>(1980, 1985]</td>\n",
       "      <td>group1</td>\n",
       "    </tr>\n",
       "  </tbody>\n",
       "</table>\n",
       "</div>"
      ],
      "text/plain": [
       "  Birth_year    Birth_year Birth_year\n",
       "0       1990  (1985, 1990]     group2\n",
       "1       1989  (1985, 1990]     group2\n",
       "2       1992  (1990, 1995]     group3\n",
       "3       1997  (1995, 2000]     group4\n",
       "4       1982  (1980, 1985]     group1\n",
       "5       1991  (1990, 1995]     group3\n",
       "6       1988  (1985, 1990]     group2\n",
       "7       1990  (1985, 1990]     group2\n",
       "8       1995  (1990, 1995]     group3\n",
       "9       1981  (1980, 1985]     group1"
      ]
     },
     "execution_count": 5,
     "metadata": {},
     "output_type": "execute_result"
    }
   ],
   "source": [
    "pd.concat([table['Birth_year'], group1, group2], axis=1)"
   ]
  },
  {
   "cell_type": "markdown",
   "id": "6348643e",
   "metadata": {},
   "source": [
    "### 分箱(自動劃分)"
   ]
  },
  {
   "cell_type": "code",
   "execution_count": 6,
   "id": "e8ca25c5",
   "metadata": {},
   "outputs": [
    {
     "data": {
      "text/plain": [
       "0      (1989.0, 1997.0]\n",
       "1    (1980.984, 1989.0]\n",
       "2      (1989.0, 1997.0]\n",
       "3      (1989.0, 1997.0]\n",
       "4    (1980.984, 1989.0]\n",
       "5      (1989.0, 1997.0]\n",
       "6    (1980.984, 1989.0]\n",
       "7      (1989.0, 1997.0]\n",
       "8      (1989.0, 1997.0]\n",
       "9    (1980.984, 1989.0]\n",
       "Name: Birth_year, dtype: category\n",
       "Categories (2, interval[float64]): [(1980.984, 1989.0] < (1989.0, 1997.0]]"
      ]
     },
     "execution_count": 6,
     "metadata": {},
     "output_type": "execute_result"
    }
   ],
   "source": [
    "pd.cut(table['Birth_year'], 2)"
   ]
  },
  {
   "cell_type": "markdown",
   "id": "3dda7249",
   "metadata": {},
   "source": [
    "### 計數"
   ]
  },
  {
   "cell_type": "code",
   "execution_count": 7,
   "id": "78eebfc5",
   "metadata": {},
   "outputs": [
    {
     "data": {
      "text/plain": [
       "(1985, 1990]    4\n",
       "(1990, 1995]    3\n",
       "(1980, 1985]    2\n",
       "(1995, 2000]    1\n",
       "Name: Birth_year, dtype: int64"
      ]
     },
     "execution_count": 7,
     "metadata": {},
     "output_type": "execute_result"
    }
   ],
   "source": [
    "pd.value_counts(group1)"
   ]
  },
  {
   "cell_type": "code",
   "execution_count": 8,
   "id": "e71c6d0d",
   "metadata": {},
   "outputs": [
    {
     "data": {
      "text/plain": [
       "group2    4\n",
       "group3    3\n",
       "group1    2\n",
       "group4    1\n",
       "Name: Birth_year, dtype: int64"
      ]
     },
     "execution_count": 8,
     "metadata": {},
     "output_type": "execute_result"
    }
   ],
   "source": [
    "pd.value_counts(group2)"
   ]
  },
  {
   "cell_type": "code",
   "execution_count": null,
   "id": "aa191cf8",
   "metadata": {},
   "outputs": [],
   "source": []
  }
 ],
 "metadata": {
  "kernelspec": {
   "display_name": "Python 3",
   "language": "python",
   "name": "python3"
  },
  "language_info": {
   "codemirror_mode": {
    "name": "ipython",
    "version": 3
   },
   "file_extension": ".py",
   "mimetype": "text/x-python",
   "name": "python",
   "nbconvert_exporter": "python",
   "pygments_lexer": "ipython3",
   "version": "3.6.13"
  }
 },
 "nbformat": 4,
 "nbformat_minor": 5
}
