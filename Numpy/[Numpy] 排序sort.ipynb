{
 "cells": [
  {
   "cell_type": "code",
   "execution_count": 1,
   "id": "75a3c2ce",
   "metadata": {},
   "outputs": [],
   "source": [
    "import numpy as np"
   ]
  },
  {
   "cell_type": "code",
   "execution_count": 2,
   "id": "d4c20d75",
   "metadata": {},
   "outputs": [
    {
     "data": {
      "text/plain": [
       "array([2, 3, 0, 1, 9])"
      ]
     },
     "execution_count": 2,
     "metadata": {},
     "output_type": "execute_result"
    }
   ],
   "source": [
    "data = np.random.randint(10, size=[5])\n",
    "data"
   ]
  },
  {
   "cell_type": "markdown",
   "id": "6730baeb",
   "metadata": {},
   "source": [
    "### 排序sort"
   ]
  },
  {
   "cell_type": "code",
   "execution_count": 3,
   "id": "82dbc546",
   "metadata": {},
   "outputs": [
    {
     "data": {
      "text/plain": [
       "array([0, 1, 2, 3, 9])"
      ]
     },
     "execution_count": 3,
     "metadata": {},
     "output_type": "execute_result"
    }
   ],
   "source": [
    "np.sort(data)"
   ]
  },
  {
   "cell_type": "code",
   "execution_count": 4,
   "id": "922bc9e0",
   "metadata": {},
   "outputs": [
    {
     "data": {
      "text/plain": [
       "array([9, 3, 2, 1, 0])"
      ]
     },
     "execution_count": 4,
     "metadata": {},
     "output_type": "execute_result"
    }
   ],
   "source": [
    "np.sort(data)[::-1]"
   ]
  },
  {
   "cell_type": "markdown",
   "id": "09514948",
   "metadata": {},
   "source": [
    "### 位置排序argsort"
   ]
  },
  {
   "cell_type": "code",
   "execution_count": 5,
   "id": "8bcbb243",
   "metadata": {},
   "outputs": [
    {
     "data": {
      "text/plain": [
       "array([2, 3, 0, 1, 4], dtype=int64)"
      ]
     },
     "execution_count": 5,
     "metadata": {},
     "output_type": "execute_result"
    }
   ],
   "source": [
    "np.argsort(data)"
   ]
  },
  {
   "cell_type": "code",
   "execution_count": 6,
   "id": "0fed7d26",
   "metadata": {},
   "outputs": [
    {
     "data": {
      "text/plain": [
       "array([4, 1, 0, 3, 2], dtype=int64)"
      ]
     },
     "execution_count": 6,
     "metadata": {},
     "output_type": "execute_result"
    }
   ],
   "source": [
    "np.argsort(data)[::-1]"
   ]
  },
  {
   "cell_type": "markdown",
   "id": "76ba8bfe",
   "metadata": {},
   "source": [
    "### 最大值位置"
   ]
  },
  {
   "cell_type": "code",
   "execution_count": 7,
   "id": "8cf1929a",
   "metadata": {},
   "outputs": [
    {
     "data": {
      "text/plain": [
       "4"
      ]
     },
     "execution_count": 7,
     "metadata": {},
     "output_type": "execute_result"
    }
   ],
   "source": [
    "np.argmax(data)"
   ]
  },
  {
   "cell_type": "markdown",
   "id": "8860abe9",
   "metadata": {},
   "source": [
    "### 最小值位置"
   ]
  },
  {
   "cell_type": "code",
   "execution_count": 8,
   "id": "efd55902",
   "metadata": {},
   "outputs": [
    {
     "data": {
      "text/plain": [
       "2"
      ]
     },
     "execution_count": 8,
     "metadata": {},
     "output_type": "execute_result"
    }
   ],
   "source": [
    "np.argmin(data)"
   ]
  }
 ],
 "metadata": {
  "kernelspec": {
   "display_name": "Python 3",
   "language": "python",
   "name": "python3"
  },
  "language_info": {
   "codemirror_mode": {
    "name": "ipython",
    "version": 3
   },
   "file_extension": ".py",
   "mimetype": "text/x-python",
   "name": "python",
   "nbconvert_exporter": "python",
   "pygments_lexer": "ipython3",
   "version": "3.6.13"
  }
 },
 "nbformat": 4,
 "nbformat_minor": 5
}
