{
 "cells": [
  {
   "cell_type": "code",
   "execution_count": 1,
   "id": "8e3ec7c1",
   "metadata": {},
   "outputs": [],
   "source": [
    "import numpy as np"
   ]
  },
  {
   "cell_type": "code",
   "execution_count": 2,
   "id": "45dab90e",
   "metadata": {},
   "outputs": [
    {
     "data": {
      "text/plain": [
       "array([ True, False,  True])"
      ]
     },
     "execution_count": 2,
     "metadata": {},
     "output_type": "execute_result"
    }
   ],
   "source": [
    "bol = np.array([True, False, True])\n",
    "bol"
   ]
  },
  {
   "cell_type": "code",
   "execution_count": 3,
   "id": "5b5b5b80",
   "metadata": {},
   "outputs": [
    {
     "data": {
      "text/plain": [
       "array([1, 0, 1])"
      ]
     },
     "execution_count": 3,
     "metadata": {},
     "output_type": "execute_result"
    }
   ],
   "source": [
    "num = np.array([1, 0, 1])\n",
    "num"
   ]
  },
  {
   "cell_type": "code",
   "execution_count": 4,
   "id": "cced8029",
   "metadata": {},
   "outputs": [
    {
     "data": {
      "text/plain": [
       "array([10, 20, 30])"
      ]
     },
     "execution_count": 4,
     "metadata": {},
     "output_type": "execute_result"
    }
   ],
   "source": [
    "data = np.array([10, 20, 30])\n",
    "data"
   ]
  },
  {
   "cell_type": "markdown",
   "id": "91a60a33",
   "metadata": {},
   "source": [
    "### 布林=>二進制"
   ]
  },
  {
   "cell_type": "code",
   "execution_count": 5,
   "id": "28431882",
   "metadata": {},
   "outputs": [
    {
     "data": {
      "text/plain": [
       "array([1, 0, 1])"
      ]
     },
     "execution_count": 5,
     "metadata": {},
     "output_type": "execute_result"
    }
   ],
   "source": [
    "bol.astype(int)"
   ]
  },
  {
   "cell_type": "markdown",
   "id": "f408479c",
   "metadata": {},
   "source": [
    "### 二進制=>布林"
   ]
  },
  {
   "cell_type": "code",
   "execution_count": 6,
   "id": "0fc991cc",
   "metadata": {},
   "outputs": [
    {
     "data": {
      "text/plain": [
       "array([ True, False,  True])"
      ]
     },
     "execution_count": 6,
     "metadata": {},
     "output_type": "execute_result"
    }
   ],
   "source": [
    "num.astype(bool)"
   ]
  },
  {
   "cell_type": "markdown",
   "id": "b9b6752a",
   "metadata": {},
   "source": [
    "### 缺一不可all"
   ]
  },
  {
   "cell_type": "code",
   "execution_count": 7,
   "id": "120f9439",
   "metadata": {},
   "outputs": [
    {
     "data": {
      "text/plain": [
       "False"
      ]
     },
     "execution_count": 7,
     "metadata": {},
     "output_type": "execute_result"
    }
   ],
   "source": [
    "np.all(bol)"
   ]
  },
  {
   "cell_type": "markdown",
   "id": "7011b756",
   "metadata": {},
   "source": [
    "### 任一即可any"
   ]
  },
  {
   "cell_type": "code",
   "execution_count": 8,
   "id": "e9b3c0c4",
   "metadata": {},
   "outputs": [
    {
     "data": {
      "text/plain": [
       "True"
      ]
     },
     "execution_count": 8,
     "metadata": {},
     "output_type": "execute_result"
    }
   ],
   "source": [
    "np.any(bol)"
   ]
  },
  {
   "cell_type": "markdown",
   "id": "f22f6a24",
   "metadata": {},
   "source": [
    "### 條件篩選"
   ]
  },
  {
   "cell_type": "code",
   "execution_count": 9,
   "id": "4e9264e9",
   "metadata": {},
   "outputs": [
    {
     "data": {
      "text/plain": [
       "array([10, 30])"
      ]
     },
     "execution_count": 9,
     "metadata": {},
     "output_type": "execute_result"
    }
   ],
   "source": [
    "data[data!=20]"
   ]
  },
  {
   "cell_type": "code",
   "execution_count": 10,
   "id": "087958d7",
   "metadata": {},
   "outputs": [
    {
     "data": {
      "text/plain": [
       "array([ True, False,  True])"
      ]
     },
     "execution_count": 10,
     "metadata": {},
     "output_type": "execute_result"
    }
   ],
   "source": [
    "mask = data!=20\n",
    "mask"
   ]
  },
  {
   "cell_type": "code",
   "execution_count": 11,
   "id": "dea84747",
   "metadata": {},
   "outputs": [
    {
     "data": {
      "text/plain": [
       "array([10, 30])"
      ]
     },
     "execution_count": 11,
     "metadata": {},
     "output_type": "execute_result"
    }
   ],
   "source": [
    "data[mask]"
   ]
  },
  {
   "cell_type": "code",
   "execution_count": null,
   "id": "c6062295",
   "metadata": {},
   "outputs": [],
   "source": []
  }
 ],
 "metadata": {
  "kernelspec": {
   "display_name": "Python 3",
   "language": "python",
   "name": "python3"
  },
  "language_info": {
   "codemirror_mode": {
    "name": "ipython",
    "version": 3
   },
   "file_extension": ".py",
   "mimetype": "text/x-python",
   "name": "python",
   "nbconvert_exporter": "python",
   "pygments_lexer": "ipython3",
   "version": "3.6.13"
  }
 },
 "nbformat": 4,
 "nbformat_minor": 5
}
