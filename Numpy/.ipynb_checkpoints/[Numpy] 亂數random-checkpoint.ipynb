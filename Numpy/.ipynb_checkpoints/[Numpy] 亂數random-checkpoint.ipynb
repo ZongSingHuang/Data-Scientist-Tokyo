{
 "cells": [
  {
   "cell_type": "code",
   "execution_count": 1,
   "id": "bfe4a079",
   "metadata": {},
   "outputs": [],
   "source": [
    "import numpy as np"
   ]
  },
  {
   "cell_type": "markdown",
   "id": "167d54a7",
   "metadata": {},
   "source": [
    "### 亂數種子seed"
   ]
  },
  {
   "cell_type": "code",
   "execution_count": 2,
   "id": "aca97a34",
   "metadata": {},
   "outputs": [],
   "source": [
    "np.random.seed(42)"
   ]
  },
  {
   "cell_type": "markdown",
   "id": "177c3143",
   "metadata": {},
   "source": [
    "### 整數亂數"
   ]
  },
  {
   "cell_type": "code",
   "execution_count": 3,
   "id": "2e16580a",
   "metadata": {},
   "outputs": [
    {
     "data": {
      "text/plain": [
       "array([[11,  8,  9],\n",
       "       [11,  7,  9],\n",
       "       [ 9, 11,  6],\n",
       "       [ 7, 11,  7],\n",
       "       [ 7,  9,  8]])"
      ]
     },
     "execution_count": 3,
     "metadata": {},
     "output_type": "execute_result"
    }
   ],
   "source": [
    "np.random.randint(low=5, high=12, size=[5, 3])"
   ]
  },
  {
   "cell_type": "markdown",
   "id": "7f511d5e",
   "metadata": {},
   "source": [
    "### 均勻分佈uniform"
   ]
  },
  {
   "cell_type": "code",
   "execution_count": 4,
   "id": "8ce2887e",
   "metadata": {},
   "outputs": [
    {
     "data": {
      "text/plain": [
       "array([[1.42866818e-01, 6.50888473e-01, 5.64115790e-02],\n",
       "       [7.21998772e-01, 9.38552709e-01, 7.78765841e-04],\n",
       "       [9.92211559e-01, 6.17481510e-01, 6.11653160e-01],\n",
       "       [7.06630522e-03, 2.30624250e-02, 5.24774660e-01],\n",
       "       [3.99860972e-01, 4.66656632e-02, 9.73755519e-01]])"
      ]
     },
     "execution_count": 4,
     "metadata": {},
     "output_type": "execute_result"
    }
   ],
   "source": [
    "# 綁定low=0, high=1\n",
    "np.random.rand(5, 3)"
   ]
  },
  {
   "cell_type": "code",
   "execution_count": 5,
   "id": "6b171f03",
   "metadata": {},
   "outputs": [
    {
     "data": {
      "text/plain": [
       "array([[ 6.62939938,  5.63424504,  9.32870207],\n",
       "       [ 7.67723394, 11.8826162 ,  8.26734025],\n",
       "       [11.01958285,  9.76215277,  8.15349476],\n",
       "       [ 5.09285473, 11.59541229,  8.94301752],\n",
       "       [ 7.69791552,  5.11176377,  6.61625678]])"
      ]
     },
     "execution_count": 5,
     "metadata": {},
     "output_type": "execute_result"
    }
   ],
   "source": [
    "np.random.uniform(low=5, high=12, size=[5, 3])"
   ]
  },
  {
   "cell_type": "markdown",
   "id": "1a2030a7",
   "metadata": {},
   "source": [
    "### 常態分佈normal"
   ]
  },
  {
   "cell_type": "code",
   "execution_count": 6,
   "id": "7f9b8d46",
   "metadata": {},
   "outputs": [
    {
     "data": {
      "text/plain": [
       "array([[ 0.77919263, -1.10109776,  1.13022819],\n",
       "       [ 0.37311891, -0.38647295, -1.15877024],\n",
       "       [ 0.56611283, -0.70445345, -1.3779393 ],\n",
       "       [-0.35311665, -0.46146572,  0.06665728],\n",
       "       [-0.17628566,  1.20089277,  0.69839894]])"
      ]
     },
     "execution_count": 6,
     "metadata": {},
     "output_type": "execute_result"
    }
   ],
   "source": [
    "# 綁定loc=0.0, scale=1.0\n",
    "np.random.randn(5, 3)"
   ]
  },
  {
   "cell_type": "code",
   "execution_count": 7,
   "id": "9eba7de2",
   "metadata": {},
   "outputs": [
    {
     "data": {
      "text/plain": [
       "array([[-0.17162884, -0.90718658,  1.18862573],\n",
       "       [ 0.78553212,  2.65601009,  0.26348604],\n",
       "       [ 1.64177112,  0.4608163 ,  0.08592347],\n",
       "       [-1.50995728,  0.72150246, -0.84341992],\n",
       "       [-0.51332541, -0.0435368 , -0.27530091]])"
      ]
     },
     "execution_count": 7,
     "metadata": {},
     "output_type": "execute_result"
    }
   ],
   "source": [
    "# 可指定loc和scale\n",
    "np.random.normal(loc=0.0, scale=1.0, size=[5, 3])"
   ]
  },
  {
   "cell_type": "markdown",
   "id": "33ce301f",
   "metadata": {},
   "source": [
    "### 不重複整數"
   ]
  },
  {
   "cell_type": "code",
   "execution_count": 8,
   "id": "ceb536dc",
   "metadata": {},
   "outputs": [
    {
     "data": {
      "text/plain": [
       "array([1, 4, 2])"
      ]
     },
     "execution_count": 8,
     "metadata": {},
     "output_type": "execute_result"
    }
   ],
   "source": [
    "np.random.choice(5, size=3, replace=False)"
   ]
  },
  {
   "cell_type": "code",
   "execution_count": null,
   "id": "ccd8cb3a",
   "metadata": {},
   "outputs": [],
   "source": []
  }
 ],
 "metadata": {
  "kernelspec": {
   "display_name": "Python 3",
   "language": "python",
   "name": "python3"
  },
  "language_info": {
   "codemirror_mode": {
    "name": "ipython",
    "version": 3
   },
   "file_extension": ".py",
   "mimetype": "text/x-python",
   "name": "python",
   "nbconvert_exporter": "python",
   "pygments_lexer": "ipython3",
   "version": "3.6.13"
  }
 },
 "nbformat": 4,
 "nbformat_minor": 5
}
