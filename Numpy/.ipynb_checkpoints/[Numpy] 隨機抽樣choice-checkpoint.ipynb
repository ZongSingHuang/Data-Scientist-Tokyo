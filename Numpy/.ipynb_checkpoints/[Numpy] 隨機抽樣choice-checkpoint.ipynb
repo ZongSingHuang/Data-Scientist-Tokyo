{
 "cells": [
  {
   "cell_type": "code",
   "execution_count": 1,
   "id": "e1b4b355",
   "metadata": {},
   "outputs": [],
   "source": [
    "import numpy as np"
   ]
  },
  {
   "cell_type": "code",
   "execution_count": 2,
   "id": "3bceeda6",
   "metadata": {},
   "outputs": [],
   "source": [
    "data1 = np.array([1, 1, 2, 2, 3, 3])\n",
    "data2 = [1, 1, 2, 2, 3, 3]"
   ]
  },
  {
   "cell_type": "code",
   "execution_count": 3,
   "id": "909bf868",
   "metadata": {},
   "outputs": [
    {
     "data": {
      "text/plain": [
       "array([2, 1, 3])"
      ]
     },
     "execution_count": 3,
     "metadata": {},
     "output_type": "execute_result"
    }
   ],
   "source": [
    "# replace=True代表同一個位置會重複取出\n",
    "np.random.choice(data1, size=3, replace=True)"
   ]
  },
  {
   "cell_type": "code",
   "execution_count": 4,
   "id": "49ff8a8e",
   "metadata": {},
   "outputs": [
    {
     "data": {
      "text/plain": [
       "array([2, 1, 1])"
      ]
     },
     "execution_count": 4,
     "metadata": {},
     "output_type": "execute_result"
    }
   ],
   "source": [
    "# replace=True代表同一個位置不會重複取出\n",
    "np.random.choice(data2, size=3, replace=False)"
   ]
  }
 ],
 "metadata": {
  "kernelspec": {
   "display_name": "Python 3",
   "language": "python",
   "name": "python3"
  },
  "language_info": {
   "codemirror_mode": {
    "name": "ipython",
    "version": 3
   },
   "file_extension": ".py",
   "mimetype": "text/x-python",
   "name": "python",
   "nbconvert_exporter": "python",
   "pygments_lexer": "ipython3",
   "version": "3.6.13"
  }
 },
 "nbformat": 4,
 "nbformat_minor": 5
}
