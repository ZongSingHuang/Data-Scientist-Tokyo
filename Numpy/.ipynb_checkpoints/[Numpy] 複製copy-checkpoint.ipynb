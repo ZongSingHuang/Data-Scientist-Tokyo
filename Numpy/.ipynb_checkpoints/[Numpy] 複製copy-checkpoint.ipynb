{
 "cells": [
  {
   "cell_type": "code",
   "execution_count": 1,
   "id": "616f0c54",
   "metadata": {},
   "outputs": [],
   "source": [
    "import numpy as np"
   ]
  },
  {
   "cell_type": "code",
   "execution_count": 2,
   "id": "fe8390c2",
   "metadata": {},
   "outputs": [
    {
     "data": {
      "text/plain": [
       "array([1, 2, 3])"
      ]
     },
     "execution_count": 2,
     "metadata": {},
     "output_type": "execute_result"
    }
   ],
   "source": [
    "Array = np.array([1, 2, 3])\n",
    "Array"
   ]
  },
  {
   "cell_type": "code",
   "execution_count": 3,
   "id": "c009ca1a",
   "metadata": {},
   "outputs": [
    {
     "data": {
      "text/plain": [
       "[1, 2, 3]"
      ]
     },
     "execution_count": 3,
     "metadata": {},
     "output_type": "execute_result"
    }
   ],
   "source": [
    "List = [1, 2, 3]\n",
    "List"
   ]
  },
  {
   "cell_type": "markdown",
   "id": "6413e8e1",
   "metadata": {},
   "source": [
    "### Python"
   ]
  },
  {
   "cell_type": "code",
   "execution_count": 4,
   "id": "4a353dc7",
   "metadata": {},
   "outputs": [
    {
     "data": {
      "text/plain": [
       "[1, 2, 3]"
      ]
     },
     "execution_count": 4,
     "metadata": {},
     "output_type": "execute_result"
    }
   ],
   "source": [
    "List2 = List\n",
    "List2"
   ]
  },
  {
   "cell_type": "code",
   "execution_count": 5,
   "id": "bd9ae832",
   "metadata": {},
   "outputs": [
    {
     "data": {
      "text/plain": [
       "[7, 2, 3]"
      ]
     },
     "execution_count": 5,
     "metadata": {},
     "output_type": "execute_result"
    }
   ],
   "source": [
    "List2[0] = 7\n",
    "List2"
   ]
  },
  {
   "cell_type": "code",
   "execution_count": 6,
   "id": "79089e37",
   "metadata": {},
   "outputs": [
    {
     "data": {
      "text/plain": [
       "[7, 2, 3]"
      ]
     },
     "execution_count": 6,
     "metadata": {},
     "output_type": "execute_result"
    }
   ],
   "source": [
    "# List也被改了\n",
    "List"
   ]
  },
  {
   "cell_type": "code",
   "execution_count": 7,
   "id": "86e15821",
   "metadata": {},
   "outputs": [],
   "source": [
    "# 應該這麼寫\n",
    "List = [1, 2, 3]\n",
    "List2 = List.copy()\n",
    "\n",
    "List2[0] = 7"
   ]
  },
  {
   "cell_type": "code",
   "execution_count": 8,
   "id": "a85b012d",
   "metadata": {},
   "outputs": [
    {
     "data": {
      "text/plain": [
       "[1, 2, 3]"
      ]
     },
     "execution_count": 8,
     "metadata": {},
     "output_type": "execute_result"
    }
   ],
   "source": [
    "List"
   ]
  },
  {
   "cell_type": "code",
   "execution_count": 9,
   "id": "910ede1c",
   "metadata": {},
   "outputs": [
    {
     "data": {
      "text/plain": [
       "[7, 2, 3]"
      ]
     },
     "execution_count": 9,
     "metadata": {},
     "output_type": "execute_result"
    }
   ],
   "source": [
    "List2"
   ]
  },
  {
   "cell_type": "markdown",
   "id": "fa5bb8a2",
   "metadata": {},
   "source": [
    "### Numpy"
   ]
  },
  {
   "cell_type": "code",
   "execution_count": 10,
   "id": "9c482f22",
   "metadata": {},
   "outputs": [
    {
     "data": {
      "text/plain": [
       "array([1, 2, 3])"
      ]
     },
     "execution_count": 10,
     "metadata": {},
     "output_type": "execute_result"
    }
   ],
   "source": [
    "Array2 = Array\n",
    "Array2"
   ]
  },
  {
   "cell_type": "code",
   "execution_count": 11,
   "id": "890a5505",
   "metadata": {},
   "outputs": [
    {
     "data": {
      "text/plain": [
       "array([7, 2, 3])"
      ]
     },
     "execution_count": 11,
     "metadata": {},
     "output_type": "execute_result"
    }
   ],
   "source": [
    "Array2[0] = 7\n",
    "Array2"
   ]
  },
  {
   "cell_type": "code",
   "execution_count": 12,
   "id": "080dc6eb",
   "metadata": {},
   "outputs": [
    {
     "data": {
      "text/plain": [
       "array([7, 2, 3])"
      ]
     },
     "execution_count": 12,
     "metadata": {},
     "output_type": "execute_result"
    }
   ],
   "source": [
    "# Array也被改了\n",
    "Array"
   ]
  },
  {
   "cell_type": "code",
   "execution_count": 13,
   "id": "b4fb3aa1",
   "metadata": {},
   "outputs": [],
   "source": [
    "# 應該這麼寫\n",
    "Array = np.array([1, 2, 3])\n",
    "Array2 = List.copy()\n",
    "\n",
    "Array2[0] = 7"
   ]
  },
  {
   "cell_type": "code",
   "execution_count": 14,
   "id": "f8099331",
   "metadata": {},
   "outputs": [
    {
     "data": {
      "text/plain": [
       "array([1, 2, 3])"
      ]
     },
     "execution_count": 14,
     "metadata": {},
     "output_type": "execute_result"
    }
   ],
   "source": [
    "Array"
   ]
  },
  {
   "cell_type": "code",
   "execution_count": 15,
   "id": "887a41f1",
   "metadata": {},
   "outputs": [
    {
     "data": {
      "text/plain": [
       "[7, 2, 3]"
      ]
     },
     "execution_count": 15,
     "metadata": {},
     "output_type": "execute_result"
    }
   ],
   "source": [
    "Array2"
   ]
  }
 ],
 "metadata": {
  "kernelspec": {
   "display_name": "Python 3",
   "language": "python",
   "name": "python3"
  },
  "language_info": {
   "codemirror_mode": {
    "name": "ipython",
    "version": 3
   },
   "file_extension": ".py",
   "mimetype": "text/x-python",
   "name": "python",
   "nbconvert_exporter": "python",
   "pygments_lexer": "ipython3",
   "version": "3.6.13"
  }
 },
 "nbformat": 4,
 "nbformat_minor": 5
}
