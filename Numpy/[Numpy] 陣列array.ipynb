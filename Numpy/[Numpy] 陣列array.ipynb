{
 "cells": [
  {
   "cell_type": "code",
   "execution_count": 1,
   "id": "9b16d341",
   "metadata": {},
   "outputs": [],
   "source": [
    "import numpy as np"
   ]
  },
  {
   "cell_type": "markdown",
   "id": "9bcc6fbd",
   "metadata": {},
   "source": [
    "### 建立陣列array"
   ]
  },
  {
   "cell_type": "code",
   "execution_count": 2,
   "id": "1e206da5",
   "metadata": {},
   "outputs": [],
   "source": [
    "d1 = np.array([1, 2, 3, 4, 5])"
   ]
  },
  {
   "cell_type": "code",
   "execution_count": 3,
   "id": "84bce676",
   "metadata": {},
   "outputs": [],
   "source": [
    "d2 = np.array([[1, 2, 3, 4, 5], [1, 2, 3, 4, 5]])"
   ]
  },
  {
   "cell_type": "code",
   "execution_count": 4,
   "id": "78ffeffd",
   "metadata": {},
   "outputs": [
    {
     "data": {
      "text/plain": [
       "[1, 2, 3, 4, 5]"
      ]
     },
     "execution_count": 4,
     "metadata": {},
     "output_type": "execute_result"
    }
   ],
   "source": [
    "L = [1, 2, 3, 4, 5]\n",
    "L"
   ]
  },
  {
   "cell_type": "markdown",
   "id": "6c984173",
   "metadata": {},
   "source": [
    "### 維度ndim"
   ]
  },
  {
   "cell_type": "code",
   "execution_count": 5,
   "id": "ce362fbf",
   "metadata": {},
   "outputs": [
    {
     "data": {
      "text/plain": [
       "2"
      ]
     },
     "execution_count": 5,
     "metadata": {},
     "output_type": "execute_result"
    }
   ],
   "source": [
    "d2.ndim"
   ]
  },
  {
   "cell_type": "markdown",
   "id": "fc7e503f",
   "metadata": {},
   "source": [
    "### 數量shape"
   ]
  },
  {
   "cell_type": "code",
   "execution_count": 6,
   "id": "a80f8af4",
   "metadata": {},
   "outputs": [
    {
     "data": {
      "text/plain": [
       "(2, 5)"
      ]
     },
     "execution_count": 6,
     "metadata": {},
     "output_type": "execute_result"
    }
   ],
   "source": [
    "d2.shape"
   ]
  },
  {
   "cell_type": "code",
   "execution_count": 7,
   "id": "e391710d",
   "metadata": {},
   "outputs": [
    {
     "data": {
      "text/plain": [
       "2"
      ]
     },
     "execution_count": 7,
     "metadata": {},
     "output_type": "execute_result"
    }
   ],
   "source": [
    "d2.shape[0]"
   ]
  },
  {
   "cell_type": "markdown",
   "id": "d052a1ee",
   "metadata": {},
   "source": [
    "### 範圍range"
   ]
  },
  {
   "cell_type": "code",
   "execution_count": 8,
   "id": "85de86cf",
   "metadata": {},
   "outputs": [
    {
     "data": {
      "text/plain": [
       "array([0, 1, 2, 3, 4, 5, 6, 7, 8, 9])"
      ]
     },
     "execution_count": 8,
     "metadata": {},
     "output_type": "execute_result"
    }
   ],
   "source": [
    "np.arange(10)"
   ]
  },
  {
   "cell_type": "markdown",
   "id": "995638db",
   "metadata": {},
   "source": [
    "### 全0矩陣"
   ]
  },
  {
   "cell_type": "code",
   "execution_count": 9,
   "id": "db03e456",
   "metadata": {},
   "outputs": [
    {
     "data": {
      "text/plain": [
       "array([0., 0., 0., 0., 0.])"
      ]
     },
     "execution_count": 9,
     "metadata": {},
     "output_type": "execute_result"
    }
   ],
   "source": [
    "np.zeros([5])"
   ]
  },
  {
   "cell_type": "code",
   "execution_count": 10,
   "id": "d367f1e8",
   "metadata": {},
   "outputs": [
    {
     "data": {
      "text/plain": [
       "array([[0., 0.],\n",
       "       [0., 0.],\n",
       "       [0., 0.],\n",
       "       [0., 0.],\n",
       "       [0., 0.]])"
      ]
     },
     "execution_count": 10,
     "metadata": {},
     "output_type": "execute_result"
    }
   ],
   "source": [
    "np.zeros([5, 2])"
   ]
  },
  {
   "cell_type": "markdown",
   "id": "14f96834",
   "metadata": {},
   "source": [
    "### 全1矩陣"
   ]
  },
  {
   "cell_type": "code",
   "execution_count": 11,
   "id": "31eb1bcd",
   "metadata": {},
   "outputs": [
    {
     "data": {
      "text/plain": [
       "array([1., 1., 1., 1., 1.])"
      ]
     },
     "execution_count": 11,
     "metadata": {},
     "output_type": "execute_result"
    }
   ],
   "source": [
    "np.ones([5])"
   ]
  },
  {
   "cell_type": "code",
   "execution_count": 12,
   "id": "7da24a9a",
   "metadata": {},
   "outputs": [
    {
     "data": {
      "text/plain": [
       "array([[1., 1.],\n",
       "       [1., 1.],\n",
       "       [1., 1.],\n",
       "       [1., 1.],\n",
       "       [1., 1.]])"
      ]
     },
     "execution_count": 12,
     "metadata": {},
     "output_type": "execute_result"
    }
   ],
   "source": [
    "np.ones([5, 2])"
   ]
  },
  {
   "cell_type": "markdown",
   "id": "62502de5",
   "metadata": {},
   "source": [
    "### 全n矩陣"
   ]
  },
  {
   "cell_type": "code",
   "execution_count": 13,
   "id": "0f76cd2d",
   "metadata": {},
   "outputs": [
    {
     "data": {
      "text/plain": [
       "array([[-2., -2.],\n",
       "       [-2., -2.],\n",
       "       [-2., -2.],\n",
       "       [-2., -2.],\n",
       "       [-2., -2.]])"
      ]
     },
     "execution_count": 13,
     "metadata": {},
     "output_type": "execute_result"
    }
   ],
   "source": [
    "np.ones([5, 2])-3"
   ]
  },
  {
   "cell_type": "markdown",
   "id": "8cb04b17",
   "metadata": {},
   "source": [
    "### List<=>Numpy"
   ]
  },
  {
   "cell_type": "code",
   "execution_count": 14,
   "id": "97927cc6",
   "metadata": {},
   "outputs": [
    {
     "data": {
      "text/plain": [
       "[1, 2, 3, 4, 5]"
      ]
     },
     "execution_count": 14,
     "metadata": {},
     "output_type": "execute_result"
    }
   ],
   "source": [
    "d1.tolist()"
   ]
  },
  {
   "cell_type": "code",
   "execution_count": 15,
   "id": "e3df4316",
   "metadata": {},
   "outputs": [
    {
     "data": {
      "text/plain": [
       "array([1, 2, 3, 4, 5])"
      ]
     },
     "execution_count": 15,
     "metadata": {},
     "output_type": "execute_result"
    }
   ],
   "source": [
    "np.array(L)"
   ]
  },
  {
   "cell_type": "markdown",
   "id": "433f98e2",
   "metadata": {},
   "source": [
    "### 重塑reshape"
   ]
  },
  {
   "cell_type": "code",
   "execution_count": 16,
   "id": "3e30747b",
   "metadata": {},
   "outputs": [
    {
     "data": {
      "text/plain": [
       "array([ 0,  1,  2,  3,  4,  5,  6,  7,  8,  9, 10, 11])"
      ]
     },
     "execution_count": 16,
     "metadata": {},
     "output_type": "execute_result"
    }
   ],
   "source": [
    "data = np.arange(12)\n",
    "data"
   ]
  },
  {
   "cell_type": "code",
   "execution_count": 17,
   "id": "15b17b0c",
   "metadata": {},
   "outputs": [
    {
     "data": {
      "text/plain": [
       "array([[ 0,  1,  2],\n",
       "       [ 3,  4,  5],\n",
       "       [ 6,  7,  8],\n",
       "       [ 9, 10, 11]])"
      ]
     },
     "execution_count": 17,
     "metadata": {},
     "output_type": "execute_result"
    }
   ],
   "source": [
    "data.reshape(4, 3)"
   ]
  },
  {
   "cell_type": "code",
   "execution_count": 18,
   "id": "9443fcf6",
   "metadata": {},
   "outputs": [
    {
     "data": {
      "text/plain": [
       "array([[ 0,  1,  2,  3,  4,  5],\n",
       "       [ 6,  7,  8,  9, 10, 11]])"
      ]
     },
     "execution_count": 18,
     "metadata": {},
     "output_type": "execute_result"
    }
   ],
   "source": [
    "data.reshape(2, -1)"
   ]
  },
  {
   "cell_type": "markdown",
   "id": "4c51511c",
   "metadata": {},
   "source": [
    "### 轉置"
   ]
  },
  {
   "cell_type": "code",
   "execution_count": 19,
   "id": "4212f838",
   "metadata": {},
   "outputs": [
    {
     "data": {
      "text/plain": [
       "array([[ 0,  1,  2],\n",
       "       [ 3,  4,  5],\n",
       "       [ 6,  7,  8],\n",
       "       [ 9, 10, 11]])"
      ]
     },
     "execution_count": 19,
     "metadata": {},
     "output_type": "execute_result"
    }
   ],
   "source": [
    "data = np.arange(12).reshape(4, 3)\n",
    "data"
   ]
  },
  {
   "cell_type": "code",
   "execution_count": 20,
   "id": "44681c54",
   "metadata": {},
   "outputs": [
    {
     "data": {
      "text/plain": [
       "array([[ 0,  3,  6,  9],\n",
       "       [ 1,  4,  7, 10],\n",
       "       [ 2,  5,  8, 11]])"
      ]
     },
     "execution_count": 20,
     "metadata": {},
     "output_type": "execute_result"
    }
   ],
   "source": [
    "data.T"
   ]
  },
  {
   "cell_type": "code",
   "execution_count": null,
   "id": "436aa8a4",
   "metadata": {},
   "outputs": [],
   "source": []
  }
 ],
 "metadata": {
  "kernelspec": {
   "display_name": "Python 3",
   "language": "python",
   "name": "python3"
  },
  "language_info": {
   "codemirror_mode": {
    "name": "ipython",
    "version": 3
   },
   "file_extension": ".py",
   "mimetype": "text/x-python",
   "name": "python",
   "nbconvert_exporter": "python",
   "pygments_lexer": "ipython3",
   "version": "3.6.13"
  }
 },
 "nbformat": 4,
 "nbformat_minor": 5
}
